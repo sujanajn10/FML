{
  "cells": [
    {
      "cell_type": "code",
      "execution_count": null,
      "metadata": {
        "colab": {
          "base_uri": "https://localhost:8080/"
        },
        "id": "PUYsmhEXPIMQ",
        "outputId": "3d7e8ae4-e155-4376-df02-cecab72b8a40"
      },
      "outputs": [
        {
          "name": "stdout",
          "output_type": "stream",
          "text": [
            "enter a number3\n",
            "two or more\n"
          ]
        }
      ],
      "source": [
        "x=int(input('enter a number'))\n",
        "if x<2 :\n",
        "  print('below 2')\n",
        "elif x>=2 :\n",
        "  print('two or more')\n",
        "else :\n",
        "    print('something else')\n"
      ]
    },
    {
      "cell_type": "code",
      "execution_count": null,
      "metadata": {
        "id": "ZPN2xZkEQIUG"
      },
      "outputs": [],
      "source": [
        "if x<2 :\n",
        "  print ('below 20')\n",
        "elif x<20 :\n",
        "  print('below 20')\n",
        "elif x<10 :\n",
        "  print('below 10')\n",
        "else :\n",
        "  print(\"something else\")\n"
      ]
    },
    {
      "cell_type": "code",
      "execution_count": null,
      "metadata": {
        "colab": {
          "background_save": true,
          "base_uri": "https://localhost:8080/"
        },
        "id": "plVcW7saQ1GD",
        "outputId": "31e22933-0aa8-4325-f4af-9f30a464b2b1"
      },
      "outputs": [
        {
          "name": "stdout",
          "output_type": "stream",
          "text": [
            "enter a valid number\n"
          ]
        },
        {
          "ename": "NameError",
          "evalue": "ignored",
          "output_type": "error",
          "traceback": [
            "\u001b[0;31m---------------------------------------------------------------------------\u001b[0m",
            "\u001b[0;31mNameError\u001b[0m                                 Traceback (most recent call last)",
            "\u001b[0;32m<ipython-input-8-59c4c66495ea>\u001b[0m in \u001b[0;36m<cell line: 9>\u001b[0;34m()\u001b[0m\n\u001b[1;32m      7\u001b[0m         \u001b[0mprint\u001b[0m\u001b[0;34m(\u001b[0m\u001b[0;34m\"enter a valid number\"\u001b[0m\u001b[0;34m)\u001b[0m\u001b[0;34m\u001b[0m\u001b[0;34m\u001b[0m\u001b[0m\n\u001b[1;32m      8\u001b[0m \u001b[0;34m\u001b[0m\u001b[0m\n\u001b[0;32m----> 9\u001b[0;31m \u001b[0mpay\u001b[0m\u001b[0;34m=\u001b[0m\u001b[0mhours\u001b[0m\u001b[0;34m*\u001b[0m\u001b[0mRate\u001b[0m\u001b[0;34m\u001b[0m\u001b[0;34m\u001b[0m\u001b[0m\n\u001b[0m\u001b[1;32m     10\u001b[0m \u001b[0mprint\u001b[0m\u001b[0;34m(\u001b[0m\u001b[0;34m'pay:'\u001b[0m\u001b[0;34m,\u001b[0m\u001b[0mpay\u001b[0m\u001b[0;34m)\u001b[0m\u001b[0;34m\u001b[0m\u001b[0;34m\u001b[0m\u001b[0m\n",
            "\u001b[0;31mNameError\u001b[0m: name 'hours' is not defined"
          ]
        }
      ],
      "source": [
        "try :\n",
        "\n",
        " hours=float(input(\"enter hours\"))\n",
        " Rate=float(input(\"enter rate\"))\n",
        "\n",
        "except :\n",
        "        print(\"enter a valid number\")\n",
        "\n",
        "pay=hours*Rate\n",
        "print('pay:',pay)"
      ]
    }
  ],
  "metadata": {
    "colab": {
      "provenance": []
    },
    "kernelspec": {
      "display_name": "Python 3",
      "name": "python3"
    },
    "language_info": {
      "name": "python"
    }
  },
  "nbformat": 4,
  "nbformat_minor": 0
}