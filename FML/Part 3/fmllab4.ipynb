{
  "nbformat": 4,
  "nbformat_minor": 0,
  "metadata": {
    "colab": {
      "provenance": []
    },
    "kernelspec": {
      "name": "python3",
      "display_name": "Python 3"
    },
    "language_info": {
      "name": "python"
    }
  },
  "cells": [
    {
      "cell_type": "code",
      "execution_count": null,
      "metadata": {
        "colab": {
          "base_uri": "https://localhost:8080/"
        },
        "id": "tYxcq_HQWVEx",
        "outputId": "6d3dad1c-37b9-44f4-802d-95d1c7ce10c0"
      },
      "outputs": [
        {
          "output_type": "execute_result",
          "data": {
            "text/plain": [
              "array(['a', 'b', 'c', 'd'], dtype='<U1')"
            ]
          },
          "metadata": {},
          "execution_count": 2
        }
      ],
      "source": [
        "import pandas as pd\n",
        "import numpy as np\n",
        "data=np.array(['a','b','c','d'])\n",
        "data"
      ]
    },
    {
      "cell_type": "code",
      "source": [
        "import pandas as pd\n",
        "import numpy as np\n",
        "\n",
        "\n",
        "\n",
        "\n",
        "\n",
        "data=np.array(['a','b','c','d'])\n",
        "s=pd.Series(data,index=[100,101,102,103])\n",
        "print(s)"
      ],
      "metadata": {
        "colab": {
          "base_uri": "https://localhost:8080/"
        },
        "id": "TDI5us5fXL1X",
        "outputId": "0635a28d-5b18-46e1-cbcc-ad695ba3b12e"
      },
      "execution_count": null,
      "outputs": [
        {
          "output_type": "stream",
          "name": "stdout",
          "text": [
            "100    a\n",
            "101    b\n",
            "102    c\n",
            "103    d\n",
            "dtype: object\n"
          ]
        }
      ]
    },
    {
      "cell_type": "code",
      "source": [
        "import pandas as pd\n",
        "import numpy as np\n",
        "data={'1b':1 ,'a1':0,'c':2}\n",
        "s=pd.Series(data,index=['b','c','d','a'])\n",
        "print(s)"
      ],
      "metadata": {
        "colab": {
          "base_uri": "https://localhost:8080/"
        },
        "id": "x1hTJ5F2X9CE",
        "outputId": "96a4dc25-e262-4df2-d265-c929b2bad0ba"
      },
      "execution_count": null,
      "outputs": [
        {
          "output_type": "stream",
          "name": "stdout",
          "text": [
            "b    NaN\n",
            "c    2.0\n",
            "d    NaN\n",
            "a    NaN\n",
            "dtype: float64\n"
          ]
        }
      ]
    },
    {
      "cell_type": "code",
      "source": [
        "import pandas as pd\n",
        "import numpy as np\n",
        "s=pd.Series(5, index=[0,1,2,3])\n",
        "print(s)"
      ],
      "metadata": {
        "colab": {
          "base_uri": "https://localhost:8080/"
        },
        "id": "lOobtIrpYmo9",
        "outputId": "66430a64-fd6b-4cfe-81d1-0c0c19703a18"
      },
      "execution_count": null,
      "outputs": [
        {
          "output_type": "stream",
          "name": "stdout",
          "text": [
            "0    5\n",
            "1    5\n",
            "2    5\n",
            "3    5\n",
            "dtype: int64\n"
          ]
        }
      ]
    },
    {
      "cell_type": "code",
      "source": [
        "import pandas as pd\n",
        "import numpy as np\n",
        "s=pd.Series([1,2,3,4,5],index=['a','b','c','d','e'])\n",
        "print(s[3])"
      ],
      "metadata": {
        "colab": {
          "base_uri": "https://localhost:8080/"
        },
        "id": "80AIE2PJZFH_",
        "outputId": "97077226-d2de-440a-f2b2-b6956d5182ed"
      },
      "execution_count": null,
      "outputs": [
        {
          "output_type": "stream",
          "name": "stdout",
          "text": [
            "4\n"
          ]
        }
      ]
    },
    {
      "cell_type": "code",
      "source": [
        "import pandas as pd\n",
        "import numpy as np\n",
        "s=pd.Series([1,2,3,4,5],index=['a','b','c','d','e'])\n",
        "print(s[:3])"
      ],
      "metadata": {
        "colab": {
          "base_uri": "https://localhost:8080/"
        },
        "id": "5Lm0N3r7Zqo8",
        "outputId": "b33015b9-5840-4653-989e-d2a30c68eea3"
      },
      "execution_count": null,
      "outputs": [
        {
          "output_type": "stream",
          "name": "stdout",
          "text": [
            "a    1\n",
            "b    2\n",
            "c    3\n",
            "dtype: int64\n"
          ]
        }
      ]
    },
    {
      "cell_type": "code",
      "source": [
        "import pandas as pd\n",
        "import numpy as np\n",
        "s=pd.Series([1,2,3,4,5],index=['a','b','c','d','e'])\n",
        "print(s[-3:])"
      ],
      "metadata": {
        "colab": {
          "base_uri": "https://localhost:8080/"
        },
        "id": "Xv8QREYWZz4v",
        "outputId": "addd35dd-31dc-474d-e762-577011b70d6a"
      },
      "execution_count": null,
      "outputs": [
        {
          "output_type": "stream",
          "name": "stdout",
          "text": [
            "c    3\n",
            "d    4\n",
            "e    5\n",
            "dtype: int64\n"
          ]
        }
      ]
    },
    {
      "cell_type": "code",
      "source": [
        "import pandas as pd\n",
        "import numpy as np\n",
        "s=pd.Series([1,2,3,4,5],index=['a','b','c','d','e'])\n",
        "print(s['a'])"
      ],
      "metadata": {
        "colab": {
          "base_uri": "https://localhost:8080/"
        },
        "id": "qNvgl939aCBW",
        "outputId": "39f11bc0-e3ad-4e19-8ccb-7f11abfcabd1"
      },
      "execution_count": null,
      "outputs": [
        {
          "output_type": "stream",
          "name": "stdout",
          "text": [
            "1\n"
          ]
        }
      ]
    },
    {
      "cell_type": "code",
      "source": [
        "import numpy as np\n",
        "old=np.array([[1,1,1],[1,1,1]])\n",
        "\n",
        "new=old\n",
        "new[0:2,0:2]\n"
      ],
      "metadata": {
        "colab": {
          "base_uri": "https://localhost:8080/"
        },
        "id": "ii3qBXwDahDQ",
        "outputId": "0ec9b7e1-3cee-4106-8d49-996699ebe2bd"
      },
      "execution_count": null,
      "outputs": [
        {
          "output_type": "execute_result",
          "data": {
            "text/plain": [
              "array([[1, 1],\n",
              "       [1, 1]])"
            ]
          },
          "metadata": {},
          "execution_count": 15
        }
      ]
    },
    {
      "cell_type": "code",
      "source": [
        "animals=['Tiger','bear',None]\n",
        "pd.Series(animals)"
      ],
      "metadata": {
        "colab": {
          "base_uri": "https://localhost:8080/"
        },
        "id": "T6GLLPj6bCMS",
        "outputId": "833eefb2-23ee-4d94-bcd7-aa5d3b581eff"
      },
      "execution_count": null,
      "outputs": [
        {
          "output_type": "execute_result",
          "data": {
            "text/plain": [
              "0    Tiger\n",
              "1     bear\n",
              "2     None\n",
              "dtype: object"
            ]
          },
          "metadata": {},
          "execution_count": 16
        }
      ]
    },
    {
      "cell_type": "code",
      "source": [
        "numbers=[1,2,None]\n",
        "pd.Series(numbers)"
      ],
      "metadata": {
        "colab": {
          "base_uri": "https://localhost:8080/"
        },
        "id": "pvi82dtubgU8",
        "outputId": "5b4e53d6-24cc-4bef-a2ef-a0ea906be7dc"
      },
      "execution_count": null,
      "outputs": [
        {
          "output_type": "execute_result",
          "data": {
            "text/plain": [
              "0    1.0\n",
              "1    2.0\n",
              "2    NaN\n",
              "dtype: float64"
            ]
          },
          "metadata": {},
          "execution_count": 17
        }
      ]
    },
    {
      "cell_type": "code",
      "source": [
        "import numpy as np\n",
        "np.nan==None\n"
      ],
      "metadata": {
        "colab": {
          "base_uri": "https://localhost:8080/"
        },
        "id": "EWYWY6W7bwFb",
        "outputId": "7645fb7e-c5d7-497e-9972-43d6c9e7b250"
      },
      "execution_count": null,
      "outputs": [
        {
          "output_type": "execute_result",
          "data": {
            "text/plain": [
              "False"
            ]
          },
          "metadata": {},
          "execution_count": 18
        }
      ]
    },
    {
      "cell_type": "code",
      "source": [
        "np.nan==np.nan"
      ],
      "metadata": {
        "colab": {
          "base_uri": "https://localhost:8080/"
        },
        "id": "eCnLh6Lncaye",
        "outputId": "a95f2ef1-338e-45fb-ab7f-128ae6a06d65"
      },
      "execution_count": null,
      "outputs": [
        {
          "output_type": "execute_result",
          "data": {
            "text/plain": [
              "False"
            ]
          },
          "metadata": {},
          "execution_count": 20
        }
      ]
    },
    {
      "cell_type": "code",
      "source": [
        "sports={'Cricket':'india',\n",
        "        'Golf':'Sotland',\n",
        "        'sumo':'japan',\n",
        "        'taekwondo':'sk'}\n",
        "\n",
        "s=pd.Series(sports,index=['golf','sumo','Hockey'])\n",
        "print(s)\n",
        "\n"
      ],
      "metadata": {
        "colab": {
          "base_uri": "https://localhost:8080/"
        },
        "id": "EJrNhdS9cyr_",
        "outputId": "fb378c17-2134-4d04-853d-f9d6c8fadff8"
      },
      "execution_count": null,
      "outputs": [
        {
          "output_type": "stream",
          "name": "stdout",
          "text": [
            "golf        NaN\n",
            "sumo      japan\n",
            "Hockey      NaN\n",
            "dtype: object\n"
          ]
        }
      ]
    },
    {
      "cell_type": "code",
      "source": [
        "sports={'Cricket':'india',\n",
        "        'Golf':'Sotland',\n",
        "        'sumo':'japan',\n",
        "        'taekwondo':'sk'}\n",
        "\n",
        "s=pd.Series(sports,index=['golf','sumo','Hockey'])\n",
        "print(s)"
      ],
      "metadata": {
        "id": "sq5CAkijepu6",
        "colab": {
          "base_uri": "https://localhost:8080/"
        },
        "outputId": "c6b88c9b-a211-4d7d-9e98-6bd55631e1e1"
      },
      "execution_count": null,
      "outputs": [
        {
          "output_type": "stream",
          "name": "stdout",
          "text": [
            "golf        NaN\n",
            "sumo      japan\n",
            "Hockey      NaN\n",
            "dtype: object\n"
          ]
        }
      ]
    },
    {
      "cell_type": "code",
      "source": [
        "sports={'Cricket':'india',\n",
        "        'Golf':'Sotland',\n",
        "        'sumo':'japan',\n",
        "        'taekwondo':'sk'}\n",
        "\n",
        "s=pd.Series(sports)\n",
        "print(s)"
      ],
      "metadata": {
        "id": "2yvDaOspepyX",
        "colab": {
          "base_uri": "https://localhost:8080/"
        },
        "outputId": "4a952d2b-4eca-463b-e163-a63cf3597d90"
      },
      "execution_count": null,
      "outputs": [
        {
          "output_type": "stream",
          "name": "stdout",
          "text": [
            "Cricket        india\n",
            "Golf         Sotland\n",
            "sumo           japan\n",
            "taekwondo         sk\n",
            "dtype: object\n"
          ]
        }
      ]
    },
    {
      "cell_type": "code",
      "source": [
        "s.iloc[3]"
      ],
      "metadata": {
        "colab": {
          "base_uri": "https://localhost:8080/",
          "height": 36
        },
        "id": "RtYh-ixTiDWF",
        "outputId": "2c425041-7961-49ad-c199-5eaad329552e"
      },
      "execution_count": null,
      "outputs": [
        {
          "output_type": "execute_result",
          "data": {
            "text/plain": [
              "'sk'"
            ],
            "application/vnd.google.colaboratory.intrinsic+json": {
              "type": "string"
            }
          },
          "metadata": {},
          "execution_count": 25
        }
      ]
    },
    {
      "cell_type": "code",
      "source": [
        "s.loc['taekwondo']"
      ],
      "metadata": {
        "colab": {
          "base_uri": "https://localhost:8080/",
          "height": 36
        },
        "id": "tzTa0CjAiIJN",
        "outputId": "24ce5506-cf7f-4627-fccf-433f94e51479"
      },
      "execution_count": null,
      "outputs": [
        {
          "output_type": "execute_result",
          "data": {
            "text/plain": [
              "'sk'"
            ],
            "application/vnd.google.colaboratory.intrinsic+json": {
              "type": "string"
            }
          },
          "metadata": {},
          "execution_count": 28
        }
      ]
    },
    {
      "cell_type": "code",
      "source": [
        "sports={99:'india',\n",
        "        100:'Sotland',\n",
        "        101:'japan',\n",
        "        102:'sk'}\n",
        "\n",
        "s=pd.Series(sports)\n"
      ],
      "metadata": {
        "colab": {
          "base_uri": "https://localhost:8080/",
          "height": 36
        },
        "id": "WEf5ChBTjFv-",
        "outputId": "3d4eafd1-0039-4b73-f7ce-4e3798f8906c"
      },
      "execution_count": null,
      "outputs": [
        {
          "output_type": "execute_result",
          "data": {
            "text/plain": [
              "'japan'"
            ],
            "application/vnd.google.colaboratory.intrinsic+json": {
              "type": "string"
            }
          },
          "metadata": {},
          "execution_count": 29
        }
      ]
    },
    {
      "cell_type": "code",
      "source": [
        "s[101]"
      ],
      "metadata": {
        "colab": {
          "base_uri": "https://localhost:8080/",
          "height": 36
        },
        "id": "vTGxPUz4jhwO",
        "outputId": "1619f7e5-1f63-4878-cdcf-cc42b13255e6"
      },
      "execution_count": null,
      "outputs": [
        {
          "output_type": "execute_result",
          "data": {
            "text/plain": [
              "'japan'"
            ],
            "application/vnd.google.colaboratory.intrinsic+json": {
              "type": "string"
            }
          },
          "metadata": {},
          "execution_count": 30
        }
      ]
    },
    {
      "cell_type": "code",
      "source": [
        "s=pd.Series(np.random.randint(0,1000,10000))\n",
        "s.head()\n"
      ],
      "metadata": {
        "colab": {
          "base_uri": "https://localhost:8080/"
        },
        "id": "TiJIBr_aldPm",
        "outputId": "aaeb9d21-6319-4da2-8965-f92f8b85f1c1"
      },
      "execution_count": null,
      "outputs": [
        {
          "output_type": "execute_result",
          "data": {
            "text/plain": [
              "0    623\n",
              "1    813\n",
              "2    352\n",
              "3    889\n",
              "4    265\n",
              "dtype: int64"
            ]
          },
          "metadata": {},
          "execution_count": 32
        }
      ]
    },
    {
      "cell_type": "code",
      "source": [
        "len(s)"
      ],
      "metadata": {
        "colab": {
          "base_uri": "https://localhost:8080/"
        },
        "id": "tc5Hr58nlsg9",
        "outputId": "fffc51db-174a-4ac9-cd92-8c2d07d452c6"
      },
      "execution_count": null,
      "outputs": [
        {
          "output_type": "execute_result",
          "data": {
            "text/plain": [
              "10000"
            ]
          },
          "metadata": {},
          "execution_count": 33
        }
      ]
    },
    {
      "cell_type": "code",
      "source": [
        "%%timeit -n 100\n",
        "summary=0\n",
        "for item in s:\n",
        "  summary+=item"
      ],
      "metadata": {
        "colab": {
          "base_uri": "https://localhost:8080/"
        },
        "id": "nUdls8RMlvVO",
        "outputId": "cfc97dd3-80f4-4bfa-9a8d-688f1723e727"
      },
      "execution_count": null,
      "outputs": [
        {
          "output_type": "stream",
          "name": "stdout",
          "text": [
            "1.36 ms ± 50.8 µs per loop (mean ± std. dev. of 7 runs, 100 loops each)\n"
          ]
        }
      ]
    },
    {
      "cell_type": "code",
      "source": [
        "import pandas as pd\n",
        "\n",
        "purchase_1=pd.Series({'Name':'Chris',\n",
        "                      'item Purchased':'Milk',\n",
        "                      'cost':22.50})\n",
        "purchase_2=pd.Series({'Name':'kavin',\n",
        "                      'item Purchased':'coffe',\n",
        "                      'cost':12.50})\n",
        "purchase_3=pd.Series({'Name':'sam',\n",
        "                      'item Purchased':'suagr',\n",
        "                      'cost':10.50})\n",
        "\n",
        "df=pd.DataFrame([purchase_1,purchase_2,purchase_3],\n",
        "                index=['store 1','store 1','store 2'])\n",
        "df.head()\n",
        "\n"
      ],
      "metadata": {
        "colab": {
          "base_uri": "https://localhost:8080/",
          "height": 1535
        },
        "id": "YgBODxKbo8s-",
        "outputId": "3a0cd5bb-3905-45ec-da05-505c3c0ae288"
      },
      "execution_count": null,
      "outputs": [
        {
          "output_type": "execute_result",
          "data": {
            "text/plain": [
              "          Name item Purchased  cost\n",
              "store 1  Chris           Milk  22.5\n",
              "store 1  kavin          coffe  12.5\n",
              "store 2    sam          suagr  10.5"
            ],
            "text/html": [
              "\n",
              "  <div id=\"df-9a9eb304-1d5e-4b46-925c-3a2f5d6da2af\" class=\"colab-df-container\">\n",
              "    <div>\n",
              "<style scoped>\n",
              "    .dataframe tbody tr th:only-of-type {\n",
              "        vertical-align: middle;\n",
              "    }\n",
              "\n",
              "    .dataframe tbody tr th {\n",
              "        vertical-align: top;\n",
              "    }\n",
              "\n",
              "    .dataframe thead th {\n",
              "        text-align: right;\n",
              "    }\n",
              "</style>\n",
              "<table border=\"1\" class=\"dataframe\">\n",
              "  <thead>\n",
              "    <tr style=\"text-align: right;\">\n",
              "      <th></th>\n",
              "      <th>Name</th>\n",
              "      <th>item Purchased</th>\n",
              "      <th>cost</th>\n",
              "    </tr>\n",
              "  </thead>\n",
              "  <tbody>\n",
              "    <tr>\n",
              "      <th>store 1</th>\n",
              "      <td>Chris</td>\n",
              "      <td>Milk</td>\n",
              "      <td>22.5</td>\n",
              "    </tr>\n",
              "    <tr>\n",
              "      <th>store 1</th>\n",
              "      <td>kavin</td>\n",
              "      <td>coffe</td>\n",
              "      <td>12.5</td>\n",
              "    </tr>\n",
              "    <tr>\n",
              "      <th>store 2</th>\n",
              "      <td>sam</td>\n",
              "      <td>suagr</td>\n",
              "      <td>10.5</td>\n",
              "    </tr>\n",
              "  </tbody>\n",
              "</table>\n",
              "</div>\n",
              "    <div class=\"colab-df-buttons\">\n",
              "\n",
              "  <div class=\"colab-df-container\">\n",
              "    <button class=\"colab-df-convert\" onclick=\"convertToInteractive('df-9a9eb304-1d5e-4b46-925c-3a2f5d6da2af')\"\n",
              "            title=\"Convert this dataframe to an interactive table.\"\n",
              "            style=\"display:none;\">\n",
              "\n",
              "  <svg xmlns=\"http://www.w3.org/2000/svg\" height=\"24px\" viewBox=\"0 -960 960 960\">\n",
              "    <path d=\"M120-120v-720h720v720H120Zm60-500h600v-160H180v160Zm220 220h160v-160H400v160Zm0 220h160v-160H400v160ZM180-400h160v-160H180v160Zm440 0h160v-160H620v160ZM180-180h160v-160H180v160Zm440 0h160v-160H620v160Z\"/>\n",
              "  </svg>\n",
              "    </button>\n",
              "\n",
              "  <style>\n",
              "    .colab-df-container {\n",
              "      display:flex;\n",
              "      gap: 12px;\n",
              "    }\n",
              "\n",
              "    .colab-df-convert {\n",
              "      background-color: #E8F0FE;\n",
              "      border: none;\n",
              "      border-radius: 50%;\n",
              "      cursor: pointer;\n",
              "      display: none;\n",
              "      fill: #1967D2;\n",
              "      height: 32px;\n",
              "      padding: 0 0 0 0;\n",
              "      width: 32px;\n",
              "    }\n",
              "\n",
              "    .colab-df-convert:hover {\n",
              "      background-color: #E2EBFA;\n",
              "      box-shadow: 0px 1px 2px rgba(60, 64, 67, 0.3), 0px 1px 3px 1px rgba(60, 64, 67, 0.15);\n",
              "      fill: #174EA6;\n",
              "    }\n",
              "\n",
              "    .colab-df-buttons div {\n",
              "      margin-bottom: 4px;\n",
              "    }\n",
              "\n",
              "    [theme=dark] .colab-df-convert {\n",
              "      background-color: #3B4455;\n",
              "      fill: #D2E3FC;\n",
              "    }\n",
              "\n",
              "    [theme=dark] .colab-df-convert:hover {\n",
              "      background-color: #434B5C;\n",
              "      box-shadow: 0px 1px 3px 1px rgba(0, 0, 0, 0.15);\n",
              "      filter: drop-shadow(0px 1px 2px rgba(0, 0, 0, 0.3));\n",
              "      fill: #FFFFFF;\n",
              "    }\n",
              "  </style>\n",
              "\n",
              "    <script>\n",
              "      const buttonEl =\n",
              "        document.querySelector('#df-9a9eb304-1d5e-4b46-925c-3a2f5d6da2af button.colab-df-convert');\n",
              "      buttonEl.style.display =\n",
              "        google.colab.kernel.accessAllowed ? 'block' : 'none';\n",
              "\n",
              "      async function convertToInteractive(key) {\n",
              "        const element = document.querySelector('#df-9a9eb304-1d5e-4b46-925c-3a2f5d6da2af');\n",
              "        const dataTable =\n",
              "          await google.colab.kernel.invokeFunction('convertToInteractive',\n",
              "                                                    [key], {});\n",
              "        if (!dataTable) return;\n",
              "\n",
              "        const docLinkHtml = 'Like what you see? Visit the ' +\n",
              "          '<a target=\"_blank\" href=https://colab.research.google.com/notebooks/data_table.ipynb>data table notebook</a>'\n",
              "          + ' to learn more about interactive tables.';\n",
              "        element.innerHTML = '';\n",
              "        dataTable['output_type'] = 'display_data';\n",
              "        await google.colab.output.renderOutput(dataTable, element);\n",
              "        const docLink = document.createElement('div');\n",
              "        docLink.innerHTML = docLinkHtml;\n",
              "        element.appendChild(docLink);\n",
              "      }\n",
              "    </script>\n",
              "  </div>\n",
              "\n",
              "\n",
              "<div id=\"df-92545cd7-84d6-44a2-893e-ee4695ca9d84\">\n",
              "  <button class=\"colab-df-quickchart\" onclick=\"quickchart('df-92545cd7-84d6-44a2-893e-ee4695ca9d84')\"\n",
              "            title=\"Suggest charts.\"\n",
              "            style=\"display:none;\">\n",
              "\n",
              "<svg xmlns=\"http://www.w3.org/2000/svg\" height=\"24px\"viewBox=\"0 0 24 24\"\n",
              "     width=\"24px\">\n",
              "    <g>\n",
              "        <path d=\"M19 3H5c-1.1 0-2 .9-2 2v14c0 1.1.9 2 2 2h14c1.1 0 2-.9 2-2V5c0-1.1-.9-2-2-2zM9 17H7v-7h2v7zm4 0h-2V7h2v10zm4 0h-2v-4h2v4z\"/>\n",
              "    </g>\n",
              "</svg>\n",
              "  </button>\n",
              "\n",
              "<style>\n",
              "  .colab-df-quickchart {\n",
              "      --bg-color: #E8F0FE;\n",
              "      --fill-color: #1967D2;\n",
              "      --hover-bg-color: #E2EBFA;\n",
              "      --hover-fill-color: #174EA6;\n",
              "      --disabled-fill-color: #AAA;\n",
              "      --disabled-bg-color: #DDD;\n",
              "  }\n",
              "\n",
              "  [theme=dark] .colab-df-quickchart {\n",
              "      --bg-color: #3B4455;\n",
              "      --fill-color: #D2E3FC;\n",
              "      --hover-bg-color: #434B5C;\n",
              "      --hover-fill-color: #FFFFFF;\n",
              "      --disabled-bg-color: #3B4455;\n",
              "      --disabled-fill-color: #666;\n",
              "  }\n",
              "\n",
              "  .colab-df-quickchart {\n",
              "    background-color: var(--bg-color);\n",
              "    border: none;\n",
              "    border-radius: 50%;\n",
              "    cursor: pointer;\n",
              "    display: none;\n",
              "    fill: var(--fill-color);\n",
              "    height: 32px;\n",
              "    padding: 0;\n",
              "    width: 32px;\n",
              "  }\n",
              "\n",
              "  .colab-df-quickchart:hover {\n",
              "    background-color: var(--hover-bg-color);\n",
              "    box-shadow: 0 1px 2px rgba(60, 64, 67, 0.3), 0 1px 3px 1px rgba(60, 64, 67, 0.15);\n",
              "    fill: var(--button-hover-fill-color);\n",
              "  }\n",
              "\n",
              "  .colab-df-quickchart-complete:disabled,\n",
              "  .colab-df-quickchart-complete:disabled:hover {\n",
              "    background-color: var(--disabled-bg-color);\n",
              "    fill: var(--disabled-fill-color);\n",
              "    box-shadow: none;\n",
              "  }\n",
              "\n",
              "  .colab-df-spinner {\n",
              "    border: 2px solid var(--fill-color);\n",
              "    border-color: transparent;\n",
              "    border-bottom-color: var(--fill-color);\n",
              "    animation:\n",
              "      spin 1s steps(1) infinite;\n",
              "  }\n",
              "\n",
              "  @keyframes spin {\n",
              "    0% {\n",
              "      border-color: transparent;\n",
              "      border-bottom-color: var(--fill-color);\n",
              "      border-left-color: var(--fill-color);\n",
              "    }\n",
              "    20% {\n",
              "      border-color: transparent;\n",
              "      border-left-color: var(--fill-color);\n",
              "      border-top-color: var(--fill-color);\n",
              "    }\n",
              "    30% {\n",
              "      border-color: transparent;\n",
              "      border-left-color: var(--fill-color);\n",
              "      border-top-color: var(--fill-color);\n",
              "      border-right-color: var(--fill-color);\n",
              "    }\n",
              "    40% {\n",
              "      border-color: transparent;\n",
              "      border-right-color: var(--fill-color);\n",
              "      border-top-color: var(--fill-color);\n",
              "    }\n",
              "    60% {\n",
              "      border-color: transparent;\n",
              "      border-right-color: var(--fill-color);\n",
              "    }\n",
              "    80% {\n",
              "      border-color: transparent;\n",
              "      border-right-color: var(--fill-color);\n",
              "      border-bottom-color: var(--fill-color);\n",
              "    }\n",
              "    90% {\n",
              "      border-color: transparent;\n",
              "      border-bottom-color: var(--fill-color);\n",
              "    }\n",
              "  }\n",
              "</style>\n",
              "\n",
              "  <script>\n",
              "    async function quickchart(key) {\n",
              "      const quickchartButtonEl =\n",
              "        document.querySelector('#' + key + ' button');\n",
              "      quickchartButtonEl.disabled = true;  // To prevent multiple clicks.\n",
              "      quickchartButtonEl.classList.add('colab-df-spinner');\n",
              "      try {\n",
              "        const charts = await google.colab.kernel.invokeFunction(\n",
              "            'suggestCharts', [key], {});\n",
              "      } catch (error) {\n",
              "        console.error('Error during call to suggestCharts:', error);\n",
              "      }\n",
              "      quickchartButtonEl.classList.remove('colab-df-spinner');\n",
              "      quickchartButtonEl.classList.add('colab-df-quickchart-complete');\n",
              "    }\n",
              "    (() => {\n",
              "      let quickchartButtonEl =\n",
              "        document.querySelector('#df-92545cd7-84d6-44a2-893e-ee4695ca9d84 button');\n",
              "      quickchartButtonEl.style.display =\n",
              "        google.colab.kernel.accessAllowed ? 'block' : 'none';\n",
              "    })();\n",
              "  </script>\n",
              "</div>\n",
              "    </div>\n",
              "  </div>\n"
            ]
          },
          "metadata": {},
          "execution_count": 40
        },
        {
          "output_type": "display_data",
          "data": {
            "text/plain": [
              "<google.colab._quickchart_helpers.SectionTitle at 0x77fc6ec12770>"
            ],
            "text/html": [
              "<h4 class=\"colab-quickchart-section-title\">Values</h4>\n",
              "<style>\n",
              "  .colab-quickchart-section-title {\n",
              "      clear: both;\n",
              "  }\n",
              "</style>"
            ]
          },
          "metadata": {}
        },
        {
          "output_type": "display_data",
          "data": {
            "text/plain": [
              "import numpy as np\n",
              "from google.colab import autoviz\n",
              "\n",
              "def value_plot(df, y, figscale=1):\n",
              "  from matplotlib import pyplot as plt\n",
              "  df[y].plot(kind='line', figsize=(8 * figscale, 4 * figscale), title=y)\n",
              "  plt.gca().spines[['top', 'right']].set_visible(False)\n",
              "  plt.tight_layout()\n",
              "  return autoviz.MplChart.from_current_mpl_state()\n",
              "\n",
              "chart = value_plot(_df_0, *['cost'], **{})\n",
              "chart"
            ],
            "text/html": [
              "      <div class=\"colab-quickchart-chart-with-code\" id=\"chart-4c6f6310-c668-4af7-a537-f0c4b45e7b82\">\n",
              "        <img src=\"data:image/png;base64,iVBORw0KGgoAAAANSUhEUgAAAYoAAADECAYAAACBW2a4AAAAOXRFWHRTb2Z0d2FyZQBNYXRwbG90\n",
              "bGliIHZlcnNpb24zLjcuMSwgaHR0cHM6Ly9tYXRwbG90bGliLm9yZy/bCgiHAAAACXBIWXMAAA9h\n",
              "AAAPYQGoP6dpAAAkBElEQVR4nO3deVxU9cIG8OfMDAwMyyCIILKJiKYioEmYimmpaKlUmrZZKYrX\n",
              "kox7s7ypvXl7xfumJOX1qmVqG2pqRaWWO5jmjpUmCrGIsgjIDsN23j8GR6eB0WEbBp7v53M+wtnm\n",
              "N93R555z5jxHEEVRBBERUSMkxh4AERG1bwwKIiLSi0FBRER6MSiIiEgvBgUREenFoCAiIr0YFERE\n",
              "pBeDgoiI9GJQEBGRXgwKIiLSi0FB1MYOHz4MQRBQU1Nj7KEQ3RMGBRER6cWgINKjoqICixcvho+P\n",
              "D2xsbODl5YUtW7YAADZv3owBAwbA1tYWAwYM0MwHgMLCQkyfPh1du3aFra0tfHx8sGPHDmRkZGD8\n",
              "+PEAADs7O1hbW2P58uVGeW9E90pm7AEQtWezZ8/G5cuX8e2336Jv377IyspCdnY2du7ciYiICHz9\n",
              "9dd46KGHcOjQIYSGhkKpVCI0NBTvvfceSkpKkJqaCmtra2RkZKCsrAzu7u7Ys2cPRo0ahcLCQshk\n",
              "/CtI7R+PKIgakZeXhy+++AJr167FfffdB0EQ4OLigkGDBmHDhg2YNWsWHn74YUilUjzyyCOYNWsW\n",
              "1q1bBwAwNzdHfn4+Ll26BFEU4eHhgX79+hn5HRE1DYOCqBGpqakAgD59+ugsu3r1Knr16qU1z9vb\n",
              "GxkZGQCA119/HWPHjkVYWBgcHBwwdepUJCcnt/6giVoBg4KoEZ6engCAy5cv6yxzc3NDSkqK1ryU\n",
              "lBS4u7sDABQKBZYtW4bz588jJSUFMpkML7zwAgBAIuFfOzIt/MQSNcLR0RFPP/00Xn75ZSQlJQEA\n",
              "srKycPbsWYSFheGTTz7B4cOHUVtbi4MHD2Ljxo2YM2cOACAuLg4XLlxATU0NFAoFLC0tNdcjnJ2d\n",
              "AUCzT6L2jkFBpMdHH32EkSNHYvz48bC2tsawYcNw4cIFTJ06FatWrcK8efNgZ2eH+fPnIyYmBk88\n",
              "8QQA9Wmr0NBQ2NnZoUePHsjJycHGjRsBAD4+Ppg/fz5GjRoFOzs7rFixwphvkeiuBD4zm4iI9OER\n",
              "BRER6cWgICIivRgURESkF4OCiIj0YlAQEZFeDAoiItKLQUFERHqZZFDExMQYewhERJ2GSQZFenq6\n",
              "sYdARNRpmGRQEBFR2zEoKCorKxEaGgofHx/4+flhzJgxmurkl156STN/2LBhOHXqVKP7EQQBvr6+\n",
              "8Pf3h7+/PxISEpr3LoiIqNUY/HitOXPmYPz48RAEAWvWrEFYWBgOHz6Mxx9/HB999BFkMhm+//57\n",
              "TJ06FWlpaY3uJyEhAXZ2ds0YOhERtQWDjigsLCwwYcIECIIAAAgKCtKEwaRJkzQ1ykFBQbh27Rpq\n",
              "ampadrTN9O+9l3Diz3xjD4OIyKQ06xpFTEwMJk+e3OD8CRMm6H0e8MMPPww/Pz9ERkairKys0fVU\n",
              "KhWKi4u1ptraWoPHuu9iDv57OAXTP/oF735/EZXVhu+DiKgzanJQLF++HMnJyYiKitKa//nnn2P7\n",
              "9u3YsGFDo9ump6fjzJkzOHbsGG7cuIHXX3+90XWjoqKgVCq1ppMnTxo83iAve0y73w2iCHx8NBWP\n",
              "fXgUv2YWGrwfIqLOpknPo1i5ciW2bt2K/fv3a11n2LZtGxYvXowDBw5oHgl5N8ePH8ecOXPw22+/\n",
              "NbhcpVJBpVJpzVuyZEmT76U48EcO3tj5G/JKVZBKBLwyyhuvjPaGmZRfACMiaojB/zpGR0cjNjYW\n",
              "+/bt0wqJ7du3Y/Hixdi/f7/ekLh58ybKy8sBAHV1ddi2bRsCAgIaXV8ul8PW1lZrkkqlhg5b4+H7\n",
              "nPDTa8F41Lc7autExBy4gifWHsOVnJIm75OIqCMz6IgiMzMTbm5u8PLygo2NDQD1P+QnTpyAmZkZ\n",
              "nJ2d4eDgoFn/wIEDcHBwwLp163D9+nUsW7YMx48fR3h4OARBQE1NDQYNGoSYmBjY29vf86AjIyMR\n",
              "HR1twNvUJYoi4s5fx9JvL6CoohrmMgkWjuuDmcN6QiIRmrVvIqKOxCQfhdoSQXFLTnElFu74FUcu\n",
              "3wAABPa0x6qpfnCzV7TI/omITF2nPzHvZGuBzS8NwfLHfaEwl+JkagFCVscj9mQGTDBDiYhaXKcP\n",
              "CkB9p/gzD7hj76vBCPS0R1lVLRbt+g0zN59CbnGlsYdHRGRUDIo7uDsoEDsnCG9NuA/mMgkOJd3A\n",
              "mPfjEXf+urGHRkRkNAyKv5BKBMwO9sL384djQA9bFFVUIyL2HF7+8ixullUZe3hERG2OQdEIHycb\n",
              "fD1vGCIe7g2pRMAPv2Zh7Op4HLqUa+yhERG1KQaFHmZSCSLH+GDX3x5EL0cr3ChR4aXNp/Dmzl9R\n",
              "qmpfPVZERK2FQXEP/Nzs8EPECMwa3hOCAGw9dRUhq+PxCwsGiagTYFDcIwszKZY81g+xs4Pg2sUS\n",
              "mTcr8PRHv+BfLBgkog6OQWGgIC8H7F0QjOlD1AWDG1kwSEQdHIOiCazlMqx4ciA+efF+ONrIkZxb\n",
              "isfXHsP7+y6jurbO2MMjImpRDIpmGN3XCT8tCMajA1kwSEQdF4OimbpYmeM/zwzCB08HQGlpht+u\n",
              "FeHRD4/io/g/UVvHChAiMn0MihYyyc8FP70WjIf6OKKqpg7/u/sPPL3hF2Tklxt7aEREzcKgaEFO\n",
              "thbY9OIQRD3hCytzKU6mFSAkJh5fnmDBIBGZLgZFCxMEAU8HumPvgmAE9rRHeVUt/vn1b3hp8ynk\n",
              "sGCQiEwQg6KVuNkrsHV2EBY/qi4YPJx0A2NZMEhEJohB0YokEgFhI7zwAwsGiciEGRQUlZWVCA0N\n",
              "hY+PD/z8/DBmzBgkJycDAHJzcxESEoLevXtjwIABiI+Pb3Q/33//Pfr27YvevXvjiSeeQHFxcfPe\n",
              "RTvXu75g8NW/FAwevJRj7KEREd2VwUcUc+bMQVJSEs6fP4/JkycjLCwMAPDmm28iKCgIV65cwaZN\n",
              "m/DMM8+gurpaZ/vS0lLMmjUL33zzDa5cuQIXFxf861//av47aefMpBK8NsYHX897EN7drHGjRIWZ\n",
              "m0/jjR2/oqRS978TEVF7YVBQWFhYYMKECRAEAQAQFBSEtLQ0AMD27dsxd+5cAMCQIUPg4uKCI0eO\n",
              "6Oxjz549CAgIQN++fQEA8+bNQ2xsbHPeg0kZ6GqH7+cPR1h9weC201cRsjoBx1NYMEhE7VOzrlHE\n",
              "xMRg8uTJyM/PR3V1NZydnTXLPD09kZGRobNNRkYGPDw8tNbLyspCTU3Dtd0qlQrFxcVaU22taZfw\n",
              "WZhJsfiOgsFrheqCwWXfsWCQiNqfJgfF8uXLkZycjKioqJYcj46oqCgolUqt6eTJk636mm3lVsHg\n",
              "04FuAIBPfk7Fox8k4PzVQuMOjIjoDk0KipUrV2LXrl3Ys2cPFAoFHBwcIJPJkJ2drVknLS0N7u7u\n",
              "Otu6u7sjPT1da73u3btDJpM1+FqLFi1CUVGR1hQYGNiUYbdL1nIZop4YiE0vDkE3GzlSbpThif8e\n",
              "Q/RPSSwYJKJ2weCgiI6ORmxsLPbt2wc7OzvN/KlTp2LdunUAgFOnTuHatWsYOXKkzvYhISE4e/Ys\n",
              "Ll26BABYu3Ytpk+f3ujryeVy2Nraak1SqdTQYbd7o/p2w48LgvFYfcHgBweT8fjan3GZBYNEZGSC\n",
              "aEC3RGZmJtzc3ODl5QUbGxsA6n/IT5w4gZycHDz//PNITU2Fubk51qxZg1GjRgEAli5dChcXF83F\n",
              "7ri4OCxcuBA1NTUYMGAAtmzZAqVSec+DjoyMRHR0tCHv06R8d/46lnz7OwrLq2Euk+AfY30wa7gX\n",
              "pBLB2EMjok7IoKBoLzp6UABAbnEl3tj5Kw4l3QAABHraY+VUP7g7KIw8MiLqbHhndjvVzdYCn7w4\n",
              "BCv+UjD4xYl0FgwSUZtiULRjgiBgen3B4AP1BYNvff07Xtx0CtlFLBgkorbBoDABbvYKxN5RMHjk\n",
              "8g2MWx2PbxOv8eiCiFodg8JE3CoY3B0xHANdlSiqqMarWxPxypfnUMCCQSJqRQwKE+PdzQY7//Yg\n",
              "FjzSGzKJgB9+y8LY9+Nx4A8WDBJR62BQmCAzqQQLHvHB1/OGoXc3a+SVqjBry2ks3HGeBYNE1OIY\n",
              "FCbM11WJ7+YPx+wR6oLB7aczEbI6AcdS8ow9NCLqQBgUJs7CTIq3Hu2HrbOD4GavLhh85qMTeOe7\n",
              "CywYJKIWwaDoIB7wcsCeV4PxdKC6X2vTz2mY8EECElkwSETNxKDoQNQFg77Y9JK6YPDPG2V4sr5g\n",
              "sKqGBYNE1DQMig5oVJ9u+Om1YEzyc9EqGEzKZsEgERmOQdFB2SnM8cHTAVjzTADsFGa4cL0YEz88\n",
              "ivVHUlBbx5v0iOjeMSg6uMcGuuCnBcEY3bcbqmrrELXnEqZvOI70/DJjD42ITASDohPoZmuBjS/c\n",
              "j/97ciCszKU4lXYT42MS8PkvLBgkortjUHQSgiDgqSFuWgWDi7/5HS+wYJCI7oJB0cncKhhc8lg/\n",
              "yGUSxF++gbHvH8E351gwSEQNY1B0QhKJgFnDe+KHiOHwc1WiuLIGC7Yl4uUvz7JgkIh0GBQUERER\n",
              "8PT0hCAISExMBADk5+fD399fM/n4+EAmk6GgoEBn+7S0NEilUq31U1JSWuSNkOFuFQxGjvGBTCJg\n",
              "92/ZGPt+PPZfZMEgEd0mM2TlKVOmYOHChRg+fLhmnoODgyY0AGDlypU4cuQI7O3tG9yHjY2N1vpk\n",
              "XDKpBBEP98bovt3w2rZEXMktRdinpzF1sCuWTuwHGwszYw+RiIzMoCOK4OBguLq66l1n48aNmDVr\n",
              "VrMGRW1vQA91wWB4sBcEAfjqDAsGiUitRa9RHDt2DDdv3sRjjz3W6DplZWUYMmQIBg0ahGXLlqG2\n",
              "Vn9xnUqlQnFxsdZ0t22oaSzMpFg04T5smzMU7vYKTcHg/8RdQEUV/5sTdVYtGhQbN27EjBkzIJM1\n",
              "fEare/fuuHbtGk6dOoX9+/cjISEBq1at0rvPqKgoKJVKrenkyZMtOWz6i8Ce9tjz6gg884C6YHDz\n",
              "sTQ8+iELBok6qxYLitLSUmzfvh0zZ85sdB25XI5u3boBAOzt7TFz5kwkJCTo3e+iRYtQVFSkNQUG\n",
              "BrbUsKkRVnIZlj/ui80vDYGT7e2CwVUsGCTqdFosKLZt2wY/Pz/07du30XVyc3NRXa1+AptKpcKu\n",
              "XbsQEBCgd79yuRy2trZak1Qqbalh01081KcbflwQjMn+6oLBDw8mI/Q/LBgk6kwMCorw8HC4uroi\n",
              "MzMT48aNg7e3t2ZZYxexly5dinXr1gEAjh49ioCAAPj5+WHQoEFwdnbGW2+91cy3QK3NTmGOmOkB\n",
              "WPvsIHRRmOFilrpgcB0LBok6BUE0wdtxIyMjER0dbexhdEq5JZVYtPM3HLiUCwC436MLVj3lBw8H\n",
              "KyOPjIhaC+/MJoN0s7HAx/UFg9ZyGU6n30TI6gR8xoJBog6LQUEGu10wOAJBXvaoqK7Fkm9+x4xP\n",
              "TiKrqMLYwyOiFsagoCZz7aLAl2FBWFpfMJhwJQ/j3o9nwSBRB8OgoGaRSATMHN4TP0SM0CoYnPfF\n",
              "WeSXqow9PCJqAQwKahHe3ayx828P4u/1BYN7fs/GuNXx2MeCQSKTx6CgFiOTSjD/4d745uVh6ONk\n",
              "g7zSKsz+9DT+8dV5FFdWG3t4RNREDApqcQN6KBE3fxjCR6oLBnecycT41Qk4lsyCQSJTxKCgViGX\n",
              "SbFo/H3YHn5HweDHLBgkMkUMCmpVQzzVBYPP3lkw+EECzmXcNPLIiOheMSio1VnJZfjfx32xZWag\n",
              "umAwT10wuPJHFgwSmQIGBbWZkT6O+GnBSIT6u6BOBNYcUhcMXsouNvbQiEgPBgW1KaXCDKv/UjA4\n",
              "6cOf8d/DLBgkaq8YFGQUE3y746fXRuKR+5xQVVuHf++9hKfWH0daXpmxh0ZEf8GgIKNxtJHjoxmD\n",
              "8d4UdcHgmfSbGB+TgM+Op7EChKgdYVCQUQmCgKn3qwsGh3o5qAsGv73AgkGidoRBQe2CaxcFvgh7\n",
              "AG9PvF0wOPb9eHx9LpNHF0RGxqCgdkMiEfDSsJ7Y/eoI+LnZoaSyBq9tO4+/fc6CQSJjMigoIiIi\n",
              "4OnpCUEQkJiYqJnv6emJPn36wN/fH/7+/ti2bVuj+9i4cSN69+6NXr16Yfbs2ZpnaBPd0svRGjvn\n",
              "DsU/xqoLBvdeUBcM/nQh29hDI+qUDAqKKVOm4OjRo/Dw8NBZtm3bNiQmJiIxMRHTpk1rcPvU1FQs\n",
              "WbIECQkJSE5ORk5ODjZs2NC0kVOHJpNK8Mro3vj2ldsFg3M+O4O/b2fBIFFbMygogoOD4erq2uQX\n",
              "27FjByZNmgRnZ2cIgoC5c+ciNja2yfujjq+/i7pgcO7IXpAIwM6zmQh5Px4/s2CQqM202DWKGTNm\n",
              "wNfXF7NmzcKNGzcaXCcjI0PraMTT0xMZGRl696tSqVBcXKw11dayVK4zkcukeHN8X2wPHwoPBwWu\n",
              "F1Xi2Y9P4O1vf2fBIFEbaJGgiI+Px6+//oqzZ8+ia9eueOGFF1pitwCAqKgoKJVKrenkyZMttn8y\n",
              "Hfd72mN3xAg8F6QuGNxyPB2PfpCAsywYJGpVLRIU7u7qv7hmZmZYsGABEhISGl0vPT1d83taWppm\n",
              "28YsWrQIRUVFWlNgYGBLDJtMkJVchndDffHpzEA421rgz7wyTPnvMbz34yUWDBK1kmYHRVlZGQoL\n",
              "CzW/x8bGIiAgoMF1n3zyScTFxSE7OxuiKGLdunWYPn263v3L5XLY2tpqTVKptLnDJhMX7OOIHxcE\n",
              "4/GAHqgTgf8cSsHk//yMP7JYMEjU0gwKivDwcLi6uiIzMxPjxo2Dt7c3cnJyMGrUKAwcOBC+vr44\n",
              "cuQIPv30U802YWFhiIuLAwB4eXnhnXfewbBhw+Dt7Q1HR0eEh4e37DuiTkOpMMP70/yx7rlBsLcy\n",
              "xx9ZxZi05ijWHk5mwSBRCxJEE7ztNTIyEtHR0cYeBrUjN0pU+OfXv2HfxRwAwCB3O6x6yh89u1oZ\n",
              "eWREpo93ZlOH4Ggjx4bnB2PlVD/YyGU4m1GICTEJ+PR4Gup4dEHULAwK6jAEQcCUwa7Y+1owhnmr\n",
              "CwaX1hcMXi9kwSBRUzEoqMPpYWeJz2Y+gP+Z2A8WZhIcTc7DuNXx2HWWBYNETcGgoA5JIhHw4rCe\n",
              "2B0xAv71BYOR289j7udnWDBIZCAGBXVoXo7W2DF3KF4f1wdmUgE/XsjB2Pfj8SMLBonuGYOCOjyZ\n",
              "VIKXR3nj25eHo6+zDfLLqhD+2RlEbk9EUQULBonuhkFBnUY/F1t8+8ow/O0hdcHgrrPXELI6Hkev\n",
              "sGCQSB8GBXUqcpkUb4T0xVdzh8LTQYGsoko8t5EFg0T6MCioUxrsYY/dr47AjKHqNuMtx9Mx4YME\n",
              "nElnwSDRXzEoqNNSmMuwbPIAfDZLXTCYmleGqeuO4f/2XoKqhkcXRLcwKKjTG9HbET++Fown6gsG\n",
              "1x5OweQ1LBgkuoVBQQRAaWmG6Gn+WPfcYDhYmeNSdgkmrTmK/xxKRk0t68upc2NQEN0hZIAzfnwt\n",
              "GGP7OaG6VsR7PyZh6vrjSM0rM/bQiIyGQUH0F12t5Vj//GCsqi8YPJdRiPEx8dhyjAWD1DkxKIga\n",
              "IAgCnryjYLCyug5vx7FgkDonBgWRHrcKBpdN7q9VMLjzDAsGqfNgUBDdhUQiYMZQT+yOGIEAd3XB\n",
              "4N+/Oo/wz84gjwWD1AkYFBQRERHw9PSEIAhITEwEAFRWViI0NBQ+Pj7w8/PDmDFjkJyc3OD2aWlp\n",
              "kEql8Pf310wpKSnNfhNEbcHL0Rpfhd8uGPzpYg7GvR+Pvb+zYJA6NoOCYsqUKTh69Cg8PDy05s+Z\n",
              "MwdJSUk4f/48Jk+ejLCwsEb3YWNjg8TERM3Uq1evpo2cyAgaKhic+/kZRG5jwSB1XAYFRXBwMFxd\n",
              "XbXmWVhYYMKECRAEAQAQFBSEtLS0FhsgUXt0q2Bw3q2CwXPqgsGEKzeMPTSiFidr6R3GxMRg8uTJ\n",
              "jS4vKyvDkCFDUFtbi9DQULz11luQSqWNrq9SqaBSaZ8Hrq1lvQIZn1wmxcKQvnj4Pif8fXsi0vLL\n",
              "8fzGk+jdzRoeDgq421up/3RQwMNeAdcuCpjLeFmQTE+LBsXy5cuRnJyMAwcONLi8e/fuuHbtGrp1\n",
              "64aCggJMmzYNq1atwsKFCxvdZ1RUFN555x2teUFBQS05bKJmGezRBbtfHYF/77mELcfTcSW3FFdy\n",
              "S3XWkwhAd6UlPBwU2kFir/7dxsLMCKMnujtBbMJ3/Dw9PfHNN9/A399fM2/lypXYunUr9u/fDzs7\n",
              "u3vaT2xsLL788kt89913ja7T0BHFkiVLEBMTY+iwiVpdVlEFruSUIr2gHOl5ZUgvKEdGfjkyCspR\n",
              "Ua3/SNjeylwTGh72Crg7WGl+drSRa07vErW1FjmiiI6ORmxs7F1DIjc3F126dIGZmRlUKhV27dqF\n",
              "gIAAvfuWy+WQy+Va8/SdqiIypu5KS3RXWurMF0URN0pU6gDJL0dGftntnwvKUVBWpZkSrxbqbK8w\n",
              "l8Ld/vbRh7uDFTzqf3axs4SZlKe0qPUYdEQRHh6OH374AdnZ2XBwcICNjQ0OHz4MNzc3eHl5wcbG\n",
              "BoD6H/cTJ04AAJYuXQoXFxfMnTsXu3btwtKlSyGVSlFTU4PRo0dj5cqVOkFwN5GRkYiOjjZoG6L2\n",
              "rKSyWhMa6j/LkJ6v/jmrqAL6mkOkEgE97Cy1TmPdeVrLSt7ilyKpk2nSqSdjY1BQZ1JVU4fMm+Wa\n",
              "01h3BklGQTlUNfrbbbtay+84naUdJA5W5jylRXfF/6tB1M6ZyyTwcrSGl6O1zrK6OhG5JSqk59++\n",
              "HqL+U/17YXk18kpVyCtVNfj0PitzqdZpLPU3tNQh0l1pARlPaREYFEQmTSIR4Ky0gLPSAg94Oegs\n",
              "L6qorg+P+iOQ+p8z8suRVVyJsqpa/JFV3OBDmmQSAa5dLLWDxF4BDwcruNsrYGnOa4WdBYOCqANT\n",
              "WprB11UJX1elzrLK6lpk3qzQuh6ivkZShqsFFaiqrUNafjnS8ssb3Hc3G7nWaaw7g6SLwoyntDoQ\n",
              "BgVRJ2VhJoV3N2t4d2v4lFZ2caX2hXXNNZIyFFfWILdEhdwSFU6l6Z7SspHLNNdDPOqPSNzrf3a2\n",
              "tYBUwhAxJQwKItIhkQhwsbOEi50lhvbSPaVVWF6F9PxypOWX3XFdRH1aK6dYhRJVDS5cL8aF67qn\n",
              "tMylErjaW9afzrK6fe+Ig/rudQszntJqbxgURGQwO4U57BTm8HOz01lWWV2r+Zpven7ZHV/5LUfm\n",
              "zXJU1dbhzxtl+PNGGQDtbixBAJxtLe4IjzuCxN4KSgXvXjcGBgURtSgLMyl8nGzg42Sjs6y2TsT1\n",
              "worbQVJ/Yf1WkJSqapBVVImsokqcSC3Q2V5paaZ1v4iHvZXmFJeTjQUkPKXVKhgURNRmpBIBbvYK\n",
              "uNkrMMxbe5koiigoq9K6X0QTJAXluFGiQlFFNX7NLMKvmUU6+5bLJHCzv+N+kVunthwUcO1iCbmM\n",
              "p7SaikFBRO2CIAhwsJbDwVqOQe5ddJaXV9XcPo1151d+C8px7WYFVDV1SM4tRXIDhYyCALgoLe+o\n",
              "QLl9v4i7gwK2LGTUi0FBRCZBYS5DX2db9HW21VlWU1uH64WVWuGRnn/75/KqWlwrrMC1wgoc/zNf\n",
              "Z/suCrMG7xfxdGAhI8CgIKIOQCaVwL3+6GBEb+1loigir7SqwftFMgrKkVdahZvl1bhZXojzDRQy\n",
              "WprVFzJqTmfdLmXs0aVzFDIyKIioQxMEAY42cjjayDHYw15neamqpr4K/i/3ixSU4drNClRU1yIp\n",
              "pwRJOSU620olAlzsLG5fVP9LKWNHKWTsGO+CiKiJrOUy9HOxRT8X3VNaVTV1uFZYofU131s3IWYU\n",
              "lKOyug5XCypwtaACSNbdd1drc63akzsfWtXV2nQKGRkURESNMJdJ0LOrFXp2tdJZJoq3Chm17xe5\n",
              "Vcp4s7waeaVVyCutwtmMQp3trcyl6m9pNXC/iItd+ypkZFAQETWBIAhwsrWAk60FAnvqntIqrqzW\n",
              "/Zpv/fWR60UVKKuqxaXsElzK1j2lJZMI6NHFssH7RdztFVCYt+0/3QwKIqJWYGthhgE9lBjQQ7eQ\n",
              "UVVTX8hYfzSiVRFfUI6qmjrNaa6EK7r7nj/aG38f26cN3oUag4KIqI3JZVL0crRGr0aeMZJTUtng\n",
              "/SLp+eUoqqhGV2vDngraXAYFRUREBOLi4pCeno5z587B398fAHDlyhW88MILyMvLg1KpxObNm9G/\n",
              "f/8G97Fx40asWLECdXV1GD16NNauXQszM97sQkQEqAsZbz17PaihZ4yUV0PSxpcvDHq5KVOm4OjR\n",
              "o/Dw8NCaHx4ejjlz5uDy5ct444038OKLLza4fWpqKpYsWYKEhAQkJycjJycHGzZsaPLgiYg6G6XC\n",
              "DDZtfCe5QUERHBwMV1dXrXm5ubk4ffo0nnvuOQDAk08+iatXryI5Wfe7Yjt27MCkSZPg7OwMQRAw\n",
              "d+5cxMbGNmP4RETU2pp9jeLq1avo3r07ZDL1rgRBgLu7OzIyMuDtrd36lZGRoXU04unpiYyMDL37\n",
              "V6lUUKlUWvNqa2ubO2wiIrpH7eeLuo2IioqCUqnUmk6ePGnsYRERdRrNPqJwc3NDVlYWampqIJPJ\n",
              "IIoiMjIy4O7urrOuu7s7UlJSNL+npaU1uN6dFi1ahMjISK15M2bM0Jl3L2pra3Hy5EkEBgZCKm0/\n",
              "lcMcl2Ha67iA9js2jsswHXlcHh4eePXVVw3bSGwCDw8P8dy5c5rfR44cKW7atEkURVH86quvxMGD\n",
              "Bze4XUpKiti9e3cxKytLrKurEydOnCh++OGHTRlCkxQVFYkAxKKiojZ7zXvBcRmmvY5LFNvv2Dgu\n",
              "w3Bc2gw69RQeHg5XV1dkZmZi3LhxmmsQ69evx/r16+Hj44MVK1Zg06ZNmm3CwsIQFxcHAPDy8sI7\n",
              "77yDYcOGwdvbG46OjggPDzcs2YiIqE0ZdOpp/fr1Dc7v06cPjh8/3uCyjz/+WOv32bNnY/bs2Ya8\n",
              "LBERGVG7v5hNRETG1amCQi6X4+2334Zc3ra3v98Nx2WY9jouoP2OjeMyDMelTRBFUWzTVyQiIpPS\n",
              "qY4oiIjIcAwKIiLSi0FBRER6mXRQpKWlYd26dW3yOg899BCUSqWmWp06Pn6+qLW11Wfs4MGDCAwM\n",
              "RL9+/dC/f38sXLgQdXV197x9pw2Kmpqae17X1tYW7777Lr788ssmvRaZJn6+qLW11WesS5cu2Lp1\n",
              "Ky5evIgzZ87g2LFj+PTTT+95e5MIioqKCkybNg39+vWDn58fxo4dCwCYO3cukpKS4O/vj0mTJgEA\n",
              "Tp8+jQcffBADBw5EYGAgfv75ZwDq/0Hs7OzwxhtvYNCgQVizZg2ys7Px1FNPITAwEL6+vli8eHGD\n",
              "r29vb4/hw4fDykr3Aetk+vj5otZm7M9YQEAAvLy8AAAWFhbw9/dHWlravb+BNi0MaaJdu3aJY8eO\n",
              "1fyen58viqIoHjp0SPTz89PMV6lUopubm7h3715RFEUxISFBdHJyEktKSsTU1FQRgLhlyxbN+mPH\n",
              "jhUPHz4siqIoVldXi+PGjRO3b9/e6Dj++nrUMfDzRa2tvXzGRFEUs7KyRCcnJ/HUqVP3PH6TeGa2\n",
              "n58f/vjjD8ybNw8jR47EhAkTGlwvKSkJEokE48aNAwAMHz4cTk5OSExMhKurK8zMzDQPWCorK8OB\n",
              "AweQk5Oj2b60tBRJSUmt/4aoXeHni1pbe/mMFRcXY+LEiVi4cCHuv//+ex6/SQSFl5cXLl68iIMH\n",
              "D2L//v1YuHAhEhMT72lbQRA0PysUCkjqHzYr1t9n+Msvv8DCwqLFx0ymg58vam3t4TNWUlKCkJAQ\n",
              "TJ482eDHNJjENYrMzEwIgoBJkyZh5cqVEEURV69eha2tLYqKijTr9enTB3V1ddi3bx8A4NixY8jO\n",
              "zm7wmyTW1tYYNWoUVqxYoZl3/fp1ZGZmtvr7ofaFny9qbcb+jJWWliIkJAQhISGNXsfQ655PUhnR\n",
              "7t27RT8/P3HgwIFiv379xH/+85+iKKrPyT366KNi//79xYkTJ4qiKIqnTp0Shw4dKvr6+opDhgwR\n",
              "ExISRFEUxdTUVFGpVGrtNycnR3z22WfF/v37iwMGDBAfeOABMTExUef1y8rKxB49eohdu3YVzczM\n",
              "xB49eohvvvlm675pajP8fFFrM/Zn7N133xVlMpno5+enmd599917Hj+7noiISC+TOPVERETGw6Ag\n",
              "IiK9GBRERKQXg4KIiPRiUBARkV4MCiIi0otBQUREejEoiIhILwYFERHpxaAgIiK9GBRERKTX/wNM\n",
              "h2PVkOZcLwAAAABJRU5ErkJggg==\n",
              "\">\n",
              "        \n",
              "      </div>\n",
              "      <script></script>\n",
              "      <script type=\"text/javascript\">\n",
              "        (() => {\n",
              "          const chartElement = document.getElementById(\"chart-4c6f6310-c668-4af7-a537-f0c4b45e7b82\");\n",
              "          async function getCodeForChartHandler(event) {\n",
              "            const chartCodeResponse =  await google.colab.kernel.invokeFunction(\n",
              "                'getCodeForChart', [\"chart-4c6f6310-c668-4af7-a537-f0c4b45e7b82\"], {});\n",
              "            const responseJson = chartCodeResponse.data['application/json'];\n",
              "            await google.colab.notebook.addCell(responseJson.code, 'code');\n",
              "          }\n",
              "          chartElement.onclick = getCodeForChartHandler;\n",
              "        })();\n",
              "      </script>\n",
              "      <style>\n",
              "        .colab-quickchart-chart-with-code  {\n",
              "            display: block;\n",
              "            float: left;\n",
              "            border: 1px solid transparent;\n",
              "        }\n",
              "\n",
              "        .colab-quickchart-chart-with-code:hover {\n",
              "            cursor: pointer;\n",
              "            border: 1px solid #aaa;\n",
              "        }\n",
              "      </style>"
            ]
          },
          "metadata": {}
        },
        {
          "output_type": "display_data",
          "data": {
            "text/plain": [
              "<google.colab._quickchart_helpers.SectionTitle at 0x77fc6e559360>"
            ],
            "text/html": [
              "<h4 class=\"colab-quickchart-section-title\">Distributions</h4>\n",
              "<style>\n",
              "  .colab-quickchart-section-title {\n",
              "      clear: both;\n",
              "  }\n",
              "</style>"
            ]
          },
          "metadata": {}
        },
        {
          "output_type": "display_data",
          "data": {
            "text/plain": [
              "import numpy as np\n",
              "from google.colab import autoviz\n",
              "\n",
              "def histogram(df, colname, num_bins=20, figscale=1):\n",
              "  from matplotlib import pyplot as plt\n",
              "  df[colname].plot(kind='hist', bins=num_bins, title=colname, figsize=(8*figscale, 4*figscale))\n",
              "  plt.gca().spines[['top', 'right',]].set_visible(False)\n",
              "  plt.tight_layout()\n",
              "  return autoviz.MplChart.from_current_mpl_state()\n",
              "\n",
              "chart = histogram(_df_1, *['cost'], **{})\n",
              "chart"
            ],
            "text/html": [
              "      <div class=\"colab-quickchart-chart-with-code\" id=\"chart-50832a30-c152-47c2-888f-8769f7d624e3\">\n",
              "        <img src=\"data:image/png;base64,iVBORw0KGgoAAAANSUhEUgAAAYwAAADECAYAAACMRRb/AAAAOXRFWHRTb2Z0d2FyZQBNYXRwbG90\n",
              "bGliIHZlcnNpb24zLjcuMSwgaHR0cHM6Ly9tYXRwbG90bGliLm9yZy/bCgiHAAAACXBIWXMAAA9h\n",
              "AAAPYQGoP6dpAAAZH0lEQVR4nO3de1BU58EG8OcAdavRBUQJCCwUlkUtCoIwFq2XWFvt1yCFpGNa\n",
              "HLFysTGajJ1ojcmk2BTspLahmbGAWKJDLqaAkXppa6KxmmgALwShhovgrglIoiOYBlcX3u8P69YN\n",
              "LJ6zctwFn9/MmYHj69nnDR6e7L6750hCCAEiIqK7cHN2ACIiGhpYGEREJAsLg4iIZGFhEBGRLCwM\n",
              "IiKShYVBRESysDCIiEgWFgYREcnCwiAiIllYGEREJAsLg8gFvP/++5AkCRaLxdlRiOxiYRARkSws\n",
              "DCKFuru78fzzz8NgMGDMmDEIDQ3Fjh07AACvvfYaIiMjodVqERkZad0PAFevXsWSJUswbtw4aLVa\n",
              "GAwGlJaWwmg0YtGiRQAALy8vjB49Gjk5OU6ZG9FAPJwdgGioycjIQENDA/bs2YOJEyeira0N7e3t\n",
              "KCsrw5o1a7B7927MnTsXhw8fRlJSEjw9PZGUlISXX34Z165dQ0tLC0aPHg2j0Yj//Oc/0Ol0OHDg\n",
              "AObNm4erV6/Cw4OnJbkmPsMgUuCLL77A66+/jq1bt2LSpEmQJAkTJkxATEwMCgsLsWLFCsyfPx/u\n",
              "7u743ve+hxUrViA/Px8AMGLECFy+fBnnzp2DEALBwcGYPHmyk2dEJB8Lg0iBlpYWAEBERESfPzOZ\n",
              "TAgLC7PZp9frYTQaAQDPPvssvv/97yM9PR0+Pj54/PHH0dTUpH5ookHCwiBSICQkBADQ0NDQ58+C\n",
              "goLQ3Nxss6+5uRk6nQ4AMGrUKGzatAk1NTVobm6Gh4cHli1bBgBwc+OpSK6P/0qJFBg/fjyeeOIJ\n",
              "rFq1Cp988gkAoK2tDadOnUJ6ejr+8pe/4P3330dPTw8OHTqE7du3IzMzEwBQUVGBuro6WCwWjBo1\n",
              "CiNHjrSuV/j5+QGA9ZhEroiFQaTQtm3bMGfOHCxatAijR4/GzJkzUVdXh8cffxxbtmzBk08+CS8v\n",
              "L6xevRp5eXlITk4GcOvlrKSkJHh5eSEgIACXLl3C9u3bAQAGgwGrV6/GvHnz4OXlhc2bNztzikT9\n",
              "knhPbyIikoPPMIiISBYWBhERycLCICIiWVgYREQkCwuDiIhkYWEQEZEsLAwiIpJlWBRGXl6esyMQ\n",
              "EQ17w6IwLly44OwIRETD3rAoDCIiUp+qhbFmzRqEhIRAkiScOXPG7rjt27cjPDwcYWFhyMjIwM2b\n",
              "N9WMRUREDlC1MB577DEcO3YMwcHBdse0tLTghRdewNGjR9HU1IRLly6hsLBQzVhEROQAVQtj9uzZ\n",
              "CAwMHHBMaWkpEhMT4efnB0mSsHLlSrz55ptqxiIiIgc4/ebBRqPR5hlISEiI9Q5l/TGbzTCbzTb7\n",
              "enp6VMtHRES3OL0wlMrNzUV2drbNvhkzZjh8vJBf7bunPK2b/++e/r6j7iW3szITkX1D4XeR098l\n",
              "pdPpbN4W29raar2lZX82bNiAzs5Omy0+Pv5+RCUieqA5vTBSUlJQUVGB9vZ2CCGQn5+PJUuW2B2v\n",
              "0Wig1WptNnd39/uYmIjowaRqYWRlZSEwMBAXL17ED37wA+j1egBAeno6KioqAAChoaHIzs7GzJkz\n",
              "odfrMX78eGRlZakZi4iIHKDqGkZBQUG/+4uKimy+z8jIQEZGhppRiIjoHjn9JSkiIhoaWBhERCQL\n",
              "C4OIiGRhYRARkSwsDCIikoWFQUREsrAwiIhIFhYGERHJwsIgIiJZWBhERCQLC4OIiGRhYRARkSws\n",
              "DCIikoWFQUREsrAwiIhIFhYGERHJwsIgIiJZVC2MxsZGJCQkwGAwIC4uDnV1dX3G9Pb2Yu3atZg8\n",
              "eTKmTp2KefPmoampSc1YRETkANXv6Z2ZmYmGhgasX78eaWlpfcZUVFTggw8+QE1NDT7++GPMnz8f\n",
              "zz33nJqxiIjIAaoVRkdHB6qrq5GamgoASElJgclk6vPsQZIkmM1mXL9+HUIIdHV1ITAwUK1YRETk\n",
              "IA+1DmwymeDv7w8Pj1sPIUkSdDodjEYj9Hq9ddyjjz6Kw4cPw8/PD2PGjEFAQACOHDli97hmsxlm\n",
              "s9lmX09PjzqTICIiK6cveldXV+Ps2bP49NNP8dlnn2H+/PlYuXKl3fG5ubnw9PS02SorK+9jYiKi\n",
              "B5NqhREUFIS2tjZYLBYAgBACRqMROp3OZtzOnTvxyCOPwMvLC25ubli2bBkOHz5s97gbNmxAZ2en\n",
              "zRYfH6/WNIiI6L9UKwxfX1/ExMSgpKQEAFBWVobAwECbl6MAIDQ0FIcOHcKNGzcAAHv37kVkZKTd\n",
              "42o0Gmi1WpvN3d1drWkQEdF/qbaGAQAFBQVIS0tDTk4OtFotiouLAQDp6elITExEYmIiVq1ahX//\n",
              "+9+IiorCN77xDfj5+SE/P1/NWERE5ABVCyMiIgLHjx/vs7+oqMj6tUajwbZt29SMQUREg8Dpi95E\n",
              "RDQ0sDCIiEgWFgYREcnCwiAiIllYGEREJIviwvjHP/6hRg4iInJxigtj06ZNiIiIQF5eHrq6utTI\n",
              "RERELkhxYXzwwQd46623cPbsWRgMBjz55JOor69XIxsREbkQh9Ywpk2bhm3btuHvf/879u7di6lT\n",
              "p2LBggWora0d7HxEROQiHCqMd999F4sXL0ZycjJWrVqF9vZ2ZGVl4cc//vFg5yMiIheh+NIgkyZN\n",
              "wrhx47BmzRokJydbL/z32GOPYfv27YMekIiIXIPiwigpKUFsbGy/f3bgwIF7DkRERK5J8UtSJ0+e\n",
              "xJUrV6zfX758mRcPJCJ6ACgujK1bt2Ls2LHW7318fLB169ZBDUVERK5HcWEIIfrs4z21iYiGP8WF\n",
              "4e/vj7ffftv6/a5du+Dv7z+ooYiIyPUoXvR+5ZVXsHjxYqxbtw4AMGrUKOzZs2fQgxERkWtR/Axj\n",
              "4sSJqK+vx/79+7F//37U1tYiPDy837GNjY1ISEiAwWBAXFwc6urq+h1XW1uLuXPnYtKkSZg0aRLK\n",
              "y8uVxiIiIpU5dItWSZLg5eUFi8WCTz/9FACg0+n6jMvKykJmZibS0tJQWlqKtLQ0VFVV2Yz56quv\n",
              "sHjxYuzcuROzZs1CT0+PzbuwiIjINSh+hvHaa6/By8sLU6ZMQWxsLGJjYzF9+vQ+4zo6OlBdXY3U\n",
              "1FQAQEpKCkwmE5qammzGvfHGG5gxYwZmzZoFAHB3d8f48eMdmQsREalI8TOM3/zmN6iqqkJERMSA\n",
              "40wmE/z9/eHhceshJEmCTqeD0WiEXq+3jquvr4dGo8GPfvQjXLx4EVOnTsWWLVvslobZbIbZbLbZ\n",
              "x3dpERGpT/EzjHHjxt21LJSwWCx49913UVBQgNOnTyMgIAC/+MUv7I7Pzc2Fp6enzVZZWTloeYiI\n",
              "qH+KCyMpKQmvvPIKOjo60NXVZd2+LigoCG1tbbBYLABufX7DaDT2WevQ6XSYN28eAgICIEkSUlNT\n",
              "ceLECbuPv2HDBnR2dtps8fHxSqdBREQKKS6MjRs3Yu3atfDz84O3tze8vLzg7e3dZ5yvry9iYmJQ\n",
              "UlICACgrK0NgYKDNy1EA8JOf/ARVVVXW0tm/fz+ioqLsPr5Go4FWq7XZbl8AkYiI1KN4DaO3t1f2\n",
              "2IKCAqSlpSEnJwdarRbFxcUAgPT0dCQmJiIxMRE6nQ7PPfccEhIS4ObmhoCAABQWFiqNRUREKnPo\n",
              "bbUnT55EfX09li5diqtXr6K7u7vfT3tHRETg+PHjffYXFRXZfL906VIsXbrUkShERHSfOHTxwZ//\n",
              "/Of49a9/DeDW1Wp/+tOfDnYuIiJyMYoLo7CwECdOnIBWqwUAhIWF4fPPPx/0YERE5FoUF4ZGo8HI\n",
              "kSNt9t3+rAUREQ1figtj/PjxaGhogCRJAG598ru/y4IQEdHw4tDVap944gmcO3cOQUFB0Gq12Lt3\n",
              "rxrZiIjIhSguDL1ej48++giffPIJhBCIiIjg5yCIiB4AigvDaDQCAB566CEAGPBqtURENHwoLozY\n",
              "2FhIkgQhBK5fv46vvvoKPj4+6OjoUCMfERG5CMWF8fW30JaXl6OmpmbQAhERkWtS/C6pr0tOTsa+\n",
              "ffsGIwsREbkwxc8w7rwybU9PDz766KN+r1ZLRETDi+LC8PLysq5huLu7Izw8HH/605/UyEZERC5E\n",
              "1avVEhHR8HHPaxhERPRgUPwMw83NzXpZkDsJISBJEu+vTUQ0TCkujE2bNqG7u9t63+38/HyMHDkS\n",
              "zzzzzGBnIyIiF6K4MHbv3o2TJ09av3/ppZcQGxuLjRs3DmowIiJyLYrXMK5du2bzqe6Ojg5cu3Zt\n",
              "UEMREZHrUVwYv/zlLxEVFYUVK1ZgxYoVmDZtGp599tl+xzY2NiIhIQEGgwFxcXGoq6uze1whBB55\n",
              "5BF4eXkpjURERPeB4sLIysrCwYMHER0djejoaPzzn/9ERkaG3bGZmZloaGjA+vXrkZaWZve4f/zj\n",
              "HxEWFqY0DhER3ScOva3Wx8cHU6ZMwerVqxEREYEbN270GdPR0YHq6mqkpqYCAFJSUmAymdDU1NRn\n",
              "bF1dHd555x386le/ciQOERHdB4oLo7S0FDNmzMDy5csB3Ppln5SU1GecyWSCv7+/9fatkiRBp9NZ\n",
              "L49+282bN5GRkYGCggJZ99Uwm83o6uqy2fhWXiIi9SkujNzcXJw6dcq61hAVFYULFy44HCA7OxvJ\n",
              "ycmYNGmS7Mf39PS02SorKx1+fCIikkdxYbi7u8PHx8dm34gRI/qMCwoKQltbGywWC4Bbi9pGo7HP\n",
              "jZaOHDmCV199FSEhIZg1axa6uroQEhLS5zLqt23YsAGdnZ02W3x8vNJpEBGRQoo/hzFmzBhcunTJ\n",
              "+mnv9957D2PHju0zztfXFzExMSgpKUFaWhrKysoQGBgIvV5vM+7o0aPWr1tbWxEdHY3W1la7j6/R\n",
              "aKDRaGz28RaxRETqU1wYv/vd77Bo0SKcP38es2bNQktLi937YRQUFCAtLQ05OTnQarUoLi4GAKSn\n",
              "pyMxMRGJiYn3lp6IiO4bRYXR29uLnp4eHD58GB9++CGEEEhISLD72YmIiAgcP368z/6ioqJ+x4eE\n",
              "hODq1atKIhER0X2iqDDc3NyQmZmJmpoaLFq0SK1MRETkghQveoeHh/f7WQoiIhreFK9hXLlyBdHR\n",
              "0UhISMDo0aOt+8vLywc1GBERuRbZhZGZmYnCwkIsW7YMiYmJ8Pb2VjMXERG5GNmFUV1dDQBYtmwZ\n",
              "YmJicOrUKdVCERGR63HoWlJCiMHOQURELk72M4zu7m7U1tZCCIHr169bv75t6tSpqgQkIiLXoKgw\n",
              "7vyg3Z1fS5KE8+fPD24yIiJyKbILY6DLdRAR0fDn0BoGERE9eFgYREQkCwuDiIhkYWEQEZEsLAwi\n",
              "IpKFhUFERLKwMIiISBYWBhERyaJqYTQ2NiIhIQEGgwFxcXGoq6vrM+bQoUOIj4/H5MmT8e1vfxvr\n",
              "1q1Db2+vmrGIiMgBqhZGVlYWMjMz0dDQgPXr1yMtLa3PGG9vb7z11luor6/HyZMn8eGHH2Lnzp1q\n",
              "xiIiIgeoVhgdHR2orq5GamoqACAlJQUmk6nP3fqmTZuG0NBQAMA3v/lNREdH8zIkREQuSPEd9+Qy\n",
              "mUzw9/eHh8eth5AkCTqdDkajEXq9vt+/097ejtLSUuzdu9fucc1mM8xms82+np6ewQtORET9cplF\n",
              "766uLjz66KNYt24dpk+fbndcbm4uPD09bbbKysr7mJSI6MGkWmEEBQWhra0NFosFwK2bLhmNRuh0\n",
              "uj5jr127hoULF2Lx4sVYu3btgMfdsGEDOjs7bbb4+HhV5kBERP+jWmH4+voiJiYGJSUlAICysjIE\n",
              "Bgb2eTnqyy+/xMKFC7Fw4UI8//zzdz2uRqOBVqu12dzd3VWZAxER/Y+qL0kVFBSgoKAABoMBmzdv\n",
              "RnFxMQAgPT0dFRUVAIC8vDxUVlaivLwc0dHRiI6Oxm9/+1s1YxERkQNUW/QGgIiICBw/frzP/qKi\n",
              "IuvXGzduxMaNG9WMQUREg8BlFr2JiMi1sTCIiEgWFgYREcnCwiAiIllYGEREJAsLg4iIZGFhEBGR\n",
              "LCwMIiKShYVBRESysDCIiEgWFgYREcnCwiAiIllYGEREJAsLg4iIZGFhEBGRLCwMIiKShYVBRESy\n",
              "qFoYjY2NSEhIgMFgQFxcHOrq6vodt337doSHhyMsLAwZGRm4efOmmrGIiMgBqhZGVlYWMjMz0dDQ\n",
              "gPXr1yMtLa3PmJaWFrzwwgs4evQompqacOnSJRQWFqoZi4iIHKBaYXR0dKC6uhqpqakAgJSUFJhM\n",
              "JjQ1NdmMKy0tRWJiIvz8/CBJElauXIk333xTrVhEROQgD7UObDKZ4O/vDw+PWw8hSRJ0Oh2MRiP0\n",
              "er11nNFoRHBwsPX7kJAQGI1Gu8c1m80wm802+3p6egY5PRERfZ1qhaGW3NxcZGdn2+ybOHEinn76\n",
              "aVRWViI+Ph7u7u6yj5d8j3nWrn3vHo/QV09Pz13nci+51cg8EDnzGSo4F9c0HOZy+5x2dC73cl4H\n",
              "Bwfj6aefvus4SQghHH6UAXR0dECv1+PKlSvw8PCAEAL+/v44duyYzTOMl19+Gc3NzcjPzwcA7N+/\n",
              "Hzk5OTh27Fi/x+3vGYZGo4HZbIanpyc6Ozuh1WrVmNJ909XVNWzmAgyv+XAurolzuT9UW8Pw9fVF\n",
              "TEwMSkpKAABlZWUIDAy0KQvg1tpGRUUF2tvbIYRAfn4+lixZYve4Go0GWq3WZtNoNGpNg4iI/kvV\n",
              "d0kVFBSgoKAABoMBmzdvRnFxMQAgPT0dFRUVAIDQ0FBkZ2dj5syZ0Ov1GD9+PLKystSMRUREDlB1\n",
              "DSMiIgLHjx/vs7+oqMjm+4yMDGRkZKgZhYiI7tGw+aS3RqPBiy++OCxenhpOcwGG13w4F9fEudwf\n",
              "qi16ExHR8DJsnmEQEZG6WBhERCQLC4OIiGQZsoWxZs0ahISEQJIknDlzxrpf7hVyXUl/c7l+/TqS\n",
              "kpJgMBgQFRWFBQsW9LkOlyuy93O5rbi4GJIk4Z133rnv2ZSyNxez2YynnnoK4eHhmDJlivV6aa7M\n",
              "3lz279+PmJgYREdHIzIyEjt27HBeSJkGOjc6OjqwcOFChIeHIzIyEv/617+cnHZgA81l+fLl1v0z\n",
              "Z85EVVWVk9MCEEPUkSNHhMlkEsHBweL06dPW/fPmzRPFxcVCCCH++te/iunTpzsnoAL9zaW7u1vs\n",
              "27dP9Pb2CiGEePXVV8WcOXOcF1Imez8XIYRoaWkR3/nOd8SMGTPE7t27nZJPCXtzeeaZZ8RTTz1l\n",
              "/dm0tbU5KaF8/c2lt7dXeHt7i5qaGiHErZ+PRqMRXV1dTkx6dwOdG8uXLxcvvviiEEKIyspKERAQ\n",
              "IG7cuOGkpHc30Fz27Nkjbt68KYQQ4m9/+5sIDg52Usr/GbKFcdudJ8ClS5fEmDFjrP+Re3t7xcMP\n",
              "PywaGxudmFC+/n7J3lZVVeUS/2Dk+vpcenp6xPz580V1dbWYM2fOkCiM2+6cy5dffinGjBkjOjs7\n",
              "nRvKQV8vjLFjx4ojR44IIYSoqakREyZMEGaz2YkJlbvz3HjooYdsCjwuLk4cPHjQScmUs3eef/75\n",
              "58LDw8P6u81ZhuxLUv0Z6Aq5Q11eXh4WL17s7BgO+8Mf/oCZM2ciNjbW2VHuSXNzM8aOHYucnBxM\n",
              "nz4d3/3ud/Hee/f3Yo6DRZIk7Nq1C8nJyQgODsasWbOwY8cOjBgxwtnRFLl9bly+fBk3b96En5+f\n",
              "9c/udvVrV2PvPM/Ly8MPf/hD6+82ZxlyV6t9EOXk5KCpqWnI/mI6e/YsysrKXP71ZDksFgsuXLiA\n",
              "yZMnY/PmzTh9+jQWLFiAuro6PPzww86Op4jFYsFLL72E8vJyzJ49G1VVVUhMTERtbS3GjRvn7Hiy\n",
              "3HludHd3OzvOPbF3npeUlODtt992ifNnWD3DCAoKQltbGywWCwBACAGj0QidTufkZI77/e9/j/Ly\n",
              "chw4cACjRo1ydhyHHD16FK2trQgPD0dISAhOnDiBzMxM/PnPf3Z2NMV0Oh3c3Nzws5/9DAAwbdo0\n",
              "fOtb30Jtba2Tkyl35swZfPbZZ5g9ezYAIC4uDoGBgTh9+rSTk8nz9XPDx8cHHh4eaG9vt45pbW0d\n",
              "Eue/vfN8165dyM7OxsGDB13jf0ic+oLYIPj6a+Vz5syxWfSOjY11TjAHfH0uW7ZsETExMeLKlSvO\n",
              "C+WggdZjhvIahhBCLFiwQOzbt08IIcT58+eFj4+PuHjxopPSKXPnXNrb28Xo0aNFfX29EEKIxsZG\n",
              "4e3tLS5cuODEhPLYOzeWLVtms+g9YcIEl170FsL+XHbt2iX0er1obW11UrK+hmxhZGZmioCAAOHu\n",
              "7i58fX1FWFiYEEKIc+fOiRkzZojw8HARGxsrPv74Yycnvbv+5mIymQQAERoaKqKiokRUVJSIj493\n",
              "dtS7svdzudNQKQx7c2lubhZz584VkZGRYurUqaK0tNTJSe/O3lzeeOMN6zwiIyPF66+/7uSkdzfQ\n",
              "udHe3i4WLFgg9Hq9mDx5sjh06JCT0w5soLl4eHiIwMBA6/6oqCjxxRdfODUvryVFRESyDKs1DCIi\n",
              "Ug8Lg4iIZGFhEBGRLCwMIiKShYVBRESysDCIiEgWFgYREcnCwiAiIllYGEREJAsLg4iIZGFhEBGR\n",
              "LP8Pznt4XZfY80MAAAAASUVORK5CYII=\n",
              "\">\n",
              "        \n",
              "      </div>\n",
              "      <script></script>\n",
              "      <script type=\"text/javascript\">\n",
              "        (() => {\n",
              "          const chartElement = document.getElementById(\"chart-50832a30-c152-47c2-888f-8769f7d624e3\");\n",
              "          async function getCodeForChartHandler(event) {\n",
              "            const chartCodeResponse =  await google.colab.kernel.invokeFunction(\n",
              "                'getCodeForChart', [\"chart-50832a30-c152-47c2-888f-8769f7d624e3\"], {});\n",
              "            const responseJson = chartCodeResponse.data['application/json'];\n",
              "            await google.colab.notebook.addCell(responseJson.code, 'code');\n",
              "          }\n",
              "          chartElement.onclick = getCodeForChartHandler;\n",
              "        })();\n",
              "      </script>\n",
              "      <style>\n",
              "        .colab-quickchart-chart-with-code  {\n",
              "            display: block;\n",
              "            float: left;\n",
              "            border: 1px solid transparent;\n",
              "        }\n",
              "\n",
              "        .colab-quickchart-chart-with-code:hover {\n",
              "            cursor: pointer;\n",
              "            border: 1px solid #aaa;\n",
              "        }\n",
              "      </style>"
            ]
          },
          "metadata": {}
        },
        {
          "output_type": "display_data",
          "data": {
            "text/plain": [
              "<google.colab._quickchart_helpers.SectionTitle at 0x77fc6e6e63e0>"
            ],
            "text/html": [
              "<h4 class=\"colab-quickchart-section-title\">Categorical distributions</h4>\n",
              "<style>\n",
              "  .colab-quickchart-section-title {\n",
              "      clear: both;\n",
              "  }\n",
              "</style>"
            ]
          },
          "metadata": {}
        },
        {
          "output_type": "display_data",
          "data": {
            "text/plain": [
              "import numpy as np\n",
              "from google.colab import autoviz\n",
              "\n",
              "def categorical_histogram(df, colname, figscale=1, mpl_palette_name='Dark2'):\n",
              "  from matplotlib import pyplot as plt\n",
              "  import seaborn as sns\n",
              "  df.groupby(colname).size().plot(kind='barh', color=sns.palettes.mpl_palette(mpl_palette_name), figsize=(8*figscale, 4.8*figscale))\n",
              "  plt.gca().spines[['top', 'right',]].set_visible(False)\n",
              "  return autoviz.MplChart.from_current_mpl_state()\n",
              "\n",
              "chart = categorical_histogram(_df_2, *['Name'], **{})\n",
              "chart"
            ],
            "text/html": [
              "      <div class=\"colab-quickchart-chart-with-code\" id=\"chart-a8c8a9b0-9300-4d40-94ff-675537bbd0f7\">\n",
              "        <img src=\"data:image/png;base64,iVBORw0KGgoAAAANSUhEUgAAAX0AAADgCAYAAADv9rZ4AAAAOXRFWHRTb2Z0d2FyZQBNYXRwbG90\n",
              "bGliIHZlcnNpb24zLjcuMSwgaHR0cHM6Ly9tYXRwbG90bGliLm9yZy/bCgiHAAAACXBIWXMAAA9h\n",
              "AAAPYQGoP6dpAAASJElEQVR4nO3de3CU9b3H8c+ygY16GsCCEKNJCMGaBNkICYhWSyJarFxOATU4\n",
              "eOGuYAVRcUJVikRzvCEMjiJFjRFntGixLYrXiIpDkPvFcAmXEK2JOpCLKCTZ7O/80ePO2RLqLuwl\n",
              "5Pd+zewM++yzu9/f4Lx5fDZ51mGMMQIAWKFdtAcAAEQO0QcAixB9ALAI0QcAixB9ALAI0QcAixB9\n",
              "ALAI0QcAi1gZ/YULF0Z7BACICiujf/DgwWiPAABRYWX0AcBWRB8ALEL0AcAiRB8ALEL0AcAiRB8A\n",
              "LEL0AcAiRB8ALEL0AcAiRB8ALEL0AcAiRB8ALEL0AcAiRB8ALOIwxphoDxFpWX3/W7m/mRjtMQDA\n",
              "z2NPDQ37e3CkDwAWIfoAYBGiDwAWIfoAYBGiDwAWIfoAYBGiDwAWIfoAYBGiDwAWIfoAYBGiDwAW\n",
              "IfoAYBGiDwAWiXj0jx49qhtuuEHp6elyu926+uqrVV1drZycHPXr108ZGRm644475PV6JUlFRUUa\n",
              "PHiwxowZo/T0dF166aUqKyvT73//e6Wlpenqq6/WkSNHTvh+DQ0Nqq+v97uZ/3ttALBNxKP/zjvv\n",
              "qLa2VmVlZdq6dateffVVderUSf/4xz+0ceNGbdu2TRUVFfrLX/7ie8769ev16KOPqqysTD179tSw\n",
              "YcO0ePFi7dy5Ux06dNBLL710wvcrLCxUx44d/W5V3+yJxFIBoNWJePTdbrd27typqVOn6rXXXlP7\n",
              "9u3l9Xp13333ye126+KLL9aGDRu0ZcsW33MGDhyoxMRESVJWVpays7PVrVs3SVJ2drbKy8tP+H75\n",
              "+fmqq6vzu8V3uyCsawSA1iom0m+YkpKisrIylZSU6IMPPtCsWbM0ceJEffvtt1q3bp1iY2M1c+ZM\n",
              "HTt2zPec2NhY35+dTudx9z0ezwnfz+VyyeVy+W1ztOOjDAB2inj9vvrqKzkcDg0fPlxPPPGEjDHa\n",
              "tGmTunfvrtjYWFVXV2v58uWRHgsArBDxI/3t27crPz9fxhh5PB7ddNNNmjJlikaPHq2MjAyde+65\n",
              "Gjx4cKTHAgAr8B25ANBK8B25AICQIvoAYBGiDwAWIfoAYBGiDwAWIfoAYBGiDwAWIfoAYBGiDwAW\n",
              "IfoAYJGIX3unNbhiUIoemx/+X3cGgNaGI30AsAjRBwCLEH0AsAjRBwCLEH0AsAjRBwCLEH0AsAjR\n",
              "BwCLEH0AsAjRBwCLEH0AsAjRBwCLEH0AsAjRBwCLEH0AsAjRBwCLEH0AsAjRBwCLEH0AsAjRBwCL\n",
              "EH0AsAjRBwCLEH0AsAjRBwCLEH0AsAjRBwCLEH0AsAjRBwCLEH0AsIjDGGOiPUSkjctwKD+bf+8A\n",
              "tC4XFDWH/T0oHwBYhOgDgEVOKvobN27Uyy+/LEmqqalRVVVVSIcCAIRH0NF/5plnNH78eP3pT3+S\n",
              "JB0+fFg33nhjqOcCAIRB0NFfsmSJSktLFRcXJ0nq2bOnvvvuu5APBgAIvaCj73K5dMYZZ/hti4mJ\n",
              "CdlAAIDwCTr6Xbt21Z49e+RwOCRJRUVFSkxMDPlgAIDQC/oQfcGCBRozZox27dql888/X3FxcVq5\n",
              "cmU4ZgMAhFjQ0U9NTdW6deu0e/duGWP0q1/9Sk6nMxyzAQBC7KROxh85ckRNTU3yeDzaunWrJKlv\n",
              "374hHQwAEHpBR/+pp57Sgw8+qK5du/qO8B0Oh/bs2RPy4QAAoRX0B7mLFi3S7t27tX//fpWXl6u8\n",
              "vLzF4DscDtXW1oZiRm3YsEE33HBDSF4LAGwWdPQTEhJ07rnnhmOWE8rKytJrr70W0fcEgLYo6OjP\n",
              "nj1bd955p9577z198sknvtuJGGN03333afjw4frxxx81f/58ZWdnKzMzU9nZ2Vq7dq0k6ZVXXtHQ\n",
              "oUP9npeSkqKtW7dq9erVyszMlCRVVFSoU6dOmjNnjvr166fU1FS9/fbbwS4DAKwU9Dn9tWvXqri4\n",
              "WGvWrPE7p//5558ft29DQ4PGjBmjX/7yl1qxYoWcTqduuukmzZw5U5JUWlqqW2+9Vbt27dLIkSM1\n",
              "ffp0VVdXq3v37lq9erU6d+4st9ut1atX+71uXV2d+vTpo7lz5+qdd97R9OnT9bvf/a7FeRsaGtTQ\n",
              "0OC3rdkb7KoBoG0IOvrFxcW+o+2fc+2112rEiBF64IEHfNs2b96shx9+WIcOHVJMTIx2796to0eP\n",
              "6owzztCoUaP08ssv695771VRUZHGjRvX4uvGxsZq5MiRkqSBAwdq3759J5yhsLBQc+fO9dvm7hLA\n",
              "QgGgDQr69E5SUlJAwZek3Nxcvf/++6qvr5ckNTY2auTIkXriiSe0Y8cO32mhn47Ex48frxdffFFH\n",
              "jhzRypUrT3ghN5fL5fuNYKfTqebmE3/xQH5+vurq6vxufYg+AEsFfaSfnZ2t66+/XqNHj1ZsbKxv\n",
              "+/Dhw4/bd/bs2SoqKtLgwYO1atUqtW/fXo2Njb7LNixatMhv/wEDBkiS7rnnHg0ePFhnn312sOMd\n",
              "x+VyyeVy+W1z8i0CACwVdPQ3btwoSXr22Wd92xwOR4vRl6QZM2borLPOUm5urt59910VFBSof//+\n",
              "6tKli/Ly8o7bf9y4cZo1a5ZWrVoV7GgAgJ/Bd+QCQCsRie/IPanLMDQ1NenAgQM6duyYb1ufPn1C\n",
              "NhQAIDyCjv7KlSs1adIk1dTU6KyzzlJNTY2SkpJ04MCBcMwHAAihoM9xPPDAAyotLVVaWpoOHTqk\n",
              "4uJijR49OhyzAQBCLOjot2vXTklJSfJ4PJKksWPHqqSkJOSDAQBCL+jTO+3bt5cknXfeeVqxYoWS\n",
              "k5NVU1MT8sEAAKEXdPSnT5+umpoaFRQUKC8vT7W1tVq4cGE4ZgMAhFjA0f/pt2cTEhK0fft2SdLS\n",
              "pUslyffbsQCA1i3g6N99993HbXM4HPr6669VVVX1Hy+FAABoHQKO/vr16/3uHz58WAUFBVq2bNlx\n",
              "FzQDALROQf/0zrFjx1RYWKj09HRJ0s6dO3X//feHfDAAQOgFfKTv9Xq1dOlSzZs3T7m5uVq3bp2S\n",
              "kpLCOVvYdP7tXbpg/vxojwEAERdw9Hv37q2GhgY98sgjcrvdqqur07Zt23yPcxkGAGj9Ao7+jz/+\n",
              "KIfDoQcffPC4xxwOh/bv3x/SwQAAoRdw9CsqKsI4BgAgEri+MABYhOgDgEWIPgBYhOgDgEWIPgBY\n",
              "hOgDgEWIPgBYhOgDgEWIPgBYhOgDgEWIPgBYhOgDgEWIPgBYhOgDgEWIPgBYhOgDgEWIPgBYhOgD\n",
              "gEWIPgBYhOgDgEWIPgBYhOgDgEWIPgBYhOgDgEWIPgBYhOgDgEWIPgBYxGGMMdEeItL+67fZ6pR3\n",
              "ZbTHAAA/X437n7C/B0f6AGARog8AFiH6AGARog8AFiH6AGARog8AFiH6AGARog8AFiH6AGARog8A\n",
              "FiH6AGCRiETf4/Fo7ty5uvDCC9W7d29lZmZq8uTJevPNN5WZmRnw6yxevFiPP/54+AYFgDYuJhJv\n",
              "MmHCBB0+fFhr165V586dZYzR66+/rsOHDwf8Gh6PR7fddlsYpwSAti/s0d+7d6+WL1+uyspKde7c\n",
              "WZLkcDh03XXXafXq1fJ4PJo6dao+++wzeTwevfTSS8rKylJFRYUyMzM1ZcoUvf/++7r55ptVW1ur\n",
              "2tpaLViwQKWlpZo2bZqam5vl8Xg0bdo03X777ce9f0NDgxoaGvw3Nlt3YVEAkBSB0zubNm1Sr169\n",
              "1KVLlxYf37Vrl2655RZt3bpVf/jDH/THP/7R91hdXZ0yMjK0adMmzZgxw+95hYWFuueee7Rlyxbt\n",
              "2LFDeXl5Lb5+YWGhOnbs6HdrPFAVsvUBwOkk6h/kpqamasCAAZKkgQMHat++fb7H2rdvr7Fjx7b4\n",
              "vJycHM2bN08PPfSQ1qxZ4/u/iH+Xn5+vuro6v1uHHvGhXwgAnAbCHv2+ffuqvLxchw4davHx2NhY\n",
              "35+dTqc8Ho/v/plnnql27VoeccaMGXrrrbcUHx+v2bNna+rUqS3u53K5FBcX53eT03EKKwKA01fY\n",
              "o5+amqpRo0ZpwoQJqq2tlSQZY/TGG29o//79J/26u3fvVo8ePTRp0iTNnj1bpaWlIZoYANquiPz0\n",
              "zgsvvKCCggINGDBAMTEx8nq9uuKKK3TNNdec9Gs+/fTTKikpUYcOHeR0OvXkk0+GcGIAaJv4jlwA\n",
              "aCX4jlwAQEgRfQCwCNEHAIsQfQCwCNEHAIsQfQCwCNEHAIsQfQCwCNEHAIsQfQCwSESuvdPaTM64\n",
              "XPMj8OvOANDacKQPABYh+gBgEaIPABYh+gBgEaIPABYh+gBgEaIPABYh+gBgEaIPABYh+gBgEaIP\n",
              "ABYh+gBgEaIPABYh+gBgEesurdzQ0KBVq1apublZTqcz2uOEVXNzsz7//HP179+ftbYhrLVtOtW1\n",
              "JiUlafr06T+7n8MYY05mwNNVfX29OnbsqLq6OsXFxUV7nLBirW0Ta22bIrVWTu8AgEWIPgBYhOgD\n",
              "gEWsi77L5dKcOXPkcrmiPUrYsda2ibW2TZFaq3Uf5AKAzaw70gcAmxF9ALAI0QcAixB9ALBIm41+\n",
              "eXm5Lr30Ul1wwQXKzs7WF1980eJ+zz//vHr16qWePXtq0qRJampqivCkpy6QtZaUlKh///5KT09X\n",
              "RkaGZs2aJa/XG4VpT02gf6+SZIxRbm6uOnXqFLkBQyjQtW7fvl2DBg1SWlqa0tLS9Ne//jXCk566\n",
              "QNbq9Xo1c+ZMpaenq0+fPsrJydHevXujMO2pufPOO5WcnCyHw6EtW7accL+wtcm0UTk5OebFF180\n",
              "xhizfPlyk5WVddw++/fvN/Hx8aaqqsp4vV4zbNgw8/TTT0d40lMXyFo3bdpk9u3bZ4wx5ujRo+ay\n",
              "yy7zPed0Eshaf/Lkk0+aiRMnmo4dO0ZmuBALZK0//PCD6dGjh/n000+NMcZ4PB7z7bffRnLMkAhk\n",
              "rStWrDD9+/c3jY2Nxhhj5s2bZ6677rpIjhkSH3/8sfnyyy9NUlKS2bx5c4v7hLNNbTL633zzjfnF\n",
              "L35hmpqajDHGeL1e061bN1NeXu6332OPPWamTJniu//WW2+Zyy67LKKznqpA1/rvpk2bZubMmROB\n",
              "CUMnmLXu2LHDXH755Wbv3r2nZfQDXeuf//xnM2bMmGiMGDKBrvXNN980brfb1NfXG6/Xa+69915z\n",
              "1113RWPkkPhP0Q9nm9rk6Z0vv/xS8fHxion510VEHQ6HEhMTVVlZ6bdfZWWlkpKSfPeTk5OP26e1\n",
              "C3St/191dbVef/11DR06NFJjhkSga21qatKkSZP03HPPnbZXZgx0rWVlZXK5XBo6dKgyMzN18803\n",
              "67vvvovGyCct0LUOGzZMgwYNUvfu3RUfH68PP/xQDz30UDRGDrtwtqlNRh8nVl9fr2HDhmnWrFnK\n",
              "ysqK9jhhMXfuXI0cOVJpaWnRHiXsPB6PPvjgAz333HPavHmzEhISdPvtt0d7rLDYsGGDduzYoX/+\n",
              "85/6+uuvdeWVV+q2226L9linnTYZ/fPPP19VVVXyeDyS/vWBXmVlpRITE/32S0xM1MGDB333Kyoq\n",
              "jtuntQt0rZL0/fffa8iQIRoxYoRmzpwZ6VFPWaBr/fjjj7Vo0SIlJyfr17/+terr65WcnHxaHQEH\n",
              "899wTk6OEhIS5HA4NHbsWJWWlkZj5JMW6FqLi4t9H8y3a9dOt9xyiz766KNojBx24WxTm4z+Oeec\n",
              "o759+2rZsmWSpDfeeEPnnXeeUlNT/fYbNWqU/v73v6u6ulrGGC1evFh5eXnRGPmkBbrWI0eOaMiQ\n",
              "IRoyZIjuv//+aIx6ygJd66effqqDBw+qoqJCa9asUVxcnCoqKtS1a9dojH1SAl3r9ddfr/Xr16u+\n",
              "vl6S9Pbbb8vtdkd83lMR6FpTUlJUUlKixsZGSdLKlSvVu3fviM8bCWFtU0g+GWiFdu3aZS655BLT\n",
              "q1cv069fP7Nt2zZjjDETJkwwf/vb33z7LVmyxKSkpJiUlBQzfvx4308GnE4CWWtBQYGJiYkxbrfb\n",
              "dysoKIjm2Ccl0L/Xnxw4cOC0/CDXmMDXWlxcbDIyMsxFF11khgwZYiorK6M18kkLZK3Hjh0zEydO\n",
              "NBdeeKG56KKLzFVXXeX7ibTTyeTJk01CQoJxOp3mnHPOMT179jTGRK5NXHANACzSJk/vAABaRvQB\n",
              "wCJEHwAsQvQBwCJEHwAsQvQBwCJEHwAsQvQBwCJEHwAsQvQBwCL/C2iW7CIo3wwWAAAAAElFTkSu\n",
              "QmCC\n",
              "\">\n",
              "        \n",
              "      </div>\n",
              "      <script></script>\n",
              "      <script type=\"text/javascript\">\n",
              "        (() => {\n",
              "          const chartElement = document.getElementById(\"chart-a8c8a9b0-9300-4d40-94ff-675537bbd0f7\");\n",
              "          async function getCodeForChartHandler(event) {\n",
              "            const chartCodeResponse =  await google.colab.kernel.invokeFunction(\n",
              "                'getCodeForChart', [\"chart-a8c8a9b0-9300-4d40-94ff-675537bbd0f7\"], {});\n",
              "            const responseJson = chartCodeResponse.data['application/json'];\n",
              "            await google.colab.notebook.addCell(responseJson.code, 'code');\n",
              "          }\n",
              "          chartElement.onclick = getCodeForChartHandler;\n",
              "        })();\n",
              "      </script>\n",
              "      <style>\n",
              "        .colab-quickchart-chart-with-code  {\n",
              "            display: block;\n",
              "            float: left;\n",
              "            border: 1px solid transparent;\n",
              "        }\n",
              "\n",
              "        .colab-quickchart-chart-with-code:hover {\n",
              "            cursor: pointer;\n",
              "            border: 1px solid #aaa;\n",
              "        }\n",
              "      </style>"
            ]
          },
          "metadata": {}
        },
        {
          "output_type": "display_data",
          "data": {
            "text/plain": [
              "import numpy as np\n",
              "from google.colab import autoviz\n",
              "\n",
              "def categorical_histogram(df, colname, figscale=1, mpl_palette_name='Dark2'):\n",
              "  from matplotlib import pyplot as plt\n",
              "  import seaborn as sns\n",
              "  df.groupby(colname).size().plot(kind='barh', color=sns.palettes.mpl_palette(mpl_palette_name), figsize=(8*figscale, 4.8*figscale))\n",
              "  plt.gca().spines[['top', 'right',]].set_visible(False)\n",
              "  return autoviz.MplChart.from_current_mpl_state()\n",
              "\n",
              "chart = categorical_histogram(_df_3, *['item Purchased'], **{})\n",
              "chart"
            ],
            "text/html": [
              "      <div class=\"colab-quickchart-chart-with-code\" id=\"chart-fcda6192-44b6-4df1-bca5-9890edf36d52\">\n",
              "        <img src=\"data:image/png;base64,iVBORw0KGgoAAAANSUhEUgAAAX4AAADgCAYAAAAEwQ17AAAAOXRFWHRTb2Z0d2FyZQBNYXRwbG90\n",
              "bGliIHZlcnNpb24zLjcuMSwgaHR0cHM6Ly9tYXRwbG90bGliLm9yZy/bCgiHAAAACXBIWXMAAA9h\n",
              "AAAPYQGoP6dpAAAVyklEQVR4nO3df3AU9eH/8dflAglULpGRX1JICL8JkAABwRC+oKVJ2wRQSSsO\n",
              "UhA0tdqAQXBi6QCNHT7QlrTFaUlFYGgFGX4pLYotIgy0UmohBQyt/ApBMPJLEgIJCcn784fT+/S+\n",
              "IN7C7V0u+3zM3Ex2897L6z1hXmx293ZdxhgjAIBjRIQ6AAAguCh+AHAYih8AHIbiBwCHofgBwGEo\n",
              "fgBwGIofAByG4gcAh3F08f/yl78MdQQACDpHF//JkydDHQEAgs7RxQ8ATkTxA4DDUPwA4DAUPwA4\n",
              "DMUPAA5D8QOAw1D8AOAwFD8AOAzFDwAOQ/EDgMNQ/ADgMBQ/ADgMxQ8ADkPxA4DDuIwxJtQhQiVl\n",
              "4Dg98P+mhToGAPhYVJhp6/uzxw8ADkPxA4DDUPwA4DAUPwA4DMUPAA5D8QOAw1D8AOAwFD8AOAzF\n",
              "DwAOQ/EDgMNQ/ADgMBQ/ADhMkyv+69evhzoCADRqthV/dXW1vvOd76hPnz5KSkrS17/+de3YsUPJ\n",
              "ycneMYcOHVJ8fLykzws7PT1dKSkpSkxM1GOPPaYrV654x86dO1fdunXT4MGDNWfOHO92paWlio2N\n",
              "1QsvvKCBAwfq5Zdfvmmea9euqbKy0udlGhrsmj4ANFq2Ff/WrVt16dIllZSU6J///Kdef/31W453\n",
              "u91avXq1PvjgAx06dEgxMTFasmSJJGnLli3asGGD9u/fr7179+r06dM+21ZUVCgxMVH79u3TjBkz\n",
              "bvr+CxYsUExMjM/rk08/CshcASCc2Fb8SUlJOnz4sL7//e9r7dq1atas2S3HG2NUWFioAQMGqH//\n",
              "/tqyZYuKi4slSe+++66ys7PVqlUruVwuTZ061WfbZs2aaeLEibd8//z8fFVUVPi8OrTrcUdzBIBw\n",
              "ZFvxJyQkqKSkRBkZGfrLX/6ivn37yu12q76+3jumpqbG+/Xq1au1fft27dy5UwcPHtTzzz/v8/3/\n",
              "5nK5fJZbtmypiIhbTyUqKkoej8fn5fqSbQCgKbKt+T7++GO5XC6NGTNGP/vZz2SMkTFGJ0+e1Llz\n",
              "5yRJv/vd77zjP/vsM91zzz3yeDy6fPmyVq5c6f3eAw88oA0bNqiqqkrGGC1fvtyu2ADQ5NlW/AcP\n",
              "HlRqaqqSkpI0YMAAPf744xoxYoRmz56tIUOGaOjQoWrdurV3/KRJk3T16lX17NlT3/jGN5SWlub9\n",
              "XmZmpsaOHavk5GQNHjxYsbGxio2NtSs6ADRpYfPM3cuXL6tVq1YyxmjmzJmqrq7Wb37zmzt6T565\n",
              "C6AxsvuZu5G2vnsATZo0SaWlpaqpqVFiYqKWLl0a6kgAEJbCpvg3bdoU6ggA0CRwWQsAOAzFDwAO\n",
              "Q/EDgMNQ/ADgMBQ/ADgMxQ8ADkPxA4DDUPwA4DBh8wEuO4wYmaBFi+39aDQANDbs8QOAw1D8AOAw\n",
              "FD8AOAzFDwAO49fJ3SlTptzwuMP/xhOxACB8+LXHn5KSokGDBql58+bas2ePEhIS1LVrV+3du1dR\n",
              "UVF2ZwQABJBfe/zPPPOMJGnEiBHas2ePPB6PJOkHP/iBMjO5HBIAwomlY/znzp3zlr4keTwe74PT\n",
              "AQDhwdIHuJKSkjR58mRNnTpVkrRixQolJSXZEgwAYA9Le/zLli1TmzZtNGPGDM2YMUNt2rTRsmXL\n",
              "7MoGALCBpT3+u+66Sz/96U/tygIACAJLe/ynTp1SZmamkpOTJUnFxcUqLCy0IxcAwCaWij8nJ0eP\n",
              "PvqojDGSpL59+3INPwCEGUvFf/bsWU2cOFEREZ9vFhkZqchIR9/gEwDCjqXij4yM9O7tS9Jnn33m\n",
              "swwAaPwsFX92drZycnJUWVmpZcuWafTo0Zo2bZpd2QAANrB0nGbmzJlas2aNKioq9Kc//Ul5eXl6\n",
              "7LHH7MoGALCB5QP0EyZM0IQJE2SMUVVVlR2ZAAA2snSoZ+rUqbp06ZJqa2uVnJysdu3a6de//rVd\n",
              "2QAANrBU/P/4xz8UGxurrVu3asCAASovL9fSpUvtygYAsIGl4v/PFTy7du1SZmamPB6P3G63LcEA\n",
              "APawVPzt27fX008/rXXr1ulrX/ua6urqVF9fb1c2AIANLBX/a6+9pp49e+r1119XbGysTp8+rby8\n",
              "PLuyAQBs4DIO/gRWXl6eFi9eHOoYABBUli7nPHv2rObNm6fi4mLV1NR41+/bty/gwQAA9rB8OWdc\n",
              "XJzOnz+v+fPn695779W3vvUtu7IBAGxg+bbML7zwgqKiopSVlaWNGzdq27ZtdmUDANjAUvE3b95c\n",
              "khQdHa0LFy4oMjJS58+ftyUYAMAelo7x9+jRQxcuXNDEiRN13333yePxaNCgQXZlAwDY4Lav6tm9\n",
              "e7cuXbqkjIyMsL0n/5REl/IHW/qjBwBs12OlvZ+Puu3GHj58eCBzAACCxNLu7tatW9WrVy81b95c\n",
              "brdbERER3LIBAMKMpT3+3NxcLVmyRMOGDaPwASBMWSp+j8ej9PR0u7IAAILA0qGezMxMvfHGGzZF\n",
              "AQAEg197/HfffbdcLpeMMaqoqFCLFi0UFRUlY4xcLpcuXrxod04AQID4VfzFxcU2xwAABItfxR8X\n",
              "FydJKisrU9u2bRUdHS1Jqqmp0blz5+xLBwAIOEvH+MePH++zbIy5YR0AoHGzVPy1tbXevX1JatGi\n",
              "ha5duxbwUAAA+1gqfpfLpbNnz3qXy8vL5eDnuABAWLJU/Lm5uRo2bJjmzZunefPmafjw4Xr++eft\n",
              "yqaioiL16tVLycnJunDhwg3LAADrLN+kbceOHXrrrbckSVlZWUpLS7MlmCT17t1by5cv17Bhw266\n",
              "fKe4SRuAxqjR3KStvr5e/fr1U0lJiUaOHHlbP+z999/XrFmzdPnyZRljVFBQoI4dOyo3N1dVVVWK\n",
              "jo5WYWGhUlNTNX78eB07dkyTJ09Wv379JMlnef369XrnnXdUUFCg6upqud1uLVy4UKNGjbqtbADg\n",
              "FH4Xv9vtVps2bXT16lW1bNnS8g+6ePGixo0bp/Xr1ystLU0NDQ06f/68UlJS9Morryg9PV27d+/W\n",
              "I488oqNHj2r9+vWKj4/X2rVrlZycLEk+y8ePH9e8efP0zjvvyOPx6OjRo0pLS1NpaamioqJu+PnX\n",
              "rl274UR0fYPlaQBA2LN0r55u3bopNTVV2dnZuuuuu7zrc3Nzv3Tb999/Xz179vQeGoqIiNCnn36q\n",
              "iIgI7/1/hg8frnbt2qm4uPhLb/u8detWHT16VCNGjPCui4iIUFlZmbp3737D+AULFmj+/Pk+65Lu\n",
              "+dLYANDkWCr+hoYGJScn68iRI951LpcroIH8fT9jjEaPHq3Vq1f7NT4/P195eXk+6569L8ZyPgAI\n",
              "d5aKf8WKFbf9g+6//34dOXJEu3bt8h7qadeunRoaGvTnP/9Zo0eP1l//+leVl5d7D+3cSnp6uubP\n",
              "n68DBw6of//+kqS9e/dqyJAhNx0fFRV1wyEgN+d1ATiQpeJftWrVTddPmjTpS7e9++67tWnTJs2c\n",
              "OVOXL19WRESECgoKtHHjRuXm5mrmzJmKjo7W+vXrfQ4jfZFu3bpp9erVysnJ0dWrV1VbW6sBAwb4\n",
              "/RcAADiVpcs5s7OzvV/X1NRo9+7dGjp0qN5++21bwtmNyzkBNEaN5nJOSVq3bp3P8okTJ/TDH/4w\n",
              "oIEAAPa6o93dLl266MMPPwxUFgBAEFja49+8ebP36/r6ev3tb3+76TXzAIDGy1LxFxYW/t+GkZHq\n",
              "1q2b1q5dG/BQAAD7WCr+DRs2qHXr1nZlAQAEgV/H+Hfs2KG2bduqTZs26tKliw4dOmR3LgCATfwq\n",
              "/lmzZqmoqEhVVVWaM2eO8vPz7c4FALCJX8VfV1enhx56SC1atNDUqVP18ccf250LAGATv4o/IsJ3\n",
              "WKDvzwMACB6/Tu4eOHDA56RuZWWlWrduLWOMXC6XLl68aFtAAEBg+VX8x44dsztHSNyd/px6LF4c\n",
              "6hgAEFR+FX9cXJzdOQAAQcIdygDAYSh+AHAYih8AHMbSLRsk6fDhwzpy5IiuX7/uXffwww8HNBQA\n",
              "wD6Win/mzJl67bXX1KdPH7ndbkmfX9NP8QNA+LBU/G+++aaOHz+uli1b2pUHAGAzS8f4O3XqpOjo\n",
              "aLuyAACCwNIe/6JFi5Sdna309HSf/wD8edg6AKBxsFT8S5cu1YEDB2SM8TnGT/EDQPiwVPw7duzQ\n",
              "v//9b0VGWr4YCADQSFg6xp+QkCBjjF1ZAABBYGnXPSEhQSNHjtTYsWN9jvHn5uYGPBgAwB6Wir+2\n",
              "tlY9evTQ4cOHveu4Nz8AhBdLxb9ixQq7cgAAgsTSMf6Kigo9++yzysrKkiSVlJRozZo1tgQDANjD\n",
              "UvHn5OSoffv2OnHihCSpS5cuWrhwoS3BAAD2sFT8H330kebMmaNmzZpJklq0aMFVPgAQZiwVf/Pm\n",
              "zX2Wq6urKX4ACDOWin/UqFH6yU9+opqaGm3btk3jx4/XQw89ZFc2AIANLBV/QUGBIiIi5PF49OKL\n",
              "Lyo1NVVz5861KxsAwAaWLucsKSlRfn6+8vPzvesOHDig/v37BzwYAMAelvb4J0+e7Nc6AEDj5dce\n",
              "/9mzZ1VeXq7q6modPHjQe0K3oqJCV65csTUgACCw/Cr+NWvW6Be/+IXOnDmjMWPGeNfHxMRo9uzZ\n",
              "toUDAASeX8U/ffp0TZ8+XQUFBfrRj35kdyYAgI38Kv4rV67oK1/5iqZPn67Kysobvu/xeAIeDABg\n",
              "D7+KPy0tTfv27VNsbKxcLpfPh7ZcLpfq6+ttCwgACCy/in/fvn2SpIaGBlvDAADsZ+lyTgBA+HMZ\n",
              "B99s5670wYp99MFQxwAAHx9P+R9b3589fgBwGIofAByG4gcAh6H4AcBhKH4AcBiKHwAchuIHAIeh\n",
              "+AHAYSh+AHAYih8AHIbiBwCHCXnxx8fHq23btqqrq/Oue++99+RyuTRjxgxt3rxZzz33nCRpx44d\n",
              "Sk5OliSVlpYqNjY2BIkBILyFvPglqXPnztq8ebN3+dVXX1VKSookacyYMSosLAxVNABochpF8U+Z\n",
              "MkXLly+X9PkD3Pfs2aOMjAxJ0sqVKzVu3Lhbbl9bW6uJEycqJyfnCx8Kc+3aNVVWVvq8VO/YG5MC\n",
              "cLBGUfypqakqLS3VmTNntGbNGmVnZ8vtdvu17aVLl5SRkaE+ffqoqKjoC7dbsGCBYmJifF61Jz4J\n",
              "5DQAICw0iuKXpMcff1wrV67U8uXL9cQTT/i1TW1trVJTUzV58mS9+OKLtxybn5+viooKn1fzLh0C\n",
              "ER0AwkqjKf5JkybpV7/6laKjo9W9e3e/tmnWrJmGDx+uP/zhDz4nh28mKipKHo/H5yW3KxDRASCs\n",
              "NJriv/fee7VgwQItXLjQ721cLpeKiorUqVMnjRs3TtXV1TYmBICmodEUv/T5Sd5hw4ZZ3m7x4sUa\n",
              "OHCgvvnNb6qqqsqGZADQdPDMXZ65C6CR4Zm7AICAovgBwGEofgBwGIofAByG4gcAh6H4AcBhKH4A\n",
              "cBiKHwAchuIHAIeh+AHAYSJDHSCUnkpM02KbPxoNAI0Ne/wA4DAUPwA4DMUPAA5D8QOAw1D8AOAw\n",
              "FD8AOAzFDwAOQ/EDgMNQ/ADgMBQ/ADgMxQ8ADkPxA4DDUPwA4DAUPwA4jGNvy3zt2jW9/fbbqq+v\n",
              "l9vtDnUcW9XX12vv3r0aMmQIc21CmGvTdKdzjYuL0/Tp0285xmWMMbcbMJxVVlYqJiZGFRUV8ng8\n",
              "oY5jK+baNDHXpikYc+VQDwA4DMUPAA5D8QOAwzi2+KOiojR37lxFRUWFOortmGvTxFybpmDM1bEn\n",
              "dwHAqRy7xw8ATkXxA4DDUPwA4DAUPwA4TJMv/iNHjuj+++9Xjx49NHjwYH344Yc3Hffqq6+qe/fu\n",
              "6tq1q5588knV1dUFOemd82eu27dv15AhQ9SnTx8lJiZq9uzZamhoCEHaO+Pv71WSjDF64IEHFBsb\n",
              "G7yAAeTvXA8ePKiRI0eqd+/e6t27tzZu3BjkpHfOn7k2NDQoLy9Pffr0Uf/+/TVq1CgdPXo0BGlv\n",
              "X25uruLj4+VyuVRcXPyF42zrJdPEjRo1yqxYscIYY8y6detMSkrKDWOOHz9uOnToYD755BPT0NBg\n",
              "srKyzMsvvxzkpHfOn7nu27fPHDt2zBhjTHV1tUlNTfVuE078met//PznPzfTpk0zMTExwQkXYP7M\n",
              "9cqVK6ZLly5m165dxhhjrl+/bs6ePRvMmAHhz1w3bdpkhgwZYmpra40xxhQUFJjs7OxgxrxjO3fu\n",
              "NKdOnTJxcXFm//79Nx1jZy816eL/9NNPTatWrUxdXZ0xxpiGhgbTrl07c+TIEZ9xixYtMjk5Od7l\n",
              "LVu2mNTU1KBmvVP+zvX/98wzz5i5c+cGIWHgWJnroUOHTFpamjl69GhYFr+/c33llVfMhAkTQhEx\n",
              "YPyd6xtvvGGSkpJMZWWlaWhoMLNmzTLPPfdcKCLfsVsVv5291KQP9Zw6dUodOnRQZOTnNyF1uVzq\n",
              "3LmzysrKfMaVlZUpLi7OuxwfH3/DmMbO37n+t/Lycq1fv16ZmZnBihkQ/s61rq5OTz75pIqKisL2\n",
              "jo7+zrWkpERRUVHKzMxUcnKyJk2apHPnzoUi8m3zd65ZWVkaOXKk2rdvrw4dOujdd9/Vj3/841BE\n",
              "tpWdvdSkix9frLKyUllZWZo9e7ZSUlJCHccW8+fP18MPP6zevXuHOortrl+/rm3btqmoqEj79+9X\n",
              "x44d9fTTT4c6li0++OADHTp0SKdPn9aZM2f04IMP6nvf+16oY4WVJl38nTp10ieffKLr169L+vwk\n",
              "X1lZmTp37uwzrnPnzjp58qR3ubS09IYxjZ2/c5Wky5cvKyMjQ2PHjlVeXl6wo94xf+e6c+dOLVmy\n",
              "RPHx8Ro+fLgqKysVHx8fVnvCVv4Njxo1Sh07dpTL5dLEiRO1Z8+eUES+bf7OddWqVd6T9REREfru\n",
              "d7+r9957LxSRbWVnLzXp4m/btq0GDhyo3//+95KkDRs26Ktf/aq6devmM+6RRx7R5s2bVV5eLmOM\n",
              "li5dqkcffTQUkW+bv3OtqqpSRkaGMjIyNGfOnFBEvWP+znXXrl06efKkSktLtXv3bnk8HpWWlqpN\n",
              "mzahiH1b/J3rt7/9bf39739XZWWlJOmtt95SUlJS0PPeCX/nmpCQoO3bt6u2tlaS9Mc//lF9+/YN\n",
              "el672dpLATlT0Ij961//MkOHDjXdu3c3gwYNMgcOHDDGGDN16lTz5ptvesf99re/NQkJCSYhIcE8\n",
              "8cQT3isGwok/c33ppZdMZGSkSUpK8r5eeumlUMa+Lf7+Xv/jxIkTYXly1xj/57pq1SqTmJho+vXr\n",
              "ZzIyMkxZWVmoIt82f+ZaU1Njpk2bZnr16mX69etnRo8e7b1SLVw89dRTpmPHjsbtdpu2bduarl27\n",
              "GmOC10vcpA0AHKZJH+oBANyI4gcAh6H4AcBhKH4AcBiKHwAchuIHAIeh+AHAYSh+AHAYih8AHIbi\n",
              "BwCH+V+rGRSvae8BcgAAAABJRU5ErkJggg==\n",
              "\">\n",
              "        \n",
              "      </div>\n",
              "      <script></script>\n",
              "      <script type=\"text/javascript\">\n",
              "        (() => {\n",
              "          const chartElement = document.getElementById(\"chart-fcda6192-44b6-4df1-bca5-9890edf36d52\");\n",
              "          async function getCodeForChartHandler(event) {\n",
              "            const chartCodeResponse =  await google.colab.kernel.invokeFunction(\n",
              "                'getCodeForChart', [\"chart-fcda6192-44b6-4df1-bca5-9890edf36d52\"], {});\n",
              "            const responseJson = chartCodeResponse.data['application/json'];\n",
              "            await google.colab.notebook.addCell(responseJson.code, 'code');\n",
              "          }\n",
              "          chartElement.onclick = getCodeForChartHandler;\n",
              "        })();\n",
              "      </script>\n",
              "      <style>\n",
              "        .colab-quickchart-chart-with-code  {\n",
              "            display: block;\n",
              "            float: left;\n",
              "            border: 1px solid transparent;\n",
              "        }\n",
              "\n",
              "        .colab-quickchart-chart-with-code:hover {\n",
              "            cursor: pointer;\n",
              "            border: 1px solid #aaa;\n",
              "        }\n",
              "      </style>"
            ]
          },
          "metadata": {}
        },
        {
          "output_type": "display_data",
          "data": {
            "text/plain": [
              "<google.colab._quickchart_helpers.SectionTitle at 0x77fc6e55a830>"
            ],
            "text/html": [
              "<h4 class=\"colab-quickchart-section-title\">2-d categorical distributions</h4>\n",
              "<style>\n",
              "  .colab-quickchart-section-title {\n",
              "      clear: both;\n",
              "  }\n",
              "</style>"
            ]
          },
          "metadata": {}
        },
        {
          "output_type": "display_data",
          "data": {
            "text/plain": [
              "import numpy as np\n",
              "from google.colab import autoviz\n",
              "\n",
              "def heatmap(df, x_colname, y_colname, figscale=1, mpl_palette_name='viridis'):\n",
              "  from matplotlib import pyplot as plt\n",
              "  import seaborn as sns\n",
              "  import pandas as pd\n",
              "  plt.subplots(figsize=(8 * figscale, 8 * figscale))\n",
              "  df_2dhist = pd.DataFrame({\n",
              "      x_label: grp[y_colname].value_counts()\n",
              "      for x_label, grp in df.groupby(x_colname)\n",
              "  })\n",
              "  sns.heatmap(df_2dhist, cmap=mpl_palette_name)\n",
              "  plt.xlabel(x_colname)\n",
              "  plt.ylabel(y_colname)\n",
              "  return autoviz.MplChart.from_current_mpl_state()\n",
              "\n",
              "chart = heatmap(_df_4, *['Name', 'item Purchased'], **{})\n",
              "chart"
            ],
            "text/html": [
              "      <div class=\"colab-quickchart-chart-with-code\" id=\"chart-c7e39719-9b2c-4792-9b67-23f5b31fa421\">\n",
              "        <img src=\"data:image/png;base64,iVBORw0KGgoAAAANSUhEUgAAAXMAAAFrCAYAAAAjP2lkAAAAOXRFWHRTb2Z0d2FyZQBNYXRwbG90\n",
              "bGliIHZlcnNpb24zLjcuMSwgaHR0cHM6Ly9tYXRwbG90bGliLm9yZy/bCgiHAAAACXBIWXMAAA9h\n",
              "AAAPYQGoP6dpAAAyHUlEQVR4nO3de3xU1b3//9dOAgNawqUSQGMIIWAORHLBVLkcLooGBIJykUux\n",
              "JxAklLZAUbFRKCBqUIsatRT8GeMFRW6pJ6W19VjlGIpYMQQoeAmQCyghKDERQkIu+/fHfJ3jNEBm\n",
              "JhmSPXk/H4/9eJC9195rZeTx9sOaNWsM0zRNRETE0vyaewAiItJ4CnMRER+gMBcR8QEKcxERH6Aw\n",
              "FxHxAQpzEREfoDAXEfEBCnMRER+gMBcR8QEKcxERFyxYsIDQ0FAMwyA3N/eCbQoKChgxYgQdO3Yk\n",
              "Ojq63vX09HT69OlD7969ueeee6iurnbpmisU5iIiLpg8eTI7d+6kZ8+eF20TGBjII488whtvvFHv\n",
              "Wn5+PsuWLSM7O5vDhw9z8uRJXnjhhQavuUphLiLigmHDhhEcHHzJNl26dGHo0KFceeWV9a5t3bqV\n",
              "hIQEunfvjmEYzJs3j40bNzZ4zVUBbrUWEfEhVVVVVFVVOZ2z2WzYbLYm76uoqMipqg8NDaWoqKjB\n",
              "a66yRJiHpT3V3EPwGUcXLm7uIYg0qbrivh7fm7puBitXrnQ6t3z5clasWNHIUV1+lghzEZGLqaPO\n",
              "43tTUlJYvNi5wPFGVQ4QEhLCkSNHHD8XFBQQEhLS4DVXac5cRCyt1qzz+LDZbAQGBjod3grzSZMm\n",
              "kZWVRXFxMaZpsm7dOqZNm9bgNVcpzEXE0uowPT7ckZycTHBwMMePHyc+Pp7w8HAA5syZQ1ZWFgAV\n",
              "FRUEBwczZcoUDh06RHBwMCkpKQCEhYWxcuVKhgwZQnh4OF27diU5ObnBa64yrPBNQ5ozbzqaMxdf\n",
              "c+5EL4/vbd8jvwlH0rw0Zy4iltaYOXNfojAXEUurbfmTC5eFwlxELM3duW9fpTAXEUurVZgDWs0i\n",
              "IuITVJmLiKVpmsVOYS4ilqY3QO0U5iJiaVqYaKcwFxFL0xugdgpzEbG0WmU5oNUsIiI+QZW5iFia\n",
              "5sztFOYiYmm1GM09hBZBYS4illanOXNAYS4iFqfK3E5hLiKWpjC302oWEREfoMpcRCytzlRlDgpz\n",
              "EbE4TbPYKcxFxNJqNVsMKMxFxOI0zWKnMBcRS9M0i53+fSIi4gNUmYuIpdWaqklBYS4iFlenCQZA\n",
              "YS4iFqc5czuFuYhYmqZZ7BTmImJpdarMAa1mERHxCarMRcTS9AlQO70KImJptaafx4c7FixYQGho\n",
              "KIZhkJube9F26enp9OnTh969e3PPPfdQXV0NQEZGBtHR0Y7jqquuYuLEiQAUFBTg7+/vdP3IkSNu\n",
              "jU9hLiKWVoefx4c7Jk+ezM6dO+nZs+dF2+Tn57Ns2TKys7M5fPgwJ0+e5IUXXgBg1qxZ5ObmOo7u\n",
              "3bvz05/+1HFvhw4dnK737t3brfEpzEXE0mpNw+OjqqqK8vJyp6OqquqC/QwbNozg4OBLjmXr1q0k\n",
              "JCTQvXt3DMNg3rx5bNy4sV67jz76iJKSEhISEprkNQCFuYhYXC1+Hh+pqal07NjR6UhNTfV4LEVF\n",
              "RU6Ve2hoKEVFRfXapaenc/fdd9OmTRvHubNnzxIXF0dsbCwPP/wwtbW1bvWtN0BFpNVKSUlh8eLF\n",
              "TudsNptX+zx79ixvvvkmu3fvdpzr0aMHX375JUFBQZw+fZqpU6eyZs0alixZ4vJzVZmLiKXVmX4e\n",
              "HzabjcDAQKejMWEeEhJCYWGh4+eCggJCQkKc2mzZsoX+/fvTr18/xzmbzUZQUBAAXbp0Yfbs2WRn\n",
              "Z7vVt8JcRCytMdMsTW3SpElkZWVRXFyMaZqsW7eOadOmObVJT08nKSnJ6VxJSYlj1UtVVRWZmZnE\n",
              "xMS41bfCXEQsrTFvgLojOTmZ4OBgjh8/Tnx8POHh4QDMmTOHrKwsAMLCwli5ciVDhgwhPDycrl27\n",
              "kpyc7HjG559/Tm5uLlOnTnV69s6dO4mJiSEqKorY2Fi6d+/OQw895Nb4DNM0TbfucJNpmhiG84tW\n",
              "UVHBFVdc4fIzwtKeauphtVpHFy5uuJGIhbySN9jje/+rz64mHEnz8nplPn/+fKefKysrGT9+vLe7\n",
              "FZFW4nJ9aKil8/pvc+bMGR5//HEAampqmDJlCkOGDPF2tyIirYrXlyamp6czZswYrrnmGv70pz/R\n",
              "t29fHn74YW93KyKthHZNtPN6mLdt25bMzEyGDh3K0KFDWbNmjbe7FJFWxNemSzzltTDv3Lmz0xuf\n",
              "VVVVHDt2jE2bNgFw+vRpb3UtIq2Idk2081qYX2pXMRGRplLn5hJDX+W1ML/UzmKXUlVVVW+jG7Om\n",
              "BiNAOw+ISH2qzO28lpAxMTH11pf/UE5OzgXPp6amsnLlSqdzneJvo/OY+CYdn4iIL/FamD/zzDMe\n",
              "3XehjW+i/r91TTAiEfFFdXoDFPBimA8fPtyj+2w2W72NbjTFIiIXU6uliYAXw/zee+9lzZo13Hnn\n",
              "nRecbsnMzPRW1yLSiqgyt/NamI8YMQKAO+64o961S82li4i4Q5W5ndfC/P333+f999+/6PWf/exn\n",
              "3upaRFoRVeZ2Xn0DNC4ujtGjR+PnpxdbRMSbvBbmf//733nppZd44403uOuuu5g9e7bb3zYtItIQ\n",
              "fZzfzmuvwsiRI3nttdf45JNPCAkJ4ac//SkjR47ko48+8laXItIK1WF4fPgSr/8vLTAwkAkTJjBh\n",
              "wgQ+++wzPvvsM293KSKtiPYzt/PaNEttbS1ZWVmkp6dTWFjI3XffTU5ODj169PBWlyLSCmlvFjuv\n",
              "hfk111xDSEgIs2bNcnwZxalTpzh16hQAAwYM8FbXItKKaG8WO6+Febt27Th16hRPPPEEhmHww68a\n",
              "NQyDo0ePeqtrEZFWx2thXlBQ4K1Hi4g4aJrFTpueiIil1WmaBVCYi4jF1aoyBxTmImJxmmaxU5iL\n",
              "iKVpbxY7vQoiIj5AlbmIWJq2wLVTmIuIpWnO3E5hLiKWpjlzO70KImJpl2vXxAULFhAaGophGOTm\n",
              "5l60XXp6On369KF3797cc889VFdXA7Bjxw7at29PdHS04zh37lyD97lKYS4illZrGh4f7pg8eTI7\n",
              "d+6kZ8+eF22Tn5/PsmXLyM7O5vDhw5w8eZIXXnjBcf26664jNzfXcbRv396l+1yhMBcRccGwYcMI\n",
              "Dg6+ZJutW7eSkJBA9+7dMQyDefPmsXHjxgaf7el9P6Q5cxGxtMbMmVdVVVFVVeV0zmazYbPZPHpe\n",
              "UVGRU+UeGhpKUVGR4+cjR44QGxuLv78/s2bNYv78+S7d5wpV5iJiaXWm4fGRmppKx44dnY7U1FSv\n",
              "jDM2Npbjx4+Tk5PDH//4R9atW8fmzZub7PkKcxGxtMa8AZqSkkJZWZnTkZKS4vFYQkJCKCwsdPxc\n",
              "UFBASEgIYP/WtY4dOwIQHBzM9OnTyc7ObvA+VynMRcTSGlOZ22w2AgMDnQ5Pp1gAJk2aRFZWFsXF\n",
              "xZimybp165g2bRoAJ06coK6uDoDvvvuO7du3ExMT0+B9rlKYi4il1Zl+Hh/uSE5OJjg4mOPHjxMf\n",
              "H094eDgAc+bMISsrC4CwsDBWrlzJkCFDCA8Pp2vXriQnJwOwbds2rr/+eqKiorjpppu49dZbmTVr\n",
              "VoP3ucowf/gVQC1UWNpTzT0En3F04eLmHoJIk5r64TyP7900aF0TjqR5aTWLiFiaPs5vpzAXEUtz\n",
              "95OcvkphLiKWpsrcTmEuIpamMLfTahYRER+gylxELE2VuZ3CXEQsTWFupzAXEUvTahY7hbmIWJoq\n",
              "czuFuYhYmsLcTqtZRER8gCpzEbE0VeZ2CnMRsTSFuZ3CXEQszVSYAwpzEbE4LU20U5iLiKVpmsVO\n",
              "q1lERHyAKnMRsTTNmdspzEXE0jTNYqcwFxFLU2VupzAXEUtTZW5niTDXN8o3nbC0p5p7CD5Bfydb\n",
              "DtNs7hG0DFrNIiLiAyxRmYuIXIw+NGSnMBcRS9MboHYKcxGxNL0BaqcwFxFL0xugdgpzEbE0TbPY\n",
              "aTWLiIgPUGUuIpamytzOpTCfNWsWhnHxF+yll15qsgGJiLjjcr0BumDBArKysigsLGTv3r1ER0df\n",
              "sF16ejqrV6+mrq6Om2++mbVr19KmTRvee+89fvOb33DmzBkMw2Ds2LGsXr0aPz8/CgoK6N27N9df\n",
              "f73jOdu2baN3794uj8+laZYbbriBgQMH0rZtW3bv3k1YWBi9e/fmn//8JzabzeXORESamml6frhj\n",
              "8uTJ7Ny5k549e160TX5+PsuWLSM7O5vDhw9z8uRJXnjhBQA6d+7Mm2++yaFDh/jkk0/YtWsXr776\n",
              "quPeDh06kJub6zjcCXJwsTL/xS9+AcCwYcPYvXs3gYGBAPzqV79i3LhxbnUoItKUGjPNUlVVRVVV\n",
              "ldM5m812wSJ12LBhDT5v69atJCQk0L17dwDmzZvHY489xi9+8QtiYmIc7dq1a0d0dDQFBQUej/3f\n",
              "ufUG6KlTpxxBDhAYGMipU6eabDAiIu4yTcPjIzU1lY4dOzodqampHo+lqKjIqXIPDQ2lqKioXrvi\n",
              "4mK2bt3qVAyfPXuWuLg4YmNjefjhh6mtrXWrb7feAI2KiiIxMZGkpCQAMjIyiIqKcqtDEZGWIiUl\n",
              "hcWLnTdN8/bUcXl5OePHj2fJkiXccMMNAPTo0YMvv/ySoKAgTp8+zdSpU1mzZg1Llixx+bluVeYv\n",
              "vvgiXbt2ZdGiRSxatIiuXbvy4osvuvebiIg0IbMRh81mIzAw0OloTJiHhIRQWFjo+LmgoICQkBDH\n",
              "z9999x2jR49mwoQJTv8TsdlsBAUFAdClSxdmz55Ndna2W327VZn/6Ec/4sknn3SrAxERb2pJSxMn\n",
              "TZrE0KFDWbFiBd26dWPdunVMmzYNgDNnzjB69GhGjx7N0qVLne4rKSmhc+fOtGnThqqqKjIzM53m\n",
              "2F3hVmV+7Ngxxo0b51iSk5uby9NPP+1WhyIiTaoxpbkbkpOTCQ4O5vjx48THxxMeHg7AnDlzyMrK\n",
              "AiAsLIyVK1cyZMgQwsPD6dq1K8nJyQCkpaXxz3/+k8zMTKKjo4mOjubRRx8FYOfOncTExBAVFUVs\n",
              "bCzdu3fnoYcecmt8hmm6vkDn9ttvZ8aMGTz55JPs27ePmpoaYmJiOHDggFudSvPRl1M0DX05RcvR\n",
              "Z8sjHt+bN2Vpw40swq3KvKSkhJkzZ+LnZ78tICCAgAB9iFREms/lWmfe0rkV5gEBAfywkC8tLcWN\n",
              "wl5ERLzErTCfMmUKycnJlJeX8+KLL3LrrbcyZ84cb41NRKRBjVln7kvcmiO599572bhxI2VlZbzz\n",
              "zjssXryYGTNmeGtsIiIN87FQ9pTbE97Tp09n+vTpmKbJmTNnvDEmERGXaabXzq1plqSkJL799lvO\n",
              "nz9PdHQ03bp1Y+3atd4am4hIwy7T0sSWzq0w/+STT+jUqRN//etfiYmJobi4mHXr1nlrbCIiDdKc\n",
              "uZ1bYf79ypXs7GzGjRtHYGAg/v7+XhmYiIi4zq0w7969Oz//+c/ZsmULo0aNorq62u2dvUREmpSm\n",
              "WQA3w/z111/nuuuu480336RTp058+eWX9XYcExG5nDTNYufWaparrrqKRYsWOX4ODQ0lMTGxiYck\n",
              "IuIGH6uwPeVWmJeUlLBixQpyc3OprKx0nM/JyWnygYmIuMa3KmxPub00sWfPnnz99desXLmSq6++\n",
              "mrFjx3prbCIiDdOcOeDBFrgPPPAANpuN8ePHk5mZybvvvuutsYmIiIvcCvO2bdsC9i8j/eabbwgI\n",
              "CODrr7/2ysBERFyiyhxwc868b9++fPPNN8ycOZMbb7yRwMBABg4c6K2xiYg0zMdWpXjKrTDfsGED\n",
              "AAsXLmTgwIF8++23jB492isDExFxhfZmsfP4myWGDh3alOMQEfGMwhxwc878r3/9KxEREbRt2xZ/\n",
              "f3/8/Pz0cX4RaV6m4fnhQ9yqzBcsWMBzzz3HoEGDFOIiIi2IW2EeGBhIfHy8t8YiIuI2Q9MsgJvT\n",
              "LOPGjeOtt95yq4Pq6mqOHDni1j0iIi7T0kTAxcq8c+fOGIaBaZqUlZXRvn17bDYbpmliGAanT5++\n",
              "4H07duxgxowZBAQEUFRUxMcff0xaWppjVYyISKP52Ny3p1wK89zcXI8e/pvf/Ibs7GwmT54MQFxc\n",
              "HHv37vXoWSIiF+RjFbanXArznj17AlBUVERQUBDt2rUDoLKyklOnTl30vtraWnr37u107vtPkYqI\n",
              "NAmFOeDmnPn3Ffb3TNOsd+6H2rVrx5kzZzAM+z+DDhw4QPv27T0YpoiIXIpbq1nOnz/vqMoB2rdv\n",
              "T1VV1UXbL126lNtuu40vv/ySmTNn8u677/LGG294PloRkX+nyhxwM8wNw6CkpISgoCAAiouLHd8L\n",
              "+kOlpaV07tyZ+Ph4+vbty1//+ldM02TlypX1pl1ERBpFb4ACHnxoaNCgQdx9992Afa+W5cuX12t3\n",
              "yy23kJOTw1133cXmzZv5+c9/3jSjFRH5N1pnbufWnPmsWbNIT0+noqKCiooKMjIyHMH+Q+fOneOj\n",
              "jz7iwIEDHDhwgP379zsdIiJN5jKtM1+wYAGhoaEYhnHJFX7p6en06dOH3r17c88991BdXd3oa64w\n",
              "zAvNk1xAbW0t119/PYcOHWqw7fr160lLS+PIkSNcffXVzh0aBkePHnVrkNJ0wtKeau4h+ISjC/VF\n",
              "5i1Fr+fWeHxv/q/udbntBx98QFhYGEOHDuWtt94iOjq6/vPy8xkyZAg5OTl069aNCRMmEB8fzy9+\n",
              "8QuPr7nK5crc39+frl27UlFR0WDbu+66i0OHDpGQkEB+fr7ToSAXESsaNmwYwcHBl2yzdetWEhIS\n",
              "6N69O4ZhMG/ePDZu3Nioa65ya848PDycIUOGMGXKFH70ox85zi9YsMCp3fdz5t8vSXRHVVVVvRUy\n",
              "NpsNm83m9rNExPc1Zs68qfOmqKjI8bkcgNDQUIqKihp1zVVuzZnX1dURHR1NXl4ee/fuZe/evRec\n",
              "O2rMnHlqaiodO3Z0OlJTU936pUSkFWnEFri+lDduVeYZGRkutVu0aBGzZs3i6NGjJCQkOF1raM48\n",
              "JSWFxYud5yNVlYvIRTWiMm/qvAkJCXHaWLCgoICQkJBGXXOVW2H+6quvXvD8z372M6efk5OTSU5O\n",
              "ZsqUKWzZssWtAWlKRUTc0ogwb+q8mTRpEkOHDmXFihV069aNdevWMW3atEZdc5VbYf6nP/3J8efK\n",
              "ykp27tzJTTfdVC/Mv7dlyxYqKiocUzHR0dFcccUVbg1QRORSLtc68+TkZP785z9TXFxMfHw8HTp0\n",
              "4PDhw8yZM4eEhAQSEhIICwtj5cqVDBkyBIARI0aQnJwM4PE1V7m8NPFC8vPzeeihhy76Ef0PP/yQ\n",
              "iRMn0q1bNwzD4OTJk2zbto1BgwZ52qU0kpYmNg0tTWw5ej/l+d/pI4t957+jx1/oDNCrVy8OHjx4\n",
              "0eu//vWv2bp1q+P/Nrt27eLXv/41u3fvbky3IiL/R58ABdwM86ysLMefa2tr+eijjy4533Tu3DlH\n",
              "kAMMHjyYyspKD4YpInIRCnPAzTB/+umn/+/GgADCw8PZtGnTRdv/6Ec/4t1332XUqFEA/P3vf+fK\n",
              "K6/0cKgiIvVpbxY7t8J827ZtdOnSxeX2zz77LBMnTsTf3x+wr1PPzMx0b4QiIpeiXRMBFz80tGPH\n",
              "DoKCgujatSu9evXiX//6l0sP/+qrr9izZw9ZWVlkZWXx8ccfc+LEiUYNWERE6nMpzO+//37Wr1/P\n",
              "mTNnWLp0KSkpKS49fNmyZXTt2pXIyEgiIyO56qqrWLZsWaMGLCLi5DLtmtjSuRTm1dXV3HnnnbRv\n",
              "356kpCSOHz/uUWeGYVBbW+vRvSIiF2KYnh++xKUw9/NzbubqBlodOnRg165djp//8Y9/0KFDBzeG\n",
              "JyLSAFXmgItvgO7fv9/pjc/y8nK6dOmCaZoYhsHp06cveN8TTzzBnXfeSUREBAB5eXn88Y9/bIJh\n",
              "i4jY+VqF7SmXwvyHG8C4Y9CgQXz66ad8+OGHgH2deadOnTx6lojIBSnMARfD/If77Lqrc+fO3H77\n",
              "7R7fLyIiDWvUx/lFRJqdKnNAYS4iFqc5czu3vmlIRERaJrcr808//ZS8vDxqamoc5yZOnNikgxIR\n",
              "cZkqc8DNML/33nt5/fXX6devn2O/FcMwFOYi0mw0zWLnVpj/93//N0ePHtW3BYmItDBuhfm1115L\n",
              "u3btvDUWERH3qTIH3AzzJ554gilTphAfH+8U6hf7DlAREa9TmANuhvm6devYv38/pmk6zZkrzEWk\n",
              "uWjO3M6tMN+xYweff/45AQFani4iLYTCHHAzzMPCwjBNvXIi0nKoMrdzO8xHjBjBhAkTnObMFyxY\n",
              "0OQDExER17kV5ufPn6dv3758+umnjnOu7m0uIuIVqswBN8M8IyPDW+MQEfGMwhxwc2+WsrIyfvnL\n",
              "XzJ+/HgADh06xMaNG70yMBERV+hr4+zcCvPk5GS6d+9Ofn4+AL169eLxxx/3ysBERFyir40D3Azz\n",
              "L774gqVLl9KmTRsA2rdvr9UtItK8FOaAm2Hetm1bp5/PnTunMBcRaQHcCvORI0fy6KOPUllZybvv\n",
              "vsvkyZO58847vTU2EZEGac7czq0wX7VqFX5+fgQGBvLggw8yZMgQli9f7q2xiYg07DJNs+Tl5TF4\n",
              "8GD69u1LXFwcBw8erNemrq6O++67j8jISCIiIkhKSuL8+fMA/O1vfyM6OtpxXH311cTGxjruNQyD\n",
              "66+/3nE9OzvbrfG5tTTx0KFDpKSkkJKS4ji3f/9+BgwY4FanIiJN5XJV2MnJycydO5fExES2bt1K\n",
              "YmIiH3/8sVOb9PR0cnJyyMnJoU2bNsydO5e0tDTuv/9+4uPjiY+Pd7QdN24cI0eOdLo/OzubTp06\n",
              "eTQ+tyrzxMREl86JiFw2jajMq6qqKC8vdzqqqqrqdVFSUsKePXuYOXMmAJMmTeLYsWMcPnzYqd2+\n",
              "ffsYNWoUbdu2xTAMxowZw2uvvVbveV999RV///vfufvuu5vqVXAtzEtKSti/fz/nzp3jwIED7N+/\n",
              "n/3795Odnc3Zs2ebbDAiIm5rRJinpqbSsWNHpyM1NbVeF8eOHaNHjx6OTQYNwyAkJISioiKndgMH\n",
              "DiQrK4vy8nKqq6vZvHkzBQUF9Z738ssvc/vttxMUFOR0/pZbbiEqKorFixe7na0uTbNs3LiRZ555\n",
              "hq+++oqEhATH+Y4dO7JkyRK3OhQRaSlSUlJYvHix0zmbzebx8xITEyksLGT48OG0b9+eUaNG8c47\n",
              "7zi1MU2Tl156iWeffdbpfGFhISEhIZw9e5Z58+Zx//33s3btWpf7dqkyX7hwIfn5+SxdupT8/HzH\n",
              "kZubS1JSksudiYg0NaMRh81mIzAw0Om4UJhfe+21nDhxwvFF9qZpUlRUREhIiPNYDIMVK1awd+9e\n",
              "du3aRb9+/ejfv79Tm//93/+lsrLSaf4ccDzryiuvZP78+W6/AepSmH9f7i9cuLDe/FJ5eblbHYqI\n",
              "NKnLsJolKCiI2NhYNmzYAMC2bdsIDg4mPDzcqV1lZSWlpaUAfP3116xevbre7EV6ejqJiYmOL/gB\n",
              "KC0tpaKiArCviNm0aRMxMTGuDxAXp1n+8z//k5ycHDp16oRhGE4fFDIMg9raWrc6FRFpKpdrNcv6\n",
              "9etJTEzkscceIzAw0LHx4Jw5c0hISCAhIYGysjJGjBiBn58fdXV1LFy40LGXFdj3t8rMzOTAgQNO\n",
              "z/7ss89ITk7GMAxqamqIjY0lLS3NrfEZpj7C2aqEpT3V3EPwCUcXLm64kVwWUQuf9vjefWm/bsKR\n",
              "NC99/5uIWJvKUcDNdeYiItIyqTIXEUvztT1WPKUwFxFrU5gDCnMRsThV5nYKcxGxNoU5oDAXEYtT\n",
              "ZW6nMG9ltD66aWi9ftPR38mmoTAXEWtTZQ4ozEXE6hTmgMJcRCxOc+Z2CnMRsTaFOaAwFxGLM7RX\n",
              "IKC9WUREfIIqcxGxNhXmgMJcRCxOb4DaKcxFxNoU5oDCXEQsTpW5ncJcRKxNYQ5oNYuIiE9QZS4i\n",
              "lqZpFjuFuYhYm8IcUJiLiMWpMrdTmIuItenj/IDCXEQsTpW5nVaziIj4AFXmImJtqswBhbmIWJxR\n",
              "19wjaBkU5iJibarMAc2Zi4jFGabnhzvy8vIYPHgwffv2JS4ujoMHD9ZrU1dXx3333UdkZCQREREk\n",
              "JSVx/vx5AAoKCvD39yc6OtpxHDlyxHHv9u3biYiIoE+fPkycOJHy8nK3xqcwFxFrM03PDzckJycz\n",
              "d+5cvvjiCx544AESExPrtUlPTycnJ4ecnBw+/fRT/Pz8SEtLc1zv0KEDubm5jqN3794AnDlzhqSk\n",
              "JN566y3y8vK4+uqrWbVqlVvjU5iLiDSgpKSEPXv2MHPmTAAmTZrEsWPHOHz4sFO7ffv2MWrUKNq2\n",
              "bYthGIwZM4bXXnutwee//fbbxMTEEBERAcD8+fPZuHGjW2NUmIuIpTVmmqWqqory8nKno6qqql4f\n",
              "x44do0ePHgQE2N9mNAyDkJAQioqKnNoNHDiQrKwsysvLqa6uZvPmzRQUFDiunz17lri4OGJjY3n4\n",
              "4Yepra0FoKioiJ49ezrahYaGcuLECWpqalx+HRTmImJtpudHamoqHTt2dDpSU1M9HkpiYiKjR49m\n",
              "+PDhDB8+nL59+zr+B9CjRw++/PJLPv74Y959912ys7NZs2aN57/3v1GYi4ilNaYyT0lJoayszOlI\n",
              "SUmp18e1117rVCmbpklRUREhISHOYzEMVqxYwd69e9m1axf9+vWjf//+ANhsNoKCggDo0qULs2fP\n",
              "Jjs7G4CQkBAKCwsdzykoKHD6l4ArFOYiYm2NeAPUZrMRGBjodNhstnpdBAUFERsby4YNGwDYtm0b\n",
              "wcHBhIeHO7WrrKyktLQUgK+//prVq1ezZMkSwD7vXl1dDdindzIzM4mJiQFg9OjR5OTk8NlnnwGw\n",
              "du1apk2b5tbLoHXmImJpl2tvlvXr15OYmMhjjz1GYGAgGRkZAMyZM4eEhAQSEhIoKytjxIgR+Pn5\n",
              "UVdXx8KFCxk/fjwAO3fu5Le//S3+/v7U1NRw880389BDDwH2VS4vvvgid9xxBzU1NURGRvLKK6+4\n",
              "NT7DNLXlmIi7wtKeau4h+IyjCxc36v5hE570+N4P/vv+RvXdkqgyFxFrUzkKKMxFxOK0Ba6dwlxE\n",
              "rK1OaQ4KcxGxOmU5oKWJIiI+QZW5iFia5sztvFaZ19bW8uyzz3rr8SIidpdp18SWzmth7u/v7/ai\n",
              "dxERd12u/cxbOq/Omd966628/vrr3uxCRFq7Rmy05Uu8Ome+fv16ysrKSEpK4oorrsA0TQzD4PTp\n",
              "097sVkRaEcPHpks85dUwz83N9ebjRUTk//FqmP9ws3UREa+oa+4BtAxeDfNevXphGIbTuU6dOjFo\n",
              "0CBWrVpFly5dvNm9iLQCmmax82qYz5w5ky+//JKkpCQAMjIy6NSpE6ZpMm/ePDZv3uzN7kWkNVCW\n",
              "A14O83feeYePPvrI8fPgwYO58cYb+ec//0m/fv282bWItBaqzAEvL008ffo0FRUVjp8rKir49ttv\n",
              "AWjXrp03uxaRVkLrzO28WpnPmDGDm266iSlTpgD2r1qaPn06Z86cITQ01Jtdi4i0Kl4N85UrV/KT\n",
              "n/yE9957D4BHH32UsWPHApCZmenNrkWktdA0C3AZNtoaO3asI8BFRJqaoaWJgJfD/Ny5czz33HPk\n",
              "5uZSWVnpOK+qXESajCpzwMtvgN5zzz0UFBSwa9cuRo4cSWFhYYMfJKqqqqK8vNzpqKqq8uYwRcTK\n",
              "tDcL4OUw37dvH2vXriUwMJBf/epX7Nixg08++eSS96SmptKxY0enIzU11ZvDFBELM0zT48OXeHWa\n",
              "pX379vZOAgI4e/YsHTp04NSpU5e8JyUlhcWLFzuds9lsXhujiIgv8GqYd+nShdLSUm6//Xbi4+O5\n",
              "6qqrCA4OvuQ9NptN4S0irvOxCttTXg3zP//5z/j7+7Nq1Spef/11vv32W372s595s0sRaW20mgXw\n",
              "cpj7+/sDYBgGM2fO9GZXItJK+drct6cu+66JAEePHvVmtyLSmijMAS+H+fbt2x1/rqys5LXXXuPH\n",
              "P/6xN7sUkdZGYQ54Ocz79+/v9PPAgQMZPHgwy5Yt82a3IiKtjtc/zv9D33zzDcXFxZezSxHxdXoD\n",
              "FPDyh4ZiYmKIjY0lNjaWAQMG0Lt3b8cXVYiINIXL9aGhvLw8Bg8eTN++fYmLi+PgwYP12tTV1XHf\n",
              "ffcRGRlJREQESUlJnD9/HoADBw4wbNgwIiIiiIyMZPbs2Zw7d+7/fg/D4Prrryc6Opro6Giys7Pd\n",
              "Gp9XK/NnnnnG8efvV7YMHTrUm12KSGtzmebMk5OTmTt3LomJiWzdupXExEQ+/vhjpzbp6enk5OSQ\n",
              "k5NDmzZtmDt3Lmlpadx///20a9eO559/ngEDBlBbW8uMGTN4/PHHWbFiheP+7OxsOnXq5NH4vFqZ\n",
              "p6amEhUVxcCBA5k5cyYzZ87kt7/9rTe7FJHWxjQ9PlzdC6qkpIQ9e/Y4llhPmjSJY8eOcfjwYad2\n",
              "+/btY9SoUbRt2xbDMBgzZgyvvfYaAH369GHAgAGAvbiNi4ujoKCgyV4Gr4b5yZMn6dSpE3/5y1+Y\n",
              "MGECX3zxBX/84x+92aWItDaNCHNX94I6duwYPXr0ICDAPplhGAYhISEUFRU5tRs4cCBZWVmUl5dT\n",
              "XV3N5s2bLxjYZ8+e5cUXX2TChAlO52+55RaioqJYvHgxZ8+edetl8GqYV1dXA/DBBx9w66230rZt\n",
              "W8eLISLS3FJSUigrK3M6UlJSPH5eYmIio0ePZvjw4QwfPpy+ffvWy7zz588zdepUbrvtNu68807H\n",
              "+cLCQj755BN27drFqVOnuP/++93q26thHhkZyZgxY9i+fTs333yz0/eBiog0iTrPD5vNRmBgoNNx\n",
              "ob2hrr32Wk6cOEFNTQ0ApmlSVFRESEiIUzvDMFixYgV79+5l165d9OvXz2mJdnV1NVOnTqVHjx6k\n",
              "paU53fv9s6688krmz5/v9hugXg3zl19+meTkZN5//32uuOIKSktLtZ2tiDSpy7GaJSgoiNjYWDZs\n",
              "2ADYv884ODiY8PBwp3aVlZWUlpYC8PXXX7N69WqWLFkCQE1NDdOmTaNLly688MILTp+OLy0tdRS7\n",
              "dXV1bNq0iZiYGLdeB6/OebRr14477rjD8fM111zDNddc480uRaS1uUyrWdavX09iYiKPPfYYgYGB\n",
              "ZGRkADBnzhwSEhJISEigrKyMESNG4OfnR11dHQsXLmT8+PEAbNq0iczMTAYMGOAI6iFDhvD73/+e\n",
              "zz77jOTkZAzDoKamhtjY2HqVe0MM09RnYUXcFZb2VHMPwWccXbi44UaXMOa633h879ufr25U3y2J\n",
              "3o0UEWtTPQp4ec5cREQuD1XmImJtqswBhbmIWJ3CHFCYi4jV1SnMQWEuIlZnag9cUJiLiNVpmgXQ\n",
              "ahYREZ+gylxErE1z5oDCXESsTtMsgMJcRKxOYQ4ozEXE6hTmgMJcRKyuTksTQatZRER8gipzEbE2\n",
              "TbMACnMRsTqFOaAwFxGr0zpzQGEuIhZnam8WQGEuIlanyhzQahYREZ+gylxErE1vgAIKcxGxOn1o\n",
              "CFCYi4jVqTIHFOYiYnGmKnNAYS4iVqfKHNBqFhERn6DKXESsTevMAYW5iFidPgEKKMxFxOJMVeaA\n",
              "5sxFxOrMOs8PN+Tl5TF48GD69u1LXFwcBw8erNemrq6O++67j8jISCIiIkhKSuL8+fOO69u3byci\n",
              "IoI+ffowceJEysvLXbrmCoW5iFiaWWd6fLgjOTmZuXPn8sUXX/DAAw+QmJhYr016ejo5OTnk5OTw\n",
              "6aef4ufnR1paGgBnzpwhKSmJt956i7y8PK6++mpWrVrV4DVXKcxFRBpQUlLCnj17mDlzJgCTJk3i\n",
              "2LFjHD582Kndvn37GDVqFG3btsUwDMaMGcNrr70GwNtvv01MTAwREREAzJ8/n40bNzZ4zVUKcxGx\n",
              "tkZMs1RVVVFeXu50VFVV1evi2LFj9OjRg4AA+9uMhmEQEhJCUVGRU7uBAweSlZVFeXk51dXVbN68\n",
              "mYKCAgCKioro2bOno21oaCgnTpygpqbmktdcpTdAm0BVVRWpqamkpKRgs9maeziWZpXX8ujCxc09\n",
              "hAZZ5bVsrP+p2+LxvStWrGDlypVO55YvX86KFSs8el5iYiKFhYUMHz6c9u3bM2rUKN555x2Px+cW\n",
              "UxqtrKzMBMyysrLmHorl6bVsOnotG1ZZWWmWlZU5HZWVlfXanTx50uzQoYNZXV1tmqZp1tXVmd26\n",
              "dTPz8vIu+fyNGzeaQ4cONU3TNDdv3mzGx8c7rh08eNC85pprGrzmKk2ziEirZbPZCAwMdDou9K+Y\n",
              "oKAgYmNj2bBhAwDbtm0jODiY8PBwp3aVlZWUlpYC8PXXX7N69WqWLFkCwOjRo8nJyeGzzz4DYO3a\n",
              "tUybNq3Ba67SNIuIiAvWr19PYmIijz32GIGBgWRkZAAwZ84cEhISSEhIoKysjBEjRuDn50ddXR0L\n",
              "Fy5k/PjxAHTo0IEXX3yRO+64g5qaGiIjI3nllVcavOYqwzS1S01jlZeX07FjR8rKyggMDGzu4Via\n",
              "Xsumo9eyddE0SxOw2WwsX77cp99kulz0WjYdvZatiypzEREfoMpcRMQHKMxFRHyAwlxExAcozC+i\n",
              "pqaGlStXEhERQWRkJNHR0cydO5e33nqL6Ohol5+zbt06nnzySe8NtAUzDINvv/22SZ61Z88epk6d\n",
              "2iTPEvFFegP0Iv7rv/6L06dP8+qrr9K5c2dM02Tr1q189913PPvss+Tm5jb4jJqaGsdeDq2RYRiU\n",
              "lpbSqVOn5h6KiM9TZX4Bhw8fZsuWLWRkZNC5c2fAHkxTpkwhLCyMmpoa5s+fT1RUFP3792fPnj0A\n",
              "FBQU0KlTJx544AFiY2N5/vnnWbFiBYsWLQJg9+7dDBw4kOjoaCIjI/nDH/7QXL/iZWWaJg888AAJ\n",
              "CQlUVFTw1FNPERcXR3R0NHFxcXz44YcAvP7664wbN87pvrCwMPbt28eOHTsc/yL6/nVevnw5AwcO\n",
              "JDw8nL/85S/N8as1i3PnzjF16lT69etHVFQUt912G8XFxYwcOZKBAwfSv39/fvnLX1L3/761/uWX\n",
              "X2bUqFFMnz6dfv36MXjwYA4dOsSdd97Jf/zHf3Dbbbdx5syZZv6tpNHc+vB/K7Fp0yZzwIABF7z2\n",
              "/vvvm/7+/ubu3btN0zTNP/zhD+Ztt91mmqZp5ufnm4D5yiuvONovX77cXLhwoWmappmQkGC+8cYb\n",
              "jmunT5/20m/QMgBmcXGxOXXqVHP+/PlmTU2NaZqmWVJS4mjz4Ycfmtddd51pmqZZUVFh/vjHPzZP\n",
              "nDhhmqZpvvfee2ZsbKxpmvbXPSoqyjTN/3udt27dapqmab799ttm3759L9ev1ewyMzMdf+dM0zS/\n",
              "+eYb89y5c+Z3331nmqZp1tTUmGPHjjU3btxomqZpZmRkmIGBgWZhYaFpmqY5c+ZMMywszCwuLjZN\n",
              "0zTHjh1rPv/885f5t5CmpsrcA+Hh4dx4440ADBo0iCNHjjiutWnTxrHn8b8bOXIkq1at4uGHH2bn\n",
              "zp2Oqt+XjR07lv79+/P73/8ef39/APbu3cvw4cOJjIxk3rx5fP7555w7d4727dszadIkx/7PL7/8\n",
              "MrNmzbrgc9u1a8fEiROB+v8NfF1UVBSffvop8+fPZ9OmTbRp04a6ujoeeOABoqKiiImJYc+ePU5T\n",
              "gYMGDSIkJASAG264gbi4OLp16wZAXFwceXl5zfGrSBNSmF9AbGwseXl5fPPNNxe83q5dO8ef/f39\n",
              "nfYcvuKKK/Dzu/DLumjRIv785z/To0cPHnzwQebPn9+0A2+Bbr75Zv7nf/7H8RVY58+fZ+LEifzu\n",
              "d7/jX//6Fx988AGAYw/p2bNnk5GRwZkzZ9i+fTszZsy44HNtNhuGYQD2/wa1tbWX4bdpGcLCwjh0\n",
              "6BCjR4/mH//4B5GRkaxZs4aSkhI++ugj9u/fz4wZM6isrHTc8+9/Zy/1d1isSWF+AeHh4UyaNImk\n",
              "pCTHagzTNNm2bRtHjx71+Lmff/45vXr14p577uHBBx9k9+7dTTTiluvBBx9k4sSJjBo1im+++YbK\n",
              "ykrOnz/vqBKfe+45p/bf/4vnvvvuY9SoUXTp0uWyj7mlO378OIZhkJCQwO9+9ztM0yQnJ4fu3bvT\n",
              "rl07iouL2bLF8z2+xZpa71KLBrz00ks88sgj3HjjjQQEBFBXV8ewYcMYM2aMx898/vnnee+992jb\n",
              "ti3+/v6sWbOmCUfcci1atIgrr7ySm2++mb/97W888sgj/OQnP+Gqq6664Dafs2bNYsmSJbz99tvN\n",
              "MNqW78CBA6SkpGCaJjU1Ndx9990kJyczefJk+vfvz9VXX82oUaOae5hymWlpooiID9A0i4iID1CY\n",
              "i4j4AIW5eEVoaCgRERFOqyRuuOEGduzY0XyDEvFhCnPxmqqqKtLT05t7GCKtgsJcvGbFihWsWrWK\n",
              "iooKp/NvvPEGN954IzExMURFRfGnP/3JcW3EiBHce++9DBs2jJCQEJYtW8Zf/vIXhg4dSmhoKE89\n",
              "9ZSjbV5eHmPHjiUuLo4BAwbw/PPPX7bfTaSl0dJE8ZqoqChGjhzJ008/zUMPPeQ4Hx8fz/Tp0zEM\n",
              "g4KCAm666SYKCwsdX29WWFjI+++/T3l5OaGhoZSWlpKdnc1XX33Fddddx+zZs+nQoQPTp09nw4YN\n",
              "REREUFFRwU033cSNN95IXFxcc/3KIs1GYS5etWrVKn7yk58wb948x7n8/Hx++tOfcvz4cQICAjh9\n",
              "+jT5+flEREQAMHnyZPz9/encuTNhYWGMGzcOwzC45ppr6Nq1KwUFBbRt25aDBw86rVP/7rvvOHTo\n",
              "kMJcWiWFuXhVaGgoM2bM4JFHHnGcmzZtGqtXr2by5MkAdOnSxe2Pnrdp04YuXbq4tBWxSGugOXPx\n",
              "uqVLl7Jhwwa++uorAEpLS+nVqxcAGzZsoLS01O1nXnfddQQGBpKRkeE4d/jwYU6fPt00gxaxGIW5\n",
              "eN1VV13FggULOHHiBABpaWlMnjyZmJgY9u7d69inxR0BAQFs376dzMxMBgwYQP/+/UlKSuLcuXNN\n",
              "PXwRS9DH+UVEfIAqcxERH6AwFxHxAQpzEREfoDAXEfEBCnMRER+gMBcR8QEKcxERH6AwFxHxAQpz\n",
              "EREfoDAXEfEBCnMRER/w/wMo0ccx4aUsPwAAAABJRU5ErkJggg==\n",
              "\">\n",
              "        \n",
              "      </div>\n",
              "      <script></script>\n",
              "      <script type=\"text/javascript\">\n",
              "        (() => {\n",
              "          const chartElement = document.getElementById(\"chart-c7e39719-9b2c-4792-9b67-23f5b31fa421\");\n",
              "          async function getCodeForChartHandler(event) {\n",
              "            const chartCodeResponse =  await google.colab.kernel.invokeFunction(\n",
              "                'getCodeForChart', [\"chart-c7e39719-9b2c-4792-9b67-23f5b31fa421\"], {});\n",
              "            const responseJson = chartCodeResponse.data['application/json'];\n",
              "            await google.colab.notebook.addCell(responseJson.code, 'code');\n",
              "          }\n",
              "          chartElement.onclick = getCodeForChartHandler;\n",
              "        })();\n",
              "      </script>\n",
              "      <style>\n",
              "        .colab-quickchart-chart-with-code  {\n",
              "            display: block;\n",
              "            float: left;\n",
              "            border: 1px solid transparent;\n",
              "        }\n",
              "\n",
              "        .colab-quickchart-chart-with-code:hover {\n",
              "            cursor: pointer;\n",
              "            border: 1px solid #aaa;\n",
              "        }\n",
              "      </style>"
            ]
          },
          "metadata": {}
        },
        {
          "output_type": "display_data",
          "data": {
            "text/plain": [
              "<google.colab._quickchart_helpers.SectionTitle at 0x77fc64e327a0>"
            ],
            "text/html": [
              "<h4 class=\"colab-quickchart-section-title\">Faceted distributions</h4>\n",
              "<style>\n",
              "  .colab-quickchart-section-title {\n",
              "      clear: both;\n",
              "  }\n",
              "</style>"
            ]
          },
          "metadata": {}
        },
        {
          "output_type": "display_data",
          "data": {
            "text/plain": [
              "import numpy as np\n",
              "from google.colab import autoviz\n",
              "\n",
              "def violin_plot(df, value_colname, facet_colname, figscale=1, mpl_palette_name='Dark2', **kwargs):\n",
              "  from matplotlib import pyplot as plt\n",
              "  import seaborn as sns\n",
              "  figsize = (12 * figscale, 1.2 * figscale * len(df[facet_colname].unique()))\n",
              "  plt.figure(figsize=figsize)\n",
              "  sns.violinplot(df, x=value_colname, y=facet_colname, palette=mpl_palette_name, **kwargs)\n",
              "  sns.despine(top=True, right=True, bottom=True, left=True)\n",
              "  return autoviz.MplChart.from_current_mpl_state()\n",
              "\n",
              "chart = violin_plot(_df_5, *['cost', 'Name'], **{'inner': 'stick'})\n",
              "chart"
            ],
            "text/html": [
              "      <div class=\"colab-quickchart-chart-with-code\" id=\"chart-b59dbdb6-2cd5-4d2e-9f51-99b0a9a14203\">\n",
              "        <img src=\"data:image/png;base64,iVBORw0KGgoAAAANSUhEUgAAAhgAAAC9CAYAAADxygRkAAAAOXRFWHRTb2Z0d2FyZQBNYXRwbG90\n",
              "bGliIHZlcnNpb24zLjcuMSwgaHR0cHM6Ly9tYXRwbG90bGliLm9yZy/bCgiHAAAACXBIWXMAAA9h\n",
              "AAAPYQGoP6dpAAAUy0lEQVR4nO3de3BU9cHG8WeTwC5SuStXCUIiBWKSQsIlAukiYKUtbREVWmwb\n",
              "rdxEYMDRCbUgY4a0U5rK0FaKnRIotnKHEUUbC6jYBMMlAYRAgKTQmggCCc2YLCz5vX+8L/uaktCs\n",
              "/rInId/PzM6Qs7vnPOfHcvJwztlzXMYYIwAAAIvCnA4AAABuPRQMAABgHQUDAABYR8EAAADWUTAA\n",
              "AIB1FAwAAGAdBQMAAFhHwQAAANZRMAAAgHUUDAAAYB0FAwAAWBfhdAAAAGCXMUZVVVWSJI/HI5fL\n",
              "FfIM7MEAAOAWU1VVJa/XK6/XGygaoUbBAAAA1lEwAACAdRQMAABgHQUDAABYR8EAAADWUTAAAIB1\n",
              "FAwAAGAdBQMAAFhHwQAAANZRMAAAgHUUDAAAYB0FAwAAWEfBAAAA1lEwAACAdRQMAABgXUgKht/v\n",
              "1+LFi/XVr35VMTExio+P19SpU7V161bFx8fXez4rVqzQL3/5y4YLCgAArIgIxUKeeOIJXbx4UdnZ\n",
              "2Wrfvr2MMdq4caMuXrxY73n4/X5Nnz69AVMCAABbGrxgnDx5Uhs2bNCZM2fUvn17SZLL5dLDDz+s\n",
              "3bt3y+/3a+bMmfrggw/k9/u1evVqJSQkqLi4WPHx8Zo2bZqysrL0wx/+UGVlZSorK9NLL72knJwc\n",
              "PfXUU7p27Zr8fr+eeuopzZgx44bl+3w++Xy+GtPcbrfcbndDrzoAAM1Wgx8iOXDggKKjo9WpU6da\n",
              "ny8oKNCPfvQj5efn6+mnn9ZPf/rTwHPl5eUaMGCADhw4oLlz59Z4X3p6up555hnl5eXpyJEjmjRp\n",
              "Uq3zT09PV9u2bWs80tPTra0fAAC4UUgOkdxMVFSUhgwZIkkaNmyYli5dGniuRYsWmjJlSq3v83q9\n",
              "evHFF1VYWKhRo0Zp+PDhtb4uNTVV8+bNqzGNvRcAADSsBt+DMXDgQBUWFurChQu1Pu/xeAJ/Dg8P\n",
              "l9/vD/x82223KSys9ohz587VG2+8oa5du2rBggWaOXNmra9zu91q06ZNjQcFAwCAhtXgBSMqKkoP\n",
              "PfSQnnjiCZWVlUmSjDHatGmTTp8+/YXne/z4cd1999168skntWDBAuXk5FhKDAAAvqyQHCL54x//\n",
              "qLS0NA0ZMkQRERGqrq7WyJEj9eCDD37hef7mN7/Rzp071bJlS4WHh+tXv/qVxcQAAODLcBljjNMh\n",
              "AACAPZWVlfJ6vZKkXbt2qVWrViHPwJU8AQCAdRQMAABgHQUDAABYR8EAAADWUTAAAIB1FAwAAGAd\n",
              "BQMAAFhHwQAAANZRMAAAgHUUDAAAYB0FAwAAWEfBAAAA1lEwAACAdRQMAABgHbdrBwDgFmOMUVVV\n",
              "lSTJ4/HI5XKFPAMFAwAAWMchEgAAYB0FAwAAWEfBAAAA1lEwAACAdRFOB8CtqzGcxQwAcAZ7MNBg\n",
              "qqqq5PV65fV6A0UDANA8UDAAAIB1FAwAAGAdBQMAAFhHwQAAANZRMAAAgHUUDAAAYN0XKhj79+/X\n",
              "n/70J0nSpUuXVFJSYjUUAABo2oIuGL/73e/0+OOP64UXXpAkXbx4Ud///vdt5wIAAE1Y0AVj5cqV\n",
              "ysnJUZs2bSRJffr00fnz560HAwAATVfQBcPtdqtVq1Y1pkVEcMVxAADw/4IuGHfccYdOnDgRuK9E\n",
              "ZmamevbsaT0YAABouoLe9fDSSy9p8uTJKigo0F133aU2bdpo+/btDZENAAA0UUEXjKioKO3du1fH\n",
              "jx+XMUZ9+/ZVeHh4Q2QDAABN1Bc6eaKiokJXr16V3+9Xfn6+JGngwIFWgwEAgKYr6ILx61//WgsX\n",
              "LtQdd9wR2HPhcrl04sQJ6+EAAEDTFPRJnsuXL9fx48d1+vRpFRYWqrCwsNZy4XK5VFZWZiOj9u3b\n",
              "p0cffdTKvAAAQMMLumB0795d3bp1a4gsdUpISNC6detCukwAAPDFBV0wFixYoNmzZ+uvf/2r3nvv\n",
              "vcCjLsYYPffccxo/frw+++wzZWRkKDExUfHx8UpMTFR2drYk6dVXX9W3vvWtGu/r3bu38vPztXv3\n",
              "bsXHx0uSiouL1a5dOy1atEiDBg1SVFSU3nzzzWBXAwAANKCgz8HIzs7WmjVrtGfPnhrnYHz44Yc3\n",
              "vNbn82ny5Mnq2LGjtmzZovDwcD322GOaN2+eJCknJ0c//vGPVVBQoAkTJmjOnDkqLS1Vly5dtHv3\n",
              "brVv315xcXHavXt3jfmWl5crNjZWixcv1ltvvaU5c+Zo3Lhxteb1+Xzy+Xw1prndbrnd7mBXHQAA\n",
              "1FPQezDWrFmj4uJiHThwQLm5ucrNza21XEjSN7/5TQ0YMEC//e1vA2Xk4MGDSk5OVkxMjKZPn67j\n",
              "x4+rsrJSrVq10kMPPRS4iVpmZqZSUlJqna/H49GECRMkScOGDdOpU6fqzJuenq62bdvWeKSnpwe7\n",
              "2gAAIAhBF4zIyEi1a9euXq8dNWqUsrKydPnyZUnSlStXNGHCBC1dulRHjhwJHFq5vofh8ccf16pV\n",
              "q1RRUaHt27fXeRM1t9sduJJoeHi4rl27VmeG1NRUlZeX13ikpqbWd3UBAMAXEPQhksTERD3yyCOa\n",
              "OHGiPB5PYPr48eNveO2CBQuUmZmp0aNHa8eOHWrRooWuXLkSuLT48uXLa7x+yJAhkqRnnnlGo0eP\n",
              "VocOHYKNdwMOhwAAEHpBF4z9+/dLkl5++eXANJfLVWvBkKS5c+eqdevWGjVqlN5++22lpaVp8ODB\n",
              "6tSpkyZNmnTD61NSUvTss89qx44dwUYDAACNhMsYY5wOgVtTZWWlvF6vJGnXrl033IUXAHDr+kKX\n",
              "Cr969aqKiopUVVUVmBYbG2stFAAAaNqCLhjbt2/Xk08+qUuXLql169a6dOmSIiMjVVRU1BD5AABA\n",
              "ExT0t0h+9rOfKScnR/369dOFCxe0Zs0aTZw4sSGyAQCAJiroghEWFqbIyEj5/X5J0pQpU7Rz507r\n",
              "wQAAQNMV9CGSFi1aSJJ69OihLVu2qFevXrp06ZL1YAAAoOkKumDMmTNHly5dUlpamiZNmqSysjIt\n",
              "W7asIbIBAIAmqt4F4/pVN7t3767Dhw9Lkv7whz9IUuCqmgAAAFIQBWP+/Pk3THO5XPr4449VUlJy\n",
              "08t1AwCA5qXeBSM3N7fGzxcvXlRaWprWrl2rxYsXWw8GAACarqC/RVJVVaX09HT1799fknTs2DE9\n",
              "//zz1oMBAICmq94Fo7q6WitXrlR0dLQKCgq0d+9eZWRkqGPHjg2ZDwAANEH1PkQSExMjn8+nJUuW\n",
              "KC4uTuXl5Tp06FDgeS4VDgAArqt3wfjss8/kcrm0cOHCG55zuVw6ffq01WAAAKDpqnfBKC4ubsAY\n",
              "AADgVsLt2tFgjDGBO+56PB6ulwIAzQgFAwAAWBf011QBAAD+GwoGAACwjoIBAACso2AAAADrgr5d\n",
              "O2rimxIAANyIPRhfUlVVlbxer7xeb6BoAADQ3FEwAACAdRQMAABgHQUDAABYR8EAAADWUTAAAIB1\n",
              "FAwAAGAdBQMAAFhHwQAAANZRMAAAgHUUDAAAYB0FAwAAWEfBAAAA1lEwAACAdRQMAABgHQUDAABY\n",
              "R8EAAADWUTAAAIB1FAwAAGBdyAtGZWWlHn30UfXv319xcXEaO3asSktL5fV6NWjQIA0YMECzZs1S\n",
              "dXW1JCkzM1OjR4/W5MmT1b9/fyUlJeno0aP63ve+p379+mns2LGqqKioc3k+n0+XL1+u8fD5fKFa\n",
              "XQAAmqWQF4y33npLZWVlOnr0qPLz8/Xaa6+pXbt2ev3117V//34dOnRIxcXFWr9+feA9ubm5+sUv\n",
              "fqGjR4+qT58++va3v60VK1bo2LFjatmypVavXl3n8tLT09W2bdsaj/T09FCsKgAAzVZEqBcYFxen\n",
              "Y8eOaebMmUpOTta4ceNUXV2t5557Tnv27JExRufOnVNMTIwmTZokSRo2bJh69uwpSUpISNDVq1fV\n",
              "uXNnSVJiYqIKCwvrXF5qaqrmzZtXY5rb7W6gtQMAAJIDBaN37946evSodu7cqXfeeUfPPvusfvKT\n",
              "n+jcuXPau3evPB6P5s2bp6qqqsB7PB5P4M/h4eE3/Oz3++tcntvtplAAABBiIT9E8s9//lMul0vj\n",
              "x4/X0qVLZYzRgQMH1KVLF3k8HpWWlmrDhg2hjgUAACwK+R6Mw4cPKzU1VcYY+f1+PfbYY5o2bZom\n",
              "TpyoAQMGqFu3bho9enSoYwEAAItcxhjjdIimrLKyUl6vV5K0a9cutWrVyuFEAAA4j+tgAAAA6ygY\n",
              "AADAOgoGAACwjoIBAACso2AAAADrKBgAAMA6CgYAALCOggEAAKyjYAAAAOsoGAAAwDoKBgAAsI6C\n",
              "AQAArKNgAAAA67ib6pdkjFFVVZUkyePxyOVyOZwIAADnUTAAAIB1HCIBAADWUTAAAIB1zb5g+Hw+\n",
              "vfDCC/L5fE5HaVQYl7oxNrVjXGrHuNSNsandrTIuzf4cjMuXL6tt27YqLy9XmzZtnI7TaDAudWNs\n",
              "ase41I5xqRtjU7tbZVya/R4MAABgHwUDAABYR8EAAADWNfuC4Xa7tWjRIrndbqejNCqMS90Ym9ox\n",
              "LrVjXOrG2NTuVhmXZn+SJwAAsK/Z78EAAAD2UTAAAIB1FAwAAGBdsyoYs2fPVq9eveRyuZSXlxeY\n",
              "XlhYqKSkJN1zzz1KTEzURx995FxIB9Q2LlVVVfrud7+re+65R3FxcRozZoxOnjzpbFAH1PWZuW7V\n",
              "qlVyuVzaunVryLM5qa5x8fl8mjVrlqKjo3XvvfdqypQpzoV0SF1j8+abb2rgwIGKj49XTEyMVq9e\n",
              "7VxIB9xsm3Lu3Dl94xvfUHR0tGJiYvTee+85nDZ0bjYuKSkpgen33XefcnNzHU4bJNOMvPvuu+bs\n",
              "2bMmMjLSHDx4MDDd6/WaVatWGWOM2bBhg0lISHAmoENqG5fKykrzxhtvmOrqamOMMcuXLzfJycnO\n",
              "hXRIXZ8ZY4wpKioyw4YNM0OHDjVbtmxxJJ9T6hqXuXPnmlmzZgU+NyUlJQ4ldE5tY1NdXW3at29v\n",
              "8vPzjTH/+9lxu93m8uXLDiYNrZttU1JSUsyiRYuMMcZ8+OGHpnv37ubKlSsOJQ2tm43Ltm3bzNWr\n",
              "V40xxrz++usmMjLSoZRfTLMqGNd9/h/+J598Ym6//fbAX2J1dbXp3LmzKSwsdDChM2r7JXpdbm5u\n",
              "k/tw2/SfY3Pt2jVz//33m3379pnk5ORmVzCu+/y4VFRUmNtvv92Ul5c7G6qR+M+C0aFDB/Puu+8a\n",
              "Y4zJz8833bp1Mz6fz8GEzvr8NqV169Y1ymhiYqLJyspyKJmz6trWnj9/3kRERAR+VzUFzeoQSW3O\n",
              "nj2rrl27KiIiQpLkcrnUs2dPnTlzxuFkjcuyZcv0ne98x+kYjUZGRobuu+8+DRo0yOkojcapU6fU\n",
              "oUMHLVmyRAkJCRoxYoT+9re/OR2rUXC5XFq3bp0mTJigyMhIDR8+XKtXr1bLli2djuaY69uUCxcu\n",
              "6OrVq+rSpUvguV69ejXbbXBd29ply5Zp3Lhxgd9VTUHTSQrHLFmyRCdPnuSXxf85cuSINm3a1KyO\n",
              "E9eH3+/XP/7xD/Xv318///nPdfDgQY0ZM0YfffSROnfu7HQ8R/n9fqWlpWnz5s0aOXKkcnNzNX78\n",
              "eB0+fFidOnVyOl7IfX6bUllZ6XScRqOube3atWu1fv36JrfNafZ7MO666y6VlJTI7/dLkowxOnPm\n",
              "jHr27OlwssZh6dKl2rx5s3bs2KHbbrvN6TiNwvvvv6/i4mJFR0erV69eysnJ0dSpU/Xyyy87Hc1R\n",
              "PXv2VFhYmH7wgx9Ikr72ta/p7rvv1uHDhx1O5ry8vDx9/PHHGjlypCQpMTFRPXr00MGDBx1OFnr/\n",
              "uU3p2LGjIiIiVFpaGnhNcXFxs9sG17WtXbdunRYvXqysrKwmV9SbfcG48847NXDgQK1du1aStGnT\n",
              "JvXo0UNRUVEOJ3NeRkaG/vKXvygrK0vt2rVzOk6jMWPGDJWUlKi4uFjFxcUaOnSoVq5cqRkzZjgd\n",
              "zVGdOnXS/fffr7fffluSVFRUpKKiIvXr18/hZM67/h+ZY8eOSZJOnjypU6dOqW/fvg4nC626tikP\n",
              "P/ywVqxYIUnKzc3Vv/71LyUnJzuUMvTqGpf169fr+eef1zvvvNM0C5fTJ4GE0tSpU0337t1NeHi4\n",
              "ufPOO02fPn2MMcYUFBSYoUOHmujoaDNo0CBz6NAhh5OGVm3jcvbsWSPJ9O7d28TFxZm4uDgzePBg\n",
              "p6OGXF2fmc9rjid51jUup06dMl//+tdNTEyMiY2NNRs3bnQ4aejVNTZ//vOfA+MSExNjXn31VYeT\n",
              "htbNtimlpaVmzJgxJioqyvTv39/s3LnT4bShc7NxiYiIMD169AhMj4uLM59++qnDieuPe5EAAADr\n",
              "mv0hEgAAYB8FAwAAWEfBAAAA1lEwADQpeXl5eu2115yOAeC/oGAAaFIoGEDTQMEAEDLZ2dkaPny4\n",
              "4uLiFBsbq23btmnfvn1KSkpSbGysBg8erA8++ECSdP78eY0dO1b33nuvYmNjlZKSonPnzmnhwoXa\n",
              "tWuX4uPjNX36dIfXCEBd+JoqgJC4ePGi+vXrp40bN2rEiBGqrq7Wp59+qoSEBL3yyit64IEHtGfP\n",
              "Hk2cOFEnT57UK6+8ooKCAv3+978PvL9Dhw7KzMzU1q1btXXrVmdXCMBNsQcDQEhkZ2erb9++GjFi\n",
              "hCQpLCxMn3zyicLCwvTAAw9IkoYPH67OnTsrLy9PQ4cO1Y4dOzR//nxt27ZNrVu3djI+gCBRMAA0\n",
              "Ki6XS5I0bNgw5eXlaciQIdq8ebMSExN17do1h9MBqC8KBoCQSEpKUmFhod5//31JUnV1tTp37qzq\n",
              "6mplZWVJkv7+97+rtLRU8fHxKioq0le+8hU98sgjWr58uU6cOKGKigq1adNG5eXlTq4KgHrgHAwA\n",
              "IZOTk6P58+fr3//+t8LCwvTiiy+qa9eumj17tioqKuTxeJSRkaHhw4dr1apVysjIUHh4uPx+v6ZN\n",
              "m6ann35a5eXlevDBB1VRUaGkpKTATbIANC4UDAAAYB2HSAAAgHUUDAAAYB0FAwAAWEfBAAAA1lEw\n",
              "AACAdRQMAABgHQUDAABYR8EAAADWUTAAAIB1FAwAAGDd/wAj59ykPlT5/QAAAABJRU5ErkJggg==\n",
              "\">\n",
              "        \n",
              "      </div>\n",
              "      <script></script>\n",
              "      <script type=\"text/javascript\">\n",
              "        (() => {\n",
              "          const chartElement = document.getElementById(\"chart-b59dbdb6-2cd5-4d2e-9f51-99b0a9a14203\");\n",
              "          async function getCodeForChartHandler(event) {\n",
              "            const chartCodeResponse =  await google.colab.kernel.invokeFunction(\n",
              "                'getCodeForChart', [\"chart-b59dbdb6-2cd5-4d2e-9f51-99b0a9a14203\"], {});\n",
              "            const responseJson = chartCodeResponse.data['application/json'];\n",
              "            await google.colab.notebook.addCell(responseJson.code, 'code');\n",
              "          }\n",
              "          chartElement.onclick = getCodeForChartHandler;\n",
              "        })();\n",
              "      </script>\n",
              "      <style>\n",
              "        .colab-quickchart-chart-with-code  {\n",
              "            display: block;\n",
              "            float: left;\n",
              "            border: 1px solid transparent;\n",
              "        }\n",
              "\n",
              "        .colab-quickchart-chart-with-code:hover {\n",
              "            cursor: pointer;\n",
              "            border: 1px solid #aaa;\n",
              "        }\n",
              "      </style>"
            ]
          },
          "metadata": {}
        },
        {
          "output_type": "display_data",
          "data": {
            "text/plain": [
              "import numpy as np\n",
              "from google.colab import autoviz\n",
              "\n",
              "def violin_plot(df, value_colname, facet_colname, figscale=1, mpl_palette_name='Dark2', **kwargs):\n",
              "  from matplotlib import pyplot as plt\n",
              "  import seaborn as sns\n",
              "  figsize = (12 * figscale, 1.2 * figscale * len(df[facet_colname].unique()))\n",
              "  plt.figure(figsize=figsize)\n",
              "  sns.violinplot(df, x=value_colname, y=facet_colname, palette=mpl_palette_name, **kwargs)\n",
              "  sns.despine(top=True, right=True, bottom=True, left=True)\n",
              "  return autoviz.MplChart.from_current_mpl_state()\n",
              "\n",
              "chart = violin_plot(_df_6, *['cost', 'item Purchased'], **{'inner': 'stick'})\n",
              "chart"
            ],
            "text/html": [
              "      <div class=\"colab-quickchart-chart-with-code\" id=\"chart-8c97f28e-297e-488a-9fe0-1511a998040b\">\n",
              "        <img src=\"data:image/png;base64,iVBORw0KGgoAAAANSUhEUgAAAhkAAAC9CAYAAAAeCG9aAAAAOXRFWHRTb2Z0d2FyZQBNYXRwbG90\n",
              "bGliIHZlcnNpb24zLjcuMSwgaHR0cHM6Ly9tYXRwbG90bGliLm9yZy/bCgiHAAAACXBIWXMAAA9h\n",
              "AAAPYQGoP6dpAAAYMklEQVR4nO3de1AV5+HG8eccUMDLEa2KUeMVNd4AFQ1yUWlqMNZbUmk7qXG0\n",
              "dmJtDbWay5jaqkMb4zSjTe00Wq2aNt4iXjNGrSZqNdGqVcRbGrESjYp4iSCRi8D7+yPj+YUEzFnL\n",
              "shz8fmbODGfZhee8OS5Pdt+z6zLGGAEAAFQxt9MBAABA7UTJAAAAtqBkAAAAW1AyAACALSgZAADA\n",
              "FpQMAABgC0oGAACwBSUDAADYgpIBAABsQckAAAC2oGQAAABbBDodAAAAVD1jjAoLCyVJwcHBcrlc\n",
              "1Z6BIxkAANRChYWFSkxMVGJiordsVDdKBgAAsAUlAwAA2IKSAQAAbEHJAAAAtqBkAAAAW1AyAACA\n",
              "LSgZAADAFpQMAABgC0oGAACwBSUDAADYgpIBAABsQckAAAC2oGQAAABbUDIAAIAtKBkAAMAWjpeM\n",
              "du3aqXnz5rpz54532a5du+RyuTRlyhRt3rxZv/zlLyVJu3fvVlRUlCQpKytLoaGhDiQGAAC+cLxk\n",
              "SFKbNm20efNm7/O//vWvio6OliSNGDFC8+fPdyoaAAC4TzWiZIwfP15Lly6VJOXm5urAgQMaMmSI\n",
              "JGn58uUaNWrUPbcvLi7WmDFjNHHiRJWWlla4TlFRkfLy8so9ioqKqvR1AACA/1cjSkZcXJyysrJ0\n",
              "6dIlrVq1SsnJyQoICPBp25s3b2rIkCHq1q2bFi1aVOl2c+bMUaNGjco95syZU5UvAwAAfEmNKBmS\n",
              "9Mwzz2j58uVaunSpfvzjH/u0TXFxseLi4jRu3Di9/PLL91x3+vTpys3NLfeYPn16VUQHAAAVqDEl\n",
              "Y+zYsfrjH/+o4OBgderUyadt6tSpo/j4eL3zzjvlJo5WJCgoSB6Pp9wjKCioKqIDAIAK1JiS0bJl\n",
              "S82ZM0dz5871eRuXy6VFixbp4Ycf1qhRo1RQUGBjQgAAYEWNKRnSFxNA+/fvb3m7efPmqXfv3ho6\n",
              "dKjy8/NtSAYAAKxyGWOM0yEAAEDVKigoUGJioqQvrj8VEhJS7RkCfVlp/PjxcrlclX7/7sdPAQAA\n",
              "7vLpdEl0dLT69OmjunXr6sCBA+rQoYM6duyogwcPMnkSAABUyKcjGT//+c8lSQMGDNCBAwfk8Xgk\n",
              "Sc8995yGDRtmXzoAAOC3LE38vHr1qrdgSJLH49HVq1erPBQAAPB/Ph3JuCsyMlLjxo3ThAkTJEnL\n",
              "li1TZGSkLcEAAIB/s3QkY8mSJWrWrJmmTJmiKVOmqFmzZlqyZIld2QAAgB+zdCSjQYMG+v3vf29X\n",
              "FgAAUItYOpJx4cIFDRs2TFFRUZKk9PR0bsMOAAAqZKlkTJw4UT/84Q919/pdPXr04BoZAACgQpZK\n",
              "Rk5OjsaMGSO3+4vNAgMDFRho6YwLAAB4QFgqGYGBgfryVcg/++wzcVVyAABQEUslIzk5WRMnTlRe\n",
              "Xp6WLFmiwYMH6yc/+Yld2QAAgB+zfIO0VatWaePGjTLGaNSoUXr66aftygYAAO5TTbhB2n3fhdUY\n",
              "o/z8fDVs2LCqMwEAgP9RTSgZlk6XTJgwQTdv3lRxcbGioqIUFhamP//5z3ZlAwAA9yk4OFi7du3S\n",
              "rl27FBwc7EgGSyXj3//+t0JDQ7Vt2zb16tVL2dnZWrhwoV3ZAADAfXK5XAoJCVFISIhcLpcjGSyV\n",
              "jLtnVvbu3athw4bJ4/EoICDAlmAAAMC/WSoZLVq00KRJk7R27Vp95zvf0Z07d1RaWmpXNgAA4Mcs\n",
              "lYwVK1aoS5cuWr16tUJDQ3Xx4kVNnTrVrmwAAMCP3fenSwAAAO7F0jXBc3JyNGvWLKWnp6uwsNC7\n",
              "/MiRI1UeDLWDMcb7XgkODnZs8hEAoPpZ/ghr27Ztde3aNc2ePVstW7bUd7/7XbuyoRYoLCxUYmKi\n",
              "EhMTyxVTAEDtZ/lW7y+99JKCgoI0fPhwrV+/Xjt37rQrGwAA8GOWSkbdunUlfXHY+/r16woMDNS1\n",
              "a9dsCQYAAPybpTkZnTt31vXr1zVmzBg9+uij8ng86tOnj13ZAACAH7vvT5fs27dPN2/e1JAhQxQY\n",
              "aKmr4AFSE66dDwBwxn23g/j4+KrMAQAAahlLczK2bdumRx55RHXr1lVAQIDcbjeXFQcAABWydCQj\n",
              "JSVFCxYsUP/+/SkXAADgniyVDI/Ho6SkJLuyAACAWsTS6ZJhw4Zp48aNNkUBAAC1iU9HMho3biyX\n",
              "yyVjjHJzcxUSEqKgoCAZY+RyuXTjxg27cwIAAD/jU8lIT0+3OQYAAKhtfCoZbdu2lSSdP39ezZs3\n",
              "V3BwsKQv7ktx9epV+9IBAAC/ZWlOxujRo8s9N8Z8bRkAAIBksWQUFxd7j2JIUkhIiIqKiqo8FAAA\n",
              "8H+WSobL5VJOTo73eXZ2tu7zquQAAKCWs1QyUlJS1L9/f82aNUuzZs1SfHy8nn/+ebuyadGiRXrk\n",
              "kUcUFRWl69evf+05AACouSzfIG337t169913JUnDhw9XQkKCLcEkqWvXrlq6dKn69+9f4XPUfNwg\n",
              "DQAeXD5f8bO0tFQ9e/bUqVOnNGjQoPv6Zfv379cLL7ygW7duyRij1NRUtWrVSikpKcrPz1dwcLDm\n",
              "z5+vuLg4jR49WmfPntW4cePUs2dPSSr3PC0tTdu3b1dqaqoKCgoUEBCguXPnev+gAQAAZ/lcMgIC\n",
              "AtSsWTPdvn1b9erVs/yLbty4oVGjRiktLU0JCQkqKyvTtWvXFB0drcWLFyspKUn79u3T9773PWVm\n",
              "ZiotLU3t2rXTmjVrFBUVJUnlnv/3v//VrFmztH37dnk8HmVmZiohIUFZWVkKCgr62u8vKir62iTV\n",
              "oKCgCtcFAAD/O0v3LgkPD1dcXJySk5PVoEED7/KUlJRv3Hb//v3q0qWL9/SK2+3WlStX5Ha7vfdD\n",
              "iY+PV1hYmNLT07/xVvLbtm1TZmamBgwY4F3mdrt1/vx5derU6Wvrz5kzR7Nnzy63bObMmZo1a9Y3\n",
              "ZgcAANZZKhllZWWKiorSmTNnvMtcLleVBvL15xljNHjwYK1cudKn9adPn66pU6eWW8ZRDAAA7GOp\n",
              "ZCxbtuy+f1FsbKzOnDmjvXv3ek+XhIWFqaysTDt27NDgwYP14YcfKjs723t65F6SkpI0e/ZsZWRk\n",
              "KCIiQpJ08OBB9evXr8L1OTUCAED1slQy/va3v1W4fOzYsd+4bePGjbVhwwZNmzZNt27dktvtVmpq\n",
              "qtavX6+UlBRNmzZNwcHBSktLK3cqpjLh4eFauXKlJk6cqNu3b6u4uFi9evXy+cgGAACwl6WPsCYn\n",
              "J3u/Liws1L59+xQTE6OtW7faEg7+j4+wAsCDy9KRjLVr15Z7fu7cOf3qV7+q0kAAAKB2sHTFz69q\n",
              "3769Tp48WVVZAABALWLpSMbmzZu9X5eWlupf//oXkykBAECFLJWM+fPn//+GgYEKDw/XmjVrqjwU\n",
              "AADwf5ZKxrp169SkSRO7sgAAgFrEpzkZu3fvVvPmzdWsWTO1b99eJ06csDsXAADwcz6VjBdeeEGL\n",
              "Fi1Sfn6+ZsyYoenTp9udCwAA+DmfSsadO3f05JNPKiQkRBMmTNCnn35qdy4AAODnfCoZbnf51ar6\n",
              "fiUAAKD28WniZ0ZGRrkJn3l5eWrSpImMMXK5XLpx44ZtAQEAgH/yqWScPXvW7hwAAKCW8alktG3b\n",
              "1u4cAACglvmfLisOAABQGUoGAACwhaVbvQNWGWNUWFgoSQoODuaTSQDwALFcMk6fPq0zZ86opKTE\n",
              "u+ypp56q8mAAAMC/WSoZ06ZN04oVK9StWzcFBAR88QNcLv3jH/+wLSAAAPBPlkpGeHi4MjIyVK9e\n",
              "PTszAQCAWsDSxM+HH35YwcHBdmUBAAC1iKUjGYcOHdKrr76qpKSkcmVj7NixtoQDAAD+y6eLcd21\n",
              "cOFCZWRkyBhTbk4GJYNPUQAA8FWWjmR07NhR//nPfxQYaKmbPBAKCgqUmJgoSdq1a5dCQkIcTgQA\n",
              "gLMszcno0KGDuKwGAADwhaVDEh06dNCgQYM0cuTIcnMyUlJSqjwYAADwb5ZKRnFxsTp37qzTp097\n",
              "lzH3AAAAVMRSyVi2bJldOQAAQC1jaU5Gbm6uJk+erOHDh0uSTp06pVWrVtkSDAAA+DdLJWPixIlq\n",
              "0aKFzp07J0lq37695s6da0swAADg3yyVjI8//lgzZsxQnTp1JEkhISF82gQAAFTIUsmoW7duuecF\n",
              "BQWUDAAAUCFLJSMxMVG/+93vVFhYqJ07d2r06NF68skn7coGAAD8mKWSkZqaKrfbLY/Ho5dffllx\n",
              "cXGaOXOmXdkAAIAfs3RZ8YyMDEVERHzjsgcRlxUHAKA8S0cyxo0b59MyAAAAny7GlZOTo+zsbBUU\n",
              "FOj48ePeyZ65ubn6/PPPbQ0IAAD8k08lY9WqVfrDH/6gS5cuacSIEd7ljRo10osvvmhbOAAA4L8s\n",
              "zclITU3Vr3/9azvz+C3mZAAAUJ5PRzI+//xz1a9fX7/4xS+Ul5f3te97PJ4qDwYAAPybTyUjISFB\n",
              "R44cUWhoqFwuV7kLcLlcLpWWltoWEAAA+CefSsaRI0ckSWVlZbaGqQolJSUKDLR0c1kAAGADSx9h\n",
              "taKgoEA/+MEP1K1bN0VGRurxxx/X7t27FRUV5V3nxIkTateunaQvykFSUpKio6PVvXt3Pf300+U+\n",
              "uTJz5kyFh4erb9++mjFjhne7rKwshYaG6qWXXlLv3r31pz/9qcI8RUVFysvLK/coKiqy6+UDAPDA\n",
              "s61kbNu2TTdv3tSpU6d07NgxrV69+p7rBwQEaOXKlTp8+LBOnDihRo0aacGCBZKkLVu2aN26dTp6\n",
              "9KgOHjyoixcvlts2NzdX3bt315EjRzRlypQKf/6cOXPUqFGjco85c+ZUyWsFAABfZ9t5hcjISJ0+\n",
              "fVo/+9nPNHDgQA0dOvSe6xtjNH/+fG3ZskUlJSXKzc1VbGysJOm9995TcnKyGjZsKEmaMGGCdu3a\n",
              "5d22Tp06GjNmzD1//vTp0zV16tRyy4KCgu7npQEAAB/YdiSjQ4cOOnXqlIYMGaIPPvhAPXr0UEBA\n",
              "QLlJooWFhd6vV65cqffff1979uzR8ePH9fzzz5f7/pe5XK5yz+vVqye3+94vJSgoSB6Pp9yDkgEA\n",
              "gH1sKxmffvqpXC6XRowYoddee03GGBlj9Mknn+jq1auSpL///e/e9T/77DM1bdpUHo9Ht27d0vLl\n",
              "y73f+/a3v61169YpPz9fxhgtXbrUrtgAAKCK2FYyjh8/rri4OEVGRqpXr1565plnNGDAAL344ovq\n",
              "16+fYmJi1KRJE+/6Y8eO1e3bt9WlSxc98cQTSkhI8H5v2LBhGjlypKKiotS3b1+FhoYqNDTUrugA\n",
              "AKAKWLrip5Nu3bqlhg0byhijadOmqaCgQG+88YbTsby44icAAOX5zQUlxo4dq6ysLBUWFqp79+5a\n",
              "uHCh05EAAMA9+E3J2LBhg9MRAACABbbNyQAAAA82SgYAALAFJQMAANiCkgEAAGxByQAAALagZAAA\n",
              "AFtQMgAAgC0oGQAAwBaUDAAAYAtKBgAAsAUlAwAA2MJv7sJa0xljVFhYKEkKDg6Wy+VyOBEAAM6i\n",
              "ZAAAAFtwugQAANiCkgEAAGxByZBUVFSkWbNmqaioyOkoNQ5jUzHGpWKMS+UYm4oxLpWrDWPDnAxJ\n",
              "eXl5atSokXJzc+XxeJyOU6MwNhVjXCrGuFSOsakY41K52jA2HMkAAAC2oGQAAABbUDIAAIAtKBmS\n",
              "goKCNHPmTAUFBTkdpcZhbCrGuFSMcakcY1MxxqVytWFsmPgJAABswZEMAABgC0oGAACwBSUDAADY\n",
              "4oErGSkpKWrXrp1cLpfS09O9y8+cOaPY2Fh17txZffv21cmTJ50L6ZCKxqawsFCjRo1S586dFRkZ\n",
              "qcGDByszM9PZoNWssvfMXcuWLZPL5dLGjRurPZvTKhuboqIiTZ48WZ06dVLPnj01ZswY50I6oLJx\n",
              "effdd9W7d29FRUWpR48eevPNN50L6YB77U9ycnI0ZMgQderUST169NA///lPh9NWr3uNzfjx473L\n",
              "4+LidOjQIYfTWmAeMHv27DEXLlwwbdu2NUePHvUuT0xMNMuWLTPGGLN27VoTHR3tTEAHVTQ2BQUF\n",
              "ZsuWLaasrMwYY8yCBQvMwIEDnQvpgMreM8YYc+7cOdO/f38TExNjNmzY4Eg+J1U2NlOmTDGTJ0/2\n",
              "vm8uX77sUEJnVDQuZWVlpnHjxubYsWPGmC/eO0FBQSYvL8/BpNXrXvuT8ePHm5kzZxpjjDl48KBp\n",
              "1aqVKS4udihp9bvX2GzatMncuXPHGGPMO++8Y9q2betQSuseuJJx15f/8V+5csU0bNjQ+x+xrKzM\n",
              "hIWFmTNnzjiY0DkV/TG969ChQ371Bq9KXx2X0tJS89hjj5nDhw+bgQMHPpAl464vj01+fr5p2LCh\n",
              "yc3NdTZUDfDVktGkSROzZ88eY4wxx44dMy1btjRFRUUOJnTWl/cn9evXL1dG+/bta3bs2OFQMudV\n",
              "tq+9evWqCQwM9P69qukeuNMlFblw4YIeeughBQYGSpJcLpfatGmj8+fPO5ys5nn99dc1cuRIp2PU\n",
              "CPPmzVNcXJz69OnjdJQa5ezZs2rSpIleeeUVRUdHKyEhQe+9957TsRzncrm0Zs0aPfXUU2rbtq3i\n",
              "4+P15ptvqm7duk5Hc8zd/cn169d1584dtWjRwvu9du3aPdD74Mr2ta+//rqGDh3q/XtV0/lHStQI\n",
              "r7zyijIzM/mDIenEiRNat27dA3fe2BclJSX65JNP1K1bN7366qs6evSoBg8erJMnTyosLMzpeI4p\n",
              "KSnRb3/7W61fv14DBgzQoUOHNGLECB0/flxNmzZ1Ol61+/L+pKCgwOk4NUpl+9q33npLb7/9tl/t\n",
              "dziSIenhhx/W5cuXVVJSIkkyxuj8+fNq06aNw8lqjtdee03r16/X1q1bVa9ePafjOG7v3r3KyspS\n",
              "p06d1K5dOx04cEDPPvus3njjDaejOa5NmzZyu9360Y9+JEnq1auX2rdvr+PHjzuczFnp6em6dOmS\n",
              "BgwYIEnq27evWrduraNHjzqcrPp9dX/yrW99S4GBgcrOzvauk5WV9UDugyvb165Zs0azZ8/Wjh07\n",
              "/KqsUzIkNW/eXL1799Zbb70lSVq3bp1at26t8PBwh5PVDPPmzdOqVau0Y8cOhYaGOh2nRpg0aZIu\n",
              "X76srKwsZWVlKSYmRn/5y180adIkp6M5rmnTpnrssce0fft2SdK5c+d07tw5de3a1eFkzrr7PzOn\n",
              "T5+WJGVmZurs2bPq0qWLw8mqV2X7k+TkZC1cuFCSdOjQIV28eFEDBw50KKUzKhubt99+WzNmzNDO\n",
              "nTv9r3g5PSmkuj377LOmVatWJiAgwDRv3tx07NjRGGPMRx99ZGJiYkynTp1Mnz59TEZGhsNJq19F\n",
              "Y3PhwgUjyXTo0MFERkaayMhI069fP6ejVqvK3jNf9qBO/KxsbM6ePWsGDRpkevToYSIiIkxaWprD\n",
              "SatXZeOycuVK75j06NHDrFixwuGk1ete+5Ps7GwzePBgEx4ebrp162bef/99h9NWr3uNTWBgoGnd\n",
              "urV3eWRkpLl27ZrDiX3DvUsAAIAtOF0CAABsQckAAAC2oGQAAABbUDIA+J309HStXr3a6RgAvgEl\n",
              "A4DfoWQA/oGSAaBa7d+/X/Hx8YqMjFRERIQ2bdqkw4cPKzY2VhEREerXr58++OADSdLVq1f1+OOP\n",
              "q2fPnoqIiND48eOVk5Oj3/zmN9q1a5eioqL005/+1OFXBKAyfIQVQLW5ceOGunbtqrS0NCUkJKis\n",
              "rEzXrl1TdHS0Fi9erKSkJO3bt0+jR49WZmamFi9erI8++kiLFi3ybt+kSRMtX75cGzdu1MaNG519\n",
              "QQDuiSMZAKrN/v371aVLFyUkJEiS3G63rly5IrfbraSkJElSfHy8wsLClJ6erpiYGG3dulXTpk3T\n",
              "pk2bVL9+fSfjA7CIkgGgxnG5XJKk/v37Kz09XY8++qjWr1+vvn37qrS01OF0AHxFyQBQbWJjY3Xm\n",
              "zBnt3btXklRWVqawsDCVlZVpx44dkqQPP/xQ2dnZioqK0rlz59SgQQN9//vf14IFC/Txxx8rPz9f\n",
              "Ho9Hubm5Tr4UAD5gTgaAanXgwAFNmzZNt27dktvtVmpqqh566CGlpKQoPz9fwcHBmjdvnuLj47Vs\n",
              "2TLNmzdPAQEBKikp0cSJE/Xcc88pNzdXTzzxhPLz8xUbG+u9sRaAmoWSAQAAbMHpEgAAYAtKBgAA\n",
              "sAUlAwAA2IKSAQAAbEHJAAAAtqBkAAAAW1AyAACALSgZAADAFpQMAABgC0oGAACwxf8BlXs5hlaz\n",
              "CBEAAAAASUVORK5CYII=\n",
              "\">\n",
              "        \n",
              "      </div>\n",
              "      <script></script>\n",
              "      <script type=\"text/javascript\">\n",
              "        (() => {\n",
              "          const chartElement = document.getElementById(\"chart-8c97f28e-297e-488a-9fe0-1511a998040b\");\n",
              "          async function getCodeForChartHandler(event) {\n",
              "            const chartCodeResponse =  await google.colab.kernel.invokeFunction(\n",
              "                'getCodeForChart', [\"chart-8c97f28e-297e-488a-9fe0-1511a998040b\"], {});\n",
              "            const responseJson = chartCodeResponse.data['application/json'];\n",
              "            await google.colab.notebook.addCell(responseJson.code, 'code');\n",
              "          }\n",
              "          chartElement.onclick = getCodeForChartHandler;\n",
              "        })();\n",
              "      </script>\n",
              "      <style>\n",
              "        .colab-quickchart-chart-with-code  {\n",
              "            display: block;\n",
              "            float: left;\n",
              "            border: 1px solid transparent;\n",
              "        }\n",
              "\n",
              "        .colab-quickchart-chart-with-code:hover {\n",
              "            cursor: pointer;\n",
              "            border: 1px solid #aaa;\n",
              "        }\n",
              "      </style>"
            ]
          },
          "metadata": {}
        }
      ]
    }
  ]
}