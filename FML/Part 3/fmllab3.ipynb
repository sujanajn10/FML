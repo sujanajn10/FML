{
  "nbformat": 4,
  "nbformat_minor": 0,
  "metadata": {
    "colab": {
      "provenance": []
    },
    "kernelspec": {
      "name": "python3",
      "display_name": "Python 3"
    },
    "language_info": {
      "name": "python"
    }
  },
  "cells": [
    {
      "cell_type": "code",
      "execution_count": null,
      "metadata": {
        "id": "B1MdA6pZTntg",
        "colab": {
          "base_uri": "https://localhost:8080/",
          "height": 36
        },
        "outputId": "7e113ad0-dbd6-41c2-a0b3-5b4660ae545f"
      },
      "outputs": [
        {
          "output_type": "execute_result",
          "data": {
            "text/plain": [
              "'bill@gmail.com'"
            ],
            "application/vnd.google.colaboratory.intrinsic+json": {
              "type": "string"
            }
          },
          "metadata": {},
          "execution_count": 4
        }
      ],
      "source": [
        "x={'sujana': 'sujananayak10@gmail.com', 'bill gates':'bill@gmail.com'}\n",
        "x['bill gates']"
      ]
    },
    {
      "cell_type": "code",
      "source": [
        "x={'sujana': 'sujananayak10@gmail.com', 'bill gates':'bill@gmail.com'}\n",
        "for name in x:\n",
        "    print([name])"
      ],
      "metadata": {
        "colab": {
          "base_uri": "https://localhost:8080/"
        },
        "id": "9xqqBLWWUx3L",
        "outputId": "537ae630-0e5e-4a14-c4e3-cc8342acaef5"
      },
      "execution_count": null,
      "outputs": [
        {
          "output_type": "stream",
          "name": "stdout",
          "text": [
            "['sujana']\n",
            "['bill gates']\n"
          ]
        }
      ]
    },
    {
      "cell_type": "code",
      "source": [
        "for email in x.values():\n",
        "  print(email)"
      ],
      "metadata": {
        "colab": {
          "base_uri": "https://localhost:8080/"
        },
        "id": "MZE37oz5VJtU",
        "outputId": "fc25bdfe-01cc-400f-f80e-4933c67ccf78"
      },
      "execution_count": null,
      "outputs": [
        {
          "output_type": "stream",
          "name": "stdout",
          "text": [
            "sujananayak10@gmail.com\n",
            "bill@gmail.com\n"
          ]
        }
      ]
    },
    {
      "cell_type": "code",
      "source": [
        "for email in x:\n",
        "  print(email)"
      ],
      "metadata": {
        "colab": {
          "base_uri": "https://localhost:8080/"
        },
        "id": "R9KLetPNVZh-",
        "outputId": "6119bedd-c991-42eb-b901-5459ff5a1ef3"
      },
      "execution_count": null,
      "outputs": [
        {
          "output_type": "stream",
          "name": "stdout",
          "text": [
            "sujana\n",
            "bill gates\n"
          ]
        }
      ]
    },
    {
      "cell_type": "code",
      "source": [
        "for name in x.items():\n",
        "  print(name)"
      ],
      "metadata": {
        "colab": {
          "base_uri": "https://localhost:8080/"
        },
        "id": "2tlVYwzMVjiF",
        "outputId": "938d0727-d25c-41dd-cf6a-22ef3893c8cb"
      },
      "execution_count": null,
      "outputs": [
        {
          "output_type": "stream",
          "name": "stdout",
          "text": [
            "('sujana', 'sujananayak10@gmail.com')\n",
            "('bill gates', 'bill@gmail.com')\n"
          ]
        }
      ]
    },
    {
      "cell_type": "code",
      "source": [
        "for name,email in x.items():\n",
        "  print(name)\n",
        "  print(email)"
      ],
      "metadata": {
        "colab": {
          "base_uri": "https://localhost:8080/"
        },
        "id": "MsVhjGwDWLqo",
        "outputId": "6c26df6d-6ce9-4e9e-f7fd-41eaa1403bec"
      },
      "execution_count": null,
      "outputs": [
        {
          "output_type": "stream",
          "name": "stdout",
          "text": [
            "sujana\n",
            "sujananayak10@gmail.com\n",
            "bill gates\n",
            "bill@gmail.com\n"
          ]
        }
      ]
    },
    {
      "cell_type": "code",
      "source": [
        "x('sujana','nayak','sujananayak10@gmail.com','manipal')\n",
        "fname,lname,email,cname=x"
      ],
      "metadata": {
        "colab": {
          "base_uri": "https://localhost:8080/",
          "height": 192
        },
        "id": "IHMybOlTXLb1",
        "outputId": "f8cbdae1-a826-479e-f298-19c1819bd4bf"
      },
      "execution_count": null,
      "outputs": [
        {
          "output_type": "error",
          "ename": "TypeError",
          "evalue": "ignored",
          "traceback": [
            "\u001b[0;31m---------------------------------------------------------------------------\u001b[0m",
            "\u001b[0;31mTypeError\u001b[0m                                 Traceback (most recent call last)",
            "\u001b[0;32m<ipython-input-11-1b42319ab00a>\u001b[0m in \u001b[0;36m<cell line: 1>\u001b[0;34m()\u001b[0m\n\u001b[0;32m----> 1\u001b[0;31m \u001b[0mx\u001b[0m\u001b[0;34m(\u001b[0m\u001b[0;34m'sujana'\u001b[0m\u001b[0;34m,\u001b[0m\u001b[0;34m'nayak'\u001b[0m\u001b[0;34m,\u001b[0m\u001b[0;34m'sujananayak10@gmail.com'\u001b[0m\u001b[0;34m,\u001b[0m\u001b[0;34m'manipal'\u001b[0m\u001b[0;34m)\u001b[0m\u001b[0;34m\u001b[0m\u001b[0;34m\u001b[0m\u001b[0m\n\u001b[0m\u001b[1;32m      2\u001b[0m \u001b[0mfname\u001b[0m\u001b[0;34m,\u001b[0m\u001b[0mlname\u001b[0m\u001b[0;34m,\u001b[0m\u001b[0memail\u001b[0m\u001b[0;34m,\u001b[0m\u001b[0mcname\u001b[0m\u001b[0;34m=\u001b[0m\u001b[0mx\u001b[0m\u001b[0;34m\u001b[0m\u001b[0;34m\u001b[0m\u001b[0m\n",
            "\u001b[0;31mTypeError\u001b[0m: 'dict' object is not callable"
          ]
        }
      ]
    },
    {
      "cell_type": "code",
      "source": [],
      "metadata": {
        "id": "0hobdx3tbTgG"
      },
      "execution_count": null,
      "outputs": []
    },
    {
      "cell_type": "code",
      "source": [
        "sales_record={\n",
        "    'price':3.24,\n",
        "    'num_items':4,\n",
        "    'person': 'Sujana',\n",
        "    'email': 'sujananayak10@gmail.com'\n",
        "\n",
        "}"
      ],
      "metadata": {
        "id": "qS6Bt5FZXyxE"
      },
      "execution_count": null,
      "outputs": []
    },
    {
      "cell_type": "code",
      "source": [
        "sales_statement=' {} bought {} items at a price of INR {} each for a total of INR {} '"
      ],
      "metadata": {
        "id": "Rr2Nbz4OYfns"
      },
      "execution_count": null,
      "outputs": []
    },
    {
      "cell_type": "code",
      "source": [
        "print(sales_statement.format(sales_record['person'],\n",
        "                             sales_record['num_items'],\n",
        "                             sales_record['price'],\n",
        "                              sales_record['num_items']*sales_record['price']\n",
        "                             ))"
      ],
      "metadata": {
        "colab": {
          "base_uri": "https://localhost:8080/"
        },
        "id": "-7Q7KVS_Y7Qu",
        "outputId": "67a2b0d0-53a2-42e5-80ab-4285388e75a2"
      },
      "execution_count": null,
      "outputs": [
        {
          "output_type": "stream",
          "name": "stdout",
          "text": [
            " Sujana bought 4 items at a price of INR 3.24 each for a total of INR 12.96 \n"
          ]
        }
      ]
    },
    {
      "cell_type": "code",
      "source": [
        "import datetime as dt\n",
        "import time as tm"
      ],
      "metadata": {
        "id": "3LPHoiOCapWp"
      },
      "execution_count": null,
      "outputs": []
    },
    {
      "cell_type": "code",
      "source": [
        "tm.time()\n"
      ],
      "metadata": {
        "colab": {
          "base_uri": "https://localhost:8080/"
        },
        "id": "sfjzgmz_bD5K",
        "outputId": "95ffe6d7-4096-49fc-d89f-21d919df8406"
      },
      "execution_count": null,
      "outputs": [
        {
          "output_type": "execute_result",
          "data": {
            "text/plain": [
              "1693214123.4119177"
            ]
          },
          "metadata": {},
          "execution_count": 30
        }
      ]
    },
    {
      "cell_type": "code",
      "source": [
        "from datetime import date\n",
        "from datetime import time\n",
        "from datetime import datetime\n"
      ],
      "metadata": {
        "id": "MtY8ar82bVzY"
      },
      "execution_count": null,
      "outputs": []
    },
    {
      "cell_type": "code",
      "source": [
        "today=date.today()\n",
        "print('date is',today)"
      ],
      "metadata": {
        "colab": {
          "base_uri": "https://localhost:8080/"
        },
        "id": "YOMYpYXqbl6W",
        "outputId": "b6e46446-dad2-4e09-e1a1-7725d83c5705"
      },
      "execution_count": null,
      "outputs": [
        {
          "output_type": "stream",
          "name": "stdout",
          "text": [
            "date is 2023-08-28\n"
          ]
        }
      ]
    },
    {
      "cell_type": "code",
      "source": [
        "dtnow=dt.datetime.fromtimestamp(tm.time())\n",
        "dtnow"
      ],
      "metadata": {
        "colab": {
          "base_uri": "https://localhost:8080/"
        },
        "id": "aPP90AMPbyu0",
        "outputId": "89c76abc-70b0-4c54-bd58-8d3cae890192"
      },
      "execution_count": null,
      "outputs": [
        {
          "output_type": "execute_result",
          "data": {
            "text/plain": [
              "datetime.datetime(2023, 8, 28, 9, 18, 44, 645050)"
            ]
          },
          "metadata": {},
          "execution_count": 34
        }
      ]
    },
    {
      "cell_type": "code",
      "source": [
        "dtnow.year, dtnow.month, dtnow.day,dtnow.hour,dtnow.minute,dtnow.second"
      ],
      "metadata": {
        "colab": {
          "base_uri": "https://localhost:8080/"
        },
        "id": "b7Dcj1LbckM_",
        "outputId": "502f4852-e178-475f-8d1c-7503e9fef342"
      },
      "execution_count": null,
      "outputs": [
        {
          "output_type": "execute_result",
          "data": {
            "text/plain": [
              "(2023, 8, 28, 9, 18, 44)"
            ]
          },
          "metadata": {},
          "execution_count": 35
        }
      ]
    },
    {
      "cell_type": "code",
      "source": [
        "delta=dt.timedelta(days=100)"
      ],
      "metadata": {
        "colab": {
          "base_uri": "https://localhost:8080/"
        },
        "id": "kUJZYrz1dBfS",
        "outputId": "ccd47ff2-26ac-42dc-b7b7-22f756f5d9d9"
      },
      "execution_count": null,
      "outputs": [
        {
          "output_type": "execute_result",
          "data": {
            "text/plain": [
              "datetime.timedelta(days=100)"
            ]
          },
          "metadata": {},
          "execution_count": 37
        }
      ]
    },
    {
      "cell_type": "code",
      "source": [
        "today=dt.date.today()\n"
      ],
      "metadata": {
        "id": "TWy2LKRKdvKE"
      },
      "execution_count": null,
      "outputs": []
    },
    {
      "cell_type": "code",
      "source": [
        "today-delta"
      ],
      "metadata": {
        "colab": {
          "base_uri": "https://localhost:8080/"
        },
        "id": "-ZAPClQbd6ri",
        "outputId": "a4ad0580-76ff-4d2f-ec17-233e527fd30d"
      },
      "execution_count": null,
      "outputs": [
        {
          "output_type": "execute_result",
          "data": {
            "text/plain": [
              "datetime.date(2023, 5, 20)"
            ]
          },
          "metadata": {},
          "execution_count": 39
        }
      ]
    },
    {
      "cell_type": "code",
      "source": [
        "today>today-delta"
      ],
      "metadata": {
        "colab": {
          "base_uri": "https://localhost:8080/"
        },
        "id": "UHZ1AO4leP8q",
        "outputId": "5f306cec-d432-4f52-8d3e-d500c4ddf456"
      },
      "execution_count": null,
      "outputs": [
        {
          "output_type": "execute_result",
          "data": {
            "text/plain": [
              "True"
            ]
          },
          "metadata": {},
          "execution_count": 40
        }
      ]
    },
    {
      "cell_type": "markdown",
      "source": [
        "Object and map()"
      ],
      "metadata": {
        "id": "HziWrFM_enir"
      }
    },
    {
      "cell_type": "code",
      "source": [
        "class Person:\n",
        "  institute=\"Manipal school of Information Science\"\n",
        "\n",
        "\n",
        "  def set_name(self,new_name):\n",
        "    self.name=new_name\n",
        "  def set_location(self,new_location):\n",
        "    self.location=new_location"
      ],
      "metadata": {
        "id": "YNMu9GgTeWQF"
      },
      "execution_count": null,
      "outputs": []
    },
    {
      "cell_type": "code",
      "source": [
        "person=Person()\n",
        "person.set_name=(\"sujana\")\n",
        "person.set_location('Manipal, Udupi,Karnataka')\n"
      ],
      "metadata": {
        "id": "Hyi2jzQVfrLr"
      },
      "execution_count": null,
      "outputs": []
    },
    {
      "cell_type": "code",
      "source": [
        "print('{} lives in {} and is the studnent at the institute {}'.format(person.name,person.location))"
      ],
      "metadata": {
        "id": "w7x34p_AgmkJ"
      },
      "execution_count": null,
      "outputs": []
    },
    {
      "cell_type": "code",
      "source": [
        "y={1,'x',2,'y',3}\n",
        "y"
      ],
      "metadata": {
        "colab": {
          "base_uri": "https://localhost:8080/"
        },
        "id": "484JuUntgopZ",
        "outputId": "0736cba7-bf96-426f-b463-9459da6a1b06"
      },
      "execution_count": null,
      "outputs": [
        {
          "output_type": "execute_result",
          "data": {
            "text/plain": [
              "{1, 2, 3, 'x', 'y'}"
            ]
          },
          "metadata": {},
          "execution_count": 45
        }
      ]
    },
    {
      "cell_type": "markdown",
      "source": [
        "sets are unordered"
      ],
      "metadata": {
        "id": "qNB_4l9AhFq_"
      }
    },
    {
      "cell_type": "code",
      "source": [
        "x={1,'x',2,'y',(1,2,3),'hello'}\n",
        "x"
      ],
      "metadata": {
        "colab": {
          "base_uri": "https://localhost:8080/"
        },
        "id": "KtcORH5ag5S3",
        "outputId": "f566f79f-91e3-46b1-fb25-a154ad0f5e03"
      },
      "execution_count": null,
      "outputs": [
        {
          "output_type": "execute_result",
          "data": {
            "text/plain": [
              "{(1, 2, 3), 1, 2, 'hello', 'x', 'y'}"
            ]
          },
          "metadata": {},
          "execution_count": 46
        }
      ]
    },
    {
      "cell_type": "code",
      "source": [
        "type(x)"
      ],
      "metadata": {
        "colab": {
          "base_uri": "https://localhost:8080/"
        },
        "id": "4-Cb6R-5hDJ0",
        "outputId": "9fba1903-3148-4a6b-ea6f-1bb164bb6cb1"
      },
      "execution_count": null,
      "outputs": [
        {
          "output_type": "execute_result",
          "data": {
            "text/plain": [
              "set"
            ]
          },
          "metadata": {},
          "execution_count": 47
        }
      ]
    },
    {
      "cell_type": "code",
      "source": [
        "x=[1,'x',2,'y']\n",
        "type(x)\n"
      ],
      "metadata": {
        "colab": {
          "base_uri": "https://localhost:8080/"
        },
        "id": "XsgODMmFhP_w",
        "outputId": "1b8d0874-a289-461e-9be5-9e5920b0eb00"
      },
      "execution_count": null,
      "outputs": [
        {
          "output_type": "execute_result",
          "data": {
            "text/plain": [
              "list"
            ]
          },
          "metadata": {},
          "execution_count": 49
        }
      ]
    },
    {
      "cell_type": "code",
      "source": [
        "store1=[10.00,11.00,12.32,5.34]\n",
        "store2=[19.00,10.10,12.34,5.01]\n",
        "store3=[15.00,12.00,11.00,6.00]\n",
        "cheapest=map(min,store1,store2,store3)\n",
        "costly=map(max,store1,store2,store3)\n",
        "print(cheapest)"
      ],
      "metadata": {
        "colab": {
          "base_uri": "https://localhost:8080/"
        },
        "id": "tH6gGEj3hiXa",
        "outputId": "e9f9708f-c494-4b98-a780-36a4c252c602"
      },
      "execution_count": null,
      "outputs": [
        {
          "output_type": "stream",
          "name": "stdout",
          "text": [
            "<map object at 0x7f95d3ca5f90>\n"
          ]
        }
      ]
    },
    {
      "cell_type": "code",
      "source": [
        "for item in cheapest:\n",
        "  print(item)"
      ],
      "metadata": {
        "colab": {
          "base_uri": "https://localhost:8080/"
        },
        "id": "AEHwphkViiWL",
        "outputId": "c84349e8-cdfc-45fa-af4f-8f09229b6cf9"
      },
      "execution_count": null,
      "outputs": [
        {
          "output_type": "stream",
          "name": "stdout",
          "text": [
            "10.0\n",
            "10.1\n",
            "11.0\n",
            "5.01\n"
          ]
        }
      ]
    },
    {
      "cell_type": "code",
      "source": [
        "for item in costly:\n",
        "  print(item)"
      ],
      "metadata": {
        "colab": {
          "base_uri": "https://localhost:8080/"
        },
        "id": "-d8PYDE9i-8V",
        "outputId": "6bc98f17-53eb-41db-c97c-fcfd624dbf54"
      },
      "execution_count": null,
      "outputs": [
        {
          "output_type": "stream",
          "name": "stdout",
          "text": [
            "19.0\n",
            "12.0\n",
            "12.34\n",
            "6.0\n"
          ]
        }
      ]
    },
    {
      "cell_type": "code",
      "source": [
        "def calculateSquare(n):\n",
        "     return n*n\n",
        "\n",
        "numbers=(1,2,3,4)\n",
        "result=map(calculateSquare,numbers)\n",
        "print(result)\n",
        "res=list(result)\n",
        "print(res)\n"
      ],
      "metadata": {
        "colab": {
          "base_uri": "https://localhost:8080/"
        },
        "id": "1btpFTavjI4I",
        "outputId": "2b3d2a0e-b02e-478d-a4e2-df4c5549591f"
      },
      "execution_count": null,
      "outputs": [
        {
          "output_type": "stream",
          "name": "stdout",
          "text": [
            "<map object at 0x7f95d3cc2170>\n",
            "[1, 4, 9, 16]\n"
          ]
        }
      ]
    },
    {
      "cell_type": "code",
      "source": [
        "res=list(result)\n",
        "print(res)"
      ],
      "metadata": {
        "colab": {
          "base_uri": "https://localhost:8080/"
        },
        "id": "gGzIdKVrju5b",
        "outputId": "3df5a78d-6568-4a73-c84a-83835d8a7f16"
      },
      "execution_count": null,
      "outputs": [
        {
          "output_type": "stream",
          "name": "stdout",
          "text": [
            "[]\n"
          ]
        }
      ]
    },
    {
      "cell_type": "code",
      "source": [
        "for item in result:\n",
        "  print(item)"
      ],
      "metadata": {
        "id": "pEgFTVlZkMlH"
      },
      "execution_count": null,
      "outputs": []
    },
    {
      "cell_type": "code",
      "source": [
        "numbers=(1,2,3,4)\n",
        "\n",
        "result=map(lambda x:x*x,numbers)\n",
        "print(result)"
      ],
      "metadata": {
        "colab": {
          "base_uri": "https://localhost:8080/"
        },
        "id": "O72eJ-Ugkw0F",
        "outputId": "f92923c7-067f-4a92-a342-ebdf3d6c3808"
      },
      "execution_count": null,
      "outputs": [
        {
          "output_type": "stream",
          "name": "stdout",
          "text": [
            "<map object at 0x7f95d3cc1180>\n"
          ]
        }
      ]
    },
    {
      "cell_type": "code",
      "source": [
        "list(result)"
      ],
      "metadata": {
        "colab": {
          "base_uri": "https://localhost:8080/"
        },
        "id": "LT5Osm2NlDKa",
        "outputId": "4d9734f3-98cc-47a5-c5eb-85ec38647f74"
      },
      "execution_count": null,
      "outputs": [
        {
          "output_type": "execute_result",
          "data": {
            "text/plain": [
              "[1, 4, 9, 16]"
            ]
          },
          "metadata": {},
          "execution_count": 64
        }
      ]
    },
    {
      "cell_type": "code",
      "source": [
        "num1=[4,5,6]\n",
        "num2=[5,6,7]"
      ],
      "metadata": {
        "id": "ifqLTTqAlSEY"
      },
      "execution_count": null,
      "outputs": []
    },
    {
      "cell_type": "code",
      "source": [
        "results=map(lambda n1,n2: n1+n2,num1,num2)\n",
        "list(results)"
      ],
      "metadata": {
        "colab": {
          "base_uri": "https://localhost:8080/"
        },
        "id": "jlRN5mzWlY9e",
        "outputId": "30bc2b69-33be-4538-cbc2-206a137d194c"
      },
      "execution_count": null,
      "outputs": [
        {
          "output_type": "execute_result",
          "data": {
            "text/plain": [
              "[9, 11, 13]"
            ]
          },
          "metadata": {},
          "execution_count": 67
        }
      ]
    },
    {
      "cell_type": "code",
      "source": [
        "people=['python programming language','computer lab test','vinod scored A','kumar scored B']\n",
        "\n",
        "def spilt_title_and_name(person):\n",
        "\n",
        "  title=person.split()[0]\n",
        "  lastname=person.split()[-1]\n",
        "  return '{} {}'.format(title,lastname)\n",
        "\n",
        "list(map(spilt_title_and_name,people))"
      ],
      "metadata": {
        "colab": {
          "base_uri": "https://localhost:8080/"
        },
        "id": "eFRj7qj-lo0z",
        "outputId": "434f7ed0-090e-4b27-dd65-3e58c67615a7"
      },
      "execution_count": null,
      "outputs": [
        {
          "output_type": "execute_result",
          "data": {
            "text/plain": [
              "['python language', 'computer test', 'vinod A', 'kumar B']"
            ]
          },
          "metadata": {},
          "execution_count": 71
        }
      ]
    },
    {
      "cell_type": "code",
      "source": [
        "for i in range(0,200):\n",
        "    if(i%2!=0):\n",
        "        print(i)"
      ],
      "metadata": {
        "colab": {
          "base_uri": "https://localhost:8080/"
        },
        "id": "7VytlFEAouwk",
        "outputId": "daa3bdb4-eb29-47c2-e1a4-8f20dcc2ee47"
      },
      "execution_count": null,
      "outputs": [
        {
          "output_type": "stream",
          "name": "stdout",
          "text": [
            "1\n",
            "3\n",
            "5\n",
            "7\n",
            "9\n",
            "11\n",
            "13\n",
            "15\n",
            "17\n",
            "19\n",
            "21\n",
            "23\n",
            "25\n",
            "27\n",
            "29\n",
            "31\n",
            "33\n",
            "35\n",
            "37\n",
            "39\n",
            "41\n",
            "43\n",
            "45\n",
            "47\n",
            "49\n",
            "51\n",
            "53\n",
            "55\n",
            "57\n",
            "59\n",
            "61\n",
            "63\n",
            "65\n",
            "67\n",
            "69\n",
            "71\n",
            "73\n",
            "75\n",
            "77\n",
            "79\n",
            "81\n",
            "83\n",
            "85\n",
            "87\n",
            "89\n",
            "91\n",
            "93\n",
            "95\n",
            "97\n",
            "99\n",
            "101\n",
            "103\n",
            "105\n",
            "107\n",
            "109\n",
            "111\n",
            "113\n",
            "115\n",
            "117\n",
            "119\n",
            "121\n",
            "123\n",
            "125\n",
            "127\n",
            "129\n",
            "131\n",
            "133\n",
            "135\n",
            "137\n",
            "139\n",
            "141\n",
            "143\n",
            "145\n",
            "147\n",
            "149\n",
            "151\n",
            "153\n",
            "155\n",
            "157\n",
            "159\n",
            "161\n",
            "163\n",
            "165\n",
            "167\n",
            "169\n",
            "171\n",
            "173\n",
            "175\n",
            "177\n",
            "179\n",
            "181\n",
            "183\n",
            "185\n",
            "187\n",
            "189\n",
            "191\n",
            "193\n",
            "195\n",
            "197\n",
            "199\n"
          ]
        }
      ]
    },
    {
      "cell_type": "code",
      "source": [
        "import numpy as np\n"
      ],
      "metadata": {
        "id": "D1B8egRFvCem"
      },
      "execution_count": null,
      "outputs": []
    },
    {
      "cell_type": "code",
      "source": [
        "lspace=np.linspace(0,9,10)\n",
        "lspace"
      ],
      "metadata": {
        "colab": {
          "base_uri": "https://localhost:8080/"
        },
        "id": "WiopHNd_wXrF",
        "outputId": "58adee44-e307-4637-be0d-2da6d8804088"
      },
      "execution_count": null,
      "outputs": [
        {
          "output_type": "execute_result",
          "data": {
            "text/plain": [
              "array([0., 1., 2., 3., 4., 5., 6., 7., 8., 9.])"
            ]
          },
          "metadata": {},
          "execution_count": 83
        }
      ]
    },
    {
      "cell_type": "code",
      "source": [
        "np.ones((5,4))"
      ],
      "metadata": {
        "colab": {
          "base_uri": "https://localhost:8080/"
        },
        "id": "uGJLBW5xwydM",
        "outputId": "d89c97e0-e6c4-4a0e-f9a7-d12c2015369d"
      },
      "execution_count": null,
      "outputs": [
        {
          "output_type": "execute_result",
          "data": {
            "text/plain": [
              "array([[1., 1., 1., 1.],\n",
              "       [1., 1., 1., 1.],\n",
              "       [1., 1., 1., 1.],\n",
              "       [1., 1., 1., 1.],\n",
              "       [1., 1., 1., 1.]])"
            ]
          },
          "metadata": {},
          "execution_count": 84
        }
      ]
    },
    {
      "cell_type": "code",
      "source": [
        "np.zeros((2,3))"
      ],
      "metadata": {
        "colab": {
          "base_uri": "https://localhost:8080/"
        },
        "id": "O-bXOHq-xCAI",
        "outputId": "c8a2b640-d4b0-438c-d628-9fb5ccfe18d8"
      },
      "execution_count": null,
      "outputs": [
        {
          "output_type": "execute_result",
          "data": {
            "text/plain": [
              "array([[0., 0., 0.],\n",
              "       [0., 0., 0.]])"
            ]
          },
          "metadata": {},
          "execution_count": 85
        }
      ]
    },
    {
      "cell_type": "code",
      "source": [
        "np.eye(4)"
      ],
      "metadata": {
        "colab": {
          "base_uri": "https://localhost:8080/"
        },
        "id": "gdS51mS-xIaf",
        "outputId": "d4a30f90-a0b1-456a-a5fd-6e1209917973"
      },
      "execution_count": null,
      "outputs": [
        {
          "output_type": "execute_result",
          "data": {
            "text/plain": [
              "array([[1., 0., 0., 0.],\n",
              "       [0., 1., 0., 0.],\n",
              "       [0., 0., 1., 0.],\n",
              "       [0., 0., 0., 1.]])"
            ]
          },
          "metadata": {},
          "execution_count": 86
        }
      ]
    },
    {
      "cell_type": "code",
      "source": [],
      "metadata": {
        "id": "dnataWYQykBr"
      },
      "execution_count": null,
      "outputs": []
    },
    {
      "cell_type": "code",
      "source": [
        "num=np.matrix([[11,121,34],\n",
        "              [613,34,56],\n",
        "              [32,78,67]])"
      ],
      "metadata": {
        "id": "cEWen0xzyKzs"
      },
      "execution_count": null,
      "outputs": []
    },
    {
      "cell_type": "code",
      "source": [
        "print('main diagonal element:\\n',np.diag(num))\n",
        "print('diagonal element above main diagonal',np.diag(num,1))\n"
      ],
      "metadata": {
        "colab": {
          "base_uri": "https://localhost:8080/"
        },
        "id": "xkIYvK5SyL4X",
        "outputId": "a87350e7-4887-4798-9b29-b51af5fc99fc"
      },
      "execution_count": null,
      "outputs": [
        {
          "output_type": "stream",
          "name": "stdout",
          "text": [
            "main diagonal element:\n",
            " [11 34 67]\n",
            "diagonal element above main diagonal [121  56]\n"
          ]
        }
      ]
    },
    {
      "cell_type": "code",
      "source": [
        "p=np.ones([3,3],int)\n",
        "p"
      ],
      "metadata": {
        "colab": {
          "base_uri": "https://localhost:8080/"
        },
        "id": "WzRZim-Uyy7P",
        "outputId": "c27c9975-cd54-4c2d-a3e4-cc290cb3f0d5"
      },
      "execution_count": null,
      "outputs": [
        {
          "output_type": "execute_result",
          "data": {
            "text/plain": [
              "array([[1, 1, 1],\n",
              "       [1, 1, 1],\n",
              "       [1, 1, 1]])"
            ]
          },
          "metadata": {},
          "execution_count": 91
        }
      ]
    },
    {
      "cell_type": "code",
      "source": [
        "np.vstack([p,2*p])"
      ],
      "metadata": {
        "colab": {
          "base_uri": "https://localhost:8080/"
        },
        "id": "xkj0CylIzB4Q",
        "outputId": "533b64bd-48aa-4e47-8a0d-ce6e2d19b3de"
      },
      "execution_count": null,
      "outputs": [
        {
          "output_type": "execute_result",
          "data": {
            "text/plain": [
              "array([[1, 1, 1],\n",
              "       [1, 1, 1],\n",
              "       [1, 1, 1],\n",
              "       [2, 2, 2],\n",
              "       [2, 2, 2],\n",
              "       [2, 2, 2]])"
            ]
          },
          "metadata": {},
          "execution_count": 92
        }
      ]
    },
    {
      "cell_type": "code",
      "source": [
        "np.hstack([p,2*p])"
      ],
      "metadata": {
        "colab": {
          "base_uri": "https://localhost:8080/"
        },
        "id": "WXMcLe-Czg0p",
        "outputId": "3752de56-b328-4c78-bdfa-47a0f4b4d7de"
      },
      "execution_count": null,
      "outputs": [
        {
          "output_type": "execute_result",
          "data": {
            "text/plain": [
              "array([[1, 1, 1, 2, 2, 2],\n",
              "       [1, 1, 1, 2, 2, 2],\n",
              "       [1, 1, 1, 2, 2, 2]])"
            ]
          },
          "metadata": {},
          "execution_count": 93
        }
      ]
    }
  ]
}