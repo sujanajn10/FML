{
  "cells": [
    {
      "cell_type": "code",
      "source": [
        "x=5\n",
        "print('before')\n",
        "if x==5 :\n",
        "  print ('is 5')\n",
        "  print('is still 5')\n",
        "  print('third 5')\n",
        "print('afterwards')\n",
        "print('before 6')\n",
        "\n"
      ],
      "metadata": {
        "id": "DIRCauJiX2L8"
      },
      "execution_count": null,
      "outputs": []
    },
    {
      "cell_type": "code",
      "source": [
        "x=5\n",
        "if x>2 :\n",
        "  print(\"bigger then 2\")\n",
        "  print('still bigger')\n",
        "print(\"done with 2\")\n",
        "\n",
        "\n",
        "for i in range(5)  :\n",
        "  print(i)\n",
        "  if i>2 :\n",
        "    print('Bigger than 2')\n",
        "    print(\"done with i\",i)\n",
        "print('all done')"
      ],
      "metadata": {
        "id": "gwuFabDYaG6F"
      },
      "execution_count": null,
      "outputs": []
    },
    {
      "cell_type": "code",
      "source": [
        "x=42\n",
        "if x>1 :\n",
        "  print('more than one')\n",
        "  if x<100 :\n",
        "    print('less than 100')\n",
        "print('all done')\n"
      ],
      "metadata": {
        "id": "E6UoonEBbTA6",
        "outputId": "1106bc54-34fe-4224-cac7-9b74a7533b34",
        "colab": {
          "base_uri": "https://localhost:8080/"
        }
      },
      "execution_count": null,
      "outputs": [
        {
          "output_type": "stream",
          "name": "stdout",
          "text": [
            "more than one\n",
            "less than 100\n",
            "all done\n"
          ]
        }
      ]
    },
    {
      "cell_type": "code",
      "source": [
        "x=4\n",
        "if x>2 :\n",
        "  print('Bigger')\n",
        "else :\n",
        "  print('not bigger')\n",
        "print(\"all done\")"
      ],
      "metadata": {
        "colab": {
          "base_uri": "https://localhost:8080/"
        },
        "id": "a969iue8b_5x",
        "outputId": "de39a997-139b-4303-8034-9c04c28831fa"
      },
      "execution_count": null,
      "outputs": [
        {
          "output_type": "stream",
          "name": "stdout",
          "text": [
            "Bigger\n",
            "all done\n"
          ]
        }
      ]
    },
    {
      "cell_type": "code",
      "source": [
        "\n",
        "astr='hello bob'\n",
        "istr=int(astr)\n",
        "print('first',istr)"
      ],
      "metadata": {
        "colab": {
          "base_uri": "https://localhost:8080/",
          "height": 210
        },
        "id": "M5SLRJwpdRlx",
        "outputId": "a767048b-14f4-4b99-c997-fd4779c2bfd5"
      },
      "execution_count": null,
      "outputs": [
        {
          "output_type": "error",
          "ename": "ValueError",
          "evalue": "ignored",
          "traceback": [
            "\u001b[0;31m---------------------------------------------------------------------------\u001b[0m",
            "\u001b[0;31mValueError\u001b[0m                                Traceback (most recent call last)",
            "\u001b[0;32m<ipython-input-9-463e4a437f77>\u001b[0m in \u001b[0;36m<cell line: 2>\u001b[0;34m()\u001b[0m\n\u001b[1;32m      1\u001b[0m \u001b[0mastr\u001b[0m\u001b[0;34m=\u001b[0m\u001b[0;34m'hello bob'\u001b[0m\u001b[0;34m\u001b[0m\u001b[0;34m\u001b[0m\u001b[0m\n\u001b[0;32m----> 2\u001b[0;31m \u001b[0mistr\u001b[0m\u001b[0;34m=\u001b[0m\u001b[0mint\u001b[0m\u001b[0;34m(\u001b[0m\u001b[0mastr\u001b[0m\u001b[0;34m)\u001b[0m\u001b[0;34m\u001b[0m\u001b[0;34m\u001b[0m\u001b[0m\n\u001b[0m\u001b[1;32m      3\u001b[0m \u001b[0mprint\u001b[0m\u001b[0;34m(\u001b[0m\u001b[0;34m'first'\u001b[0m\u001b[0;34m,\u001b[0m\u001b[0mistr\u001b[0m\u001b[0;34m)\u001b[0m\u001b[0;34m\u001b[0m\u001b[0;34m\u001b[0m\u001b[0m\n",
            "\u001b[0;31mValueError\u001b[0m: invalid literal for int() with base 10: 'hello bob'"
          ]
        }
      ]
    },
    {
      "cell_type": "code",
      "source": [
        "astr='123'\n",
        "istr=int(astr)\n",
        "print('Second',istr)"
      ],
      "metadata": {
        "colab": {
          "base_uri": "https://localhost:8080/"
        },
        "id": "8g4nThOhdwNf",
        "outputId": "c5121f63-8e0c-4a77-ea93-7c30e91fcbac"
      },
      "execution_count": null,
      "outputs": [
        {
          "output_type": "stream",
          "name": "stdout",
          "text": [
            "Second 123\n"
          ]
        }
      ]
    },
    {
      "cell_type": "code",
      "source": [
        "astr='hello bob'\n",
        "istr=int(astr)    #rectify using try method\n",
        "print('first',istr)\n",
        "astr='123'\n",
        "istr=int(astr)\n",
        "print('Second',istr)"
      ],
      "metadata": {
        "colab": {
          "base_uri": "https://localhost:8080/",
          "height": 245
        },
        "id": "wRQGAquNd9A0",
        "outputId": "0299a5d8-3327-4960-ee65-836a892c4906"
      },
      "execution_count": null,
      "outputs": [
        {
          "output_type": "error",
          "ename": "ValueError",
          "evalue": "ignored",
          "traceback": [
            "\u001b[0;31m---------------------------------------------------------------------------\u001b[0m",
            "\u001b[0;31mValueError\u001b[0m                                Traceback (most recent call last)",
            "\u001b[0;32m<ipython-input-11-4e1d85b79e8d>\u001b[0m in \u001b[0;36m<cell line: 2>\u001b[0;34m()\u001b[0m\n\u001b[1;32m      1\u001b[0m \u001b[0mastr\u001b[0m\u001b[0;34m=\u001b[0m\u001b[0;34m'hello bob'\u001b[0m\u001b[0;34m\u001b[0m\u001b[0;34m\u001b[0m\u001b[0m\n\u001b[0;32m----> 2\u001b[0;31m \u001b[0mistr\u001b[0m\u001b[0;34m=\u001b[0m\u001b[0mint\u001b[0m\u001b[0;34m(\u001b[0m\u001b[0mastr\u001b[0m\u001b[0;34m)\u001b[0m\u001b[0;34m\u001b[0m\u001b[0;34m\u001b[0m\u001b[0m\n\u001b[0m\u001b[1;32m      3\u001b[0m \u001b[0mprint\u001b[0m\u001b[0;34m(\u001b[0m\u001b[0;34m'first'\u001b[0m\u001b[0;34m,\u001b[0m\u001b[0mistr\u001b[0m\u001b[0;34m)\u001b[0m\u001b[0;34m\u001b[0m\u001b[0;34m\u001b[0m\u001b[0m\n\u001b[1;32m      4\u001b[0m \u001b[0mastr\u001b[0m\u001b[0;34m=\u001b[0m\u001b[0;34m'123'\u001b[0m\u001b[0;34m\u001b[0m\u001b[0;34m\u001b[0m\u001b[0m\n\u001b[1;32m      5\u001b[0m \u001b[0mistr\u001b[0m\u001b[0;34m=\u001b[0m\u001b[0mint\u001b[0m\u001b[0;34m(\u001b[0m\u001b[0mastr\u001b[0m\u001b[0;34m)\u001b[0m\u001b[0;34m\u001b[0m\u001b[0;34m\u001b[0m\u001b[0m\n",
            "\u001b[0;31mValueError\u001b[0m: invalid literal for int() with base 10: 'hello bob'"
          ]
        }
      ]
    },
    {
      "cell_type": "code",
      "source": [
        "astr='hello Bob'\n",
        "try:\n",
        "  istr=int(astr)\n",
        "except:\n",
        "  istr=-1\n",
        "print('first',istr)\n",
        "istr=int(astr)\n"
      ],
      "metadata": {
        "id": "ww3s5cgdeVou"
      },
      "execution_count": null,
      "outputs": []
    },
    {
      "cell_type": "code",
      "source": [
        "astr=\"Bob\"\n",
        "try:\n",
        "  print('hello')\n",
        "  istr=int(astr)\n",
        "  print('there')\n",
        "except:\n",
        "  istr=-1\n",
        "print('done',istr)"
      ],
      "metadata": {
        "colab": {
          "base_uri": "https://localhost:8080/"
        },
        "id": "WbVQ0x28e4El",
        "outputId": "e5bebbc9-15c8-4855-a735-a43799d453aa"
      },
      "execution_count": null,
      "outputs": [
        {
          "output_type": "stream",
          "name": "stdout",
          "text": [
            "hello\n",
            "done -1\n"
          ]
        }
      ]
    },
    {
      "cell_type": "code",
      "source": [],
      "metadata": {
        "id": "x4MTFe2loCyn"
      },
      "execution_count": null,
      "outputs": []
    },
    {
      "cell_type": "code",
      "source": [
        "big=max('hello world')\n",
        "print(big)\n",
        "tiny=min('hello world')  #smallest word is space\n",
        "print(tiny)"
      ],
      "metadata": {
        "colab": {
          "base_uri": "https://localhost:8080/"
        },
        "id": "R3fe09eKl5QP",
        "outputId": "d6458850-86f2-4786-e542-a81f33d55a0d"
      },
      "execution_count": null,
      "outputs": [
        {
          "output_type": "stream",
          "name": "stdout",
          "text": [
            "w\n",
            " \n"
          ]
        }
      ]
    },
    {
      "cell_type": "code",
      "source": [
        "for i in [2,3,4,5,6,1]:\n",
        " print(i)"
      ],
      "metadata": {
        "colab": {
          "base_uri": "https://localhost:8080/"
        },
        "id": "Il4TVlMYoEBr",
        "outputId": "52aad62e-f2a4-4c67-e58a-0ee40eee2915"
      },
      "execution_count": null,
      "outputs": [
        {
          "output_type": "stream",
          "name": "stdout",
          "text": [
            "2\n",
            "3\n",
            "4\n",
            "5\n",
            "6\n",
            "1\n"
          ]
        }
      ]
    },
    {
      "cell_type": "code",
      "source": [
        "smallest=None\n",
        "print('before')\n",
        "for value in [1,2,3,4,56,6] :\n",
        "  if smallest is None :\n",
        "    smallest=value\n",
        "  elif value < smallest:\n",
        "      smallest=value\n",
        "print('after',smallest)"
      ],
      "metadata": {
        "colab": {
          "base_uri": "https://localhost:8080/"
        },
        "id": "4_kCkhRypOEJ",
        "outputId": "65ea0953-4fb6-439f-d6cf-b410ff2a14bf"
      },
      "execution_count": null,
      "outputs": [
        {
          "output_type": "stream",
          "name": "stdout",
          "text": [
            "before\n",
            "after 1\n"
          ]
        }
      ]
    },
    {
      "cell_type": "code",
      "source": [
        "smallest=None\n",
        "print('before')\n",
        "for value in [1,2,3,4,56,6] :\n",
        "  if smallest is None\n",
        "  elif value < smallest:\n",
        "      smallest=value\n",
        "print('after',smallest)"
      ],
      "metadata": {
        "id": "EWorTWcgqRoW"
      },
      "execution_count": null,
      "outputs": []
    },
    {
      "cell_type": "code",
      "source": [
        "hours=float(input(\"enter hours\"))\n",
        "Rate=float(input(\"enter rate\"))\n",
        "pay=hours*Rate\n",
        "print('pay:',pay)"
      ],
      "metadata": {
        "colab": {
          "base_uri": "https://localhost:8080/"
        },
        "id": "GkNxPmv1q9A-",
        "outputId": "826aaa65-754f-42dd-c0e4-30510d69c274"
      },
      "execution_count": null,
      "outputs": [
        {
          "output_type": "stream",
          "name": "stdout",
          "text": [
            "enter hours35\n",
            "enter rate2.75\n",
            "pay 96.25\n"
          ]
        }
      ]
    }
  ],
  "metadata": {
    "colab": {
      "provenance": []
    },
    "kernelspec": {
      "display_name": "Python 3",
      "name": "python3"
    }
  },
  "nbformat": 4,
  "nbformat_minor": 0
}